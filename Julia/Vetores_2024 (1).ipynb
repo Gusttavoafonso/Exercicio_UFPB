{
 "cells": [
  {
   "cell_type": "markdown",
   "metadata": {},
   "source": [
    "# Vetores"
   ]
  },
  {
   "cell_type": "markdown",
   "metadata": {},
   "source": [
    "Vetores em Julia são representados por objetos Array unidimensionais. Um vetor é construído fornecendo a lista de elementos entre colchetes, com os elementos separados por vírgulas ou ponto e vírgula. O operador de atribuição  =  é usado para dar um nome ao array."
   ]
  },
  {
   "cell_type": "code",
   "execution_count": 299,
   "metadata": {},
   "outputs": [
    {
     "data": {
      "text/plain": [
       "7-element Vector{Float64}:\n",
       " -1.1\n",
       "  0.0\n",
       "  3.9\n",
       " -7.2\n",
       "  1.0e6\n",
       "  1.0\n",
       " 98.0"
      ]
     },
     "execution_count": 299,
     "metadata": {},
     "output_type": "execute_result"
    }
   ],
   "source": [
    "x = [-1.1, 0.0, 3.9, -7.2, 1000000, 0001, 98]"
   ]
  },
  {
   "cell_type": "code",
   "execution_count": 300,
   "metadata": {},
   "outputs": [
    {
     "data": {
      "text/plain": [
       "7"
      ]
     },
     "execution_count": 300,
     "metadata": {},
     "output_type": "execute_result"
    }
   ],
   "source": [
    "length(x) # A função length retorna o tamanho (dimension) de x."
   ]
  },
  {
   "cell_type": "code",
   "execution_count": 302,
   "metadata": {},
   "outputs": [
    {
     "data": {
      "text/plain": [
       "4-element Vector{Float64}:\n",
       " -1.1\n",
       "  0.0\n",
       "  3.6\n",
       " -7.2"
      ]
     },
     "execution_count": 302,
     "metadata": {},
     "output_type": "execute_result"
    }
   ],
   "source": [
    "y = [-1.1; 0.0; 3.6; -7.2] # Usando ponto-e-vírgula"
   ]
  },
  {
   "cell_type": "code",
   "execution_count": 303,
   "metadata": {},
   "outputs": [
    {
     "data": {
      "text/plain": [
       "4"
      ]
     },
     "execution_count": 303,
     "metadata": {},
     "output_type": "execute_result"
    }
   ],
   "source": [
    "length(y)"
   ]
  },
  {
   "cell_type": "markdown",
   "metadata": {},
   "source": [
    "**Observação** Não se esqueça das vírgulas ou ponto e vírgula entre as entradas e certifique-se de usar colchetes para definir vetores."
   ]
  },
  {
   "cell_type": "code",
   "execution_count": 201,
   "metadata": {},
   "outputs": [
    {
     "data": {
      "text/plain": [
       "(1, 2)"
      ]
     },
     "execution_count": 201,
     "metadata": {},
     "output_type": "execute_result"
    }
   ],
   "source": [
    "a = [ 1, 2 ] # a é um vetor linha\n",
    "b = ( 1, 2 ) # b é uma tupla ou lista que consiste em dois escalares"
   ]
  },
  {
   "cell_type": "markdown",
   "metadata": {},
   "source": [
    "**Indexação.** Um elemento específico $x_i$ é recuperado pela expressão ```x[i]``` onde ```i``` é o índice (que vai de 1 a $n$, para um $n$-vetor). A indexação de matriz também pode ser usada no lado esquerdo de uma atribuição, para alterar o valor de um elemento específico."
   ]
  },
  {
   "cell_type": "code",
   "execution_count": 306,
   "metadata": {},
   "outputs": [
    {
     "data": {
      "text/plain": [
       "0.2"
      ]
     },
     "execution_count": 306,
     "metadata": {},
     "output_type": "execute_result"
    }
   ],
   "source": [
    "x = [ -3.1, 0.2, 4.6, -49.8, 2024.1 ];\n",
    "x[2]"
   ]
  },
  {
   "cell_type": "code",
   "execution_count": 307,
   "metadata": {},
   "outputs": [
    {
     "data": {
      "text/plain": [
       "5-element Vector{Float64}:\n",
       "   -3.1\n",
       "    0.2\n",
       "  100.5\n",
       "  -49.8\n",
       " 2024.1"
      ]
     },
     "execution_count": 307,
     "metadata": {},
     "output_type": "execute_result"
    }
   ],
   "source": [
    "x[3] = 100.5\n",
    "x"
   ]
  },
  {
   "cell_type": "code",
   "execution_count": 309,
   "metadata": {},
   "outputs": [
    {
     "data": {
      "text/plain": [
       "2024.1"
      ]
     },
     "execution_count": 309,
     "metadata": {},
     "output_type": "execute_result"
    }
   ],
   "source": [
    "x[end] # O índice especial end refere-se ao último índice do vetor x\n",
    "x[length(x)] # x[length(x)] fornecem a última entrada de x"
   ]
  },
  {
   "cell_type": "markdown",
   "metadata": {},
   "source": [
    "**IMPORTANTE: Atribuição X Cópia**. Em Julia, se ```x``` for um array a atribuição ```y = x``` dá um novo nome (ou referência) ```y``` ao *mesmo* o array já referenciado por ```x```. Ele não cria uma nova cópia do array ```x```."
   ]
  },
  {
   "cell_type": "code",
   "execution_count": 311,
   "metadata": {},
   "outputs": [
    {
     "data": {
      "text/plain": [
       "5-element Vector{Float64}:\n",
       " -3.1\n",
       "  0.2\n",
       "  4.6\n",
       "  1.0e7\n",
       " 45.1"
      ]
     },
     "execution_count": 311,
     "metadata": {},
     "output_type": "execute_result"
    }
   ],
   "source": [
    "x = [ -3.1, 0.2, 4.6, -49.8, 45.1 ]\n",
    "y = x\n",
    "x[4] = 10000000.0\n",
    "y #A atribuição a x[4] também altera y[4]"
   ]
  },
  {
   "cell_type": "code",
   "execution_count": 313,
   "metadata": {},
   "outputs": [
    {
     "data": {
      "text/plain": [
       "5-element Vector{Float64}:\n",
       " 2023.3\n",
       "    0.2\n",
       "    4.6\n",
       "    1.0e7\n",
       "   45.1"
      ]
     },
     "execution_count": 313,
     "metadata": {},
     "output_type": "execute_result"
    }
   ],
   "source": [
    "y[1] = 2023.3\n",
    "x"
   ]
  },
  {
   "cell_type": "markdown",
   "metadata": {},
   "source": [
    "Para criar uma nova cópia de um array, deve-se utilizar a função ```copy```."
   ]
  },
  {
   "cell_type": "code",
   "execution_count": 314,
   "metadata": {},
   "outputs": [
    {
     "data": {
      "text/plain": [
       "5-element Vector{Float64}:\n",
       "  -3.1\n",
       "   0.2\n",
       "   4.6\n",
       " -49.8\n",
       "  45.1"
      ]
     },
     "execution_count": 314,
     "metadata": {},
     "output_type": "execute_result"
    }
   ],
   "source": [
    "x = [ -3.1, 0.2, 4.6, -49.8, 45.1 ];\n",
    "y = copy(x)\n",
    "x[3] = 2023.355555555\n",
    "y"
   ]
  },
  {
   "cell_type": "code",
   "execution_count": 315,
   "metadata": {},
   "outputs": [
    {
     "data": {
      "text/plain": [
       "5-element Vector{Float64}:\n",
       "   -3.1\n",
       "    0.2\n",
       " 2023.355555555\n",
       "  -49.8\n",
       "   45.1"
      ]
     },
     "execution_count": 315,
     "metadata": {},
     "output_type": "execute_result"
    }
   ],
   "source": [
    "y[1] = 2000000.0\n",
    "x"
   ]
  },
  {
   "cell_type": "markdown",
   "metadata": {},
   "source": [
    "**Igualdade vetorial.** A igualdade de vetores é verificada usando o operador relacional ```==```. Para dois vetores (arrays) ```a``` e ```b```, a expressão  ```a==b``` é avaliada como ```true``` se os vetores (arrays) são iguais, *i.e.*, eles têm o mesmo tamanho e entradas idênticas, e ```false``` caso contrário."
   ]
  },
  {
   "cell_type": "code",
   "execution_count": 316,
   "metadata": {},
   "outputs": [
    {
     "data": {
      "text/plain": [
       "true"
      ]
     },
     "execution_count": 316,
     "metadata": {},
     "output_type": "execute_result"
    }
   ],
   "source": [
    "x = [ -3.1, 0.2, 4.6, -49.8, 45.1 ];\n",
    "y = copy(x)\n",
    "y[3] = 40004.0\n",
    "z = copy(x)\n",
    "z == x"
   ]
  },
  {
   "cell_type": "code",
   "execution_count": 317,
   "metadata": {},
   "outputs": [
    {
     "data": {
      "text/plain": [
       "true"
      ]
     },
     "execution_count": 317,
     "metadata": {},
     "output_type": "execute_result"
    }
   ],
   "source": [
    "z = x\n",
    "z[3] = 2023.0\n",
    "z == x"
   ]
  },
  {
   "cell_type": "markdown",
   "metadata": {},
   "source": [
    "**Observação: Escalares X vetores em $\\mathbb{R}^1$.** Na notação matemática, um vetor em $\\mathbb{R}^1$ é igual a um escalar. Mas em Julia, vetores em $\\mathbb{R}^1$ não são o mesmo que escalares."
   ]
  },
  {
   "cell_type": "code",
   "execution_count": 318,
   "metadata": {},
   "outputs": [
    {
     "data": {
      "text/plain": [
       "1-element Vector{Float64}:\n",
       " 3.14"
      ]
     },
     "execution_count": 318,
     "metadata": {},
     "output_type": "execute_result"
    }
   ],
   "source": [
    "x = [3.14]"
   ]
  },
  {
   "cell_type": "code",
   "execution_count": 319,
   "metadata": {},
   "outputs": [
    {
     "data": {
      "text/plain": [
       "3.14"
      ]
     },
     "execution_count": 319,
     "metadata": {},
     "output_type": "execute_result"
    }
   ],
   "source": [
    "y = 3.14"
   ]
  },
  {
   "cell_type": "code",
   "execution_count": 320,
   "metadata": {},
   "outputs": [
    {
     "data": {
      "text/plain": [
       "false"
      ]
     },
     "execution_count": 320,
     "metadata": {},
     "output_type": "execute_result"
    }
   ],
   "source": [
    "x == y"
   ]
  },
  {
   "cell_type": "code",
   "execution_count": 321,
   "metadata": {},
   "outputs": [
    {
     "data": {
      "text/plain": [
       "true"
      ]
     },
     "execution_count": 321,
     "metadata": {},
     "output_type": "execute_result"
    }
   ],
   "source": [
    "x[1] == y # x[1] é a primeira (e única) entrada de x, que é de fato o número 3.14."
   ]
  },
  {
   "cell_type": "markdown",
   "metadata": {},
   "source": [
    "**Vetores de blocos ou empilhados.** "
   ]
  },
  {
   "cell_type": "code",
   "execution_count": 323,
   "metadata": {},
   "outputs": [
    {
     "data": {
      "text/plain": [
       "5-element Vector{Float64}:\n",
       "  1.0\n",
       " -2.0\n",
       "  1.0\n",
       "  1.0\n",
       "  0.0"
      ]
     },
     "execution_count": 323,
     "metadata": {},
     "output_type": "execute_result"
    }
   ],
   "source": [
    "x = [ 1,-2];\n",
    "y = [1,1,0.0];\n",
    "z = [x ; y] # Concatenando usando ponto e vírgula"
   ]
  },
  {
   "cell_type": "code",
   "execution_count": 324,
   "metadata": {},
   "outputs": [
    {
     "data": {
      "text/plain": [
       "5-element Vector{Float64}:\n",
       "  1.0\n",
       " -2.0\n",
       "  1.0\n",
       "  1.0\n",
       "  0.0"
      ]
     },
     "execution_count": 324,
     "metadata": {},
     "output_type": "execute_result"
    }
   ],
   "source": [
    "z = vcat(x,y) # usando vcat (concatenação vertical) "
   ]
  },
  {
   "cell_type": "markdown",
   "metadata": {},
   "source": [
    "**Observação:**  ```z = (x,y)``` cria uma lista ou tupla dos dois vetores; ```z = [x,y]``` cria uma matriz dos dois vetores. Ambas são expressões válidas do Julia, mas nenhuma delas é o vetor empilhado ```[x;y]```."
   ]
  },
  {
   "cell_type": "markdown",
   "metadata": {},
   "source": [
    "**Subvetores e divisão:** A expressão ```r:s``` denota o intervalo do índice $r, r + 1,...,s$. (onde  ```r``` e ```s``` são inteiros positivos com ```r``` o menor dos dois.) Usamos $x[r:s] $ para denotar a fatia do vetor $x$ do índice $r$ para $s$."
   ]
  },
  {
   "cell_type": "code",
   "execution_count": 325,
   "metadata": {},
   "outputs": [
    {
     "data": {
      "text/plain": [
       "4-element Vector{Int64}:\n",
       "   56\n",
       "   10\n",
       " -100\n",
       " 2023"
      ]
     },
     "execution_count": 325,
     "metadata": {},
     "output_type": "execute_result"
    }
   ],
   "source": [
    "x = [20, 56, 10, -100, 2023, 200, -1, 33]\n",
    "y = x[2:5] # Extraimos um subvetor do vetor x usando um intervalo de índices como argumento."
   ]
  },
  {
   "cell_type": "code",
   "execution_count": 326,
   "metadata": {},
   "outputs": [
    {
     "data": {
      "text/plain": [
       "8-element Vector{Int64}:\n",
       "   20\n",
       "   56\n",
       "   10\n",
       " -100\n",
       " 2023\n",
       "   10\n",
       "  100\n",
       "   33"
      ]
     },
     "execution_count": 326,
     "metadata": {},
     "output_type": "execute_result"
    }
   ],
   "source": [
    "x[6:7] = [10, 100]; # Reatribuimos os valores das entradas 6 e 7 de x \n",
    "x"
   ]
  },
  {
   "cell_type": "markdown",
   "metadata": {},
   "source": [
    "**Indexando em arrays.** Podemos usar um intervalo de números com um terceiro argumento, que dá o passo, que é o incremento entre índices sucessivos. \n",
    "\n",
    "**Exemplo:** o intervalo de índices ```1:2:5``` é a lista de números ```1,3,5```. A expressão ```x[1:2:5]``` extrai o vetor em $\\mathbb{R}^3$ ```[20, 10, 2023]```, i. e., as entradas $x[1]$, $x[3]$ e $x[5]$ de $x$ definidas acima. \n",
    "\n",
    "Também podemos usar um intervalo de índices que é executado para trás. Para qualquer vetor ```z```, a expressão  ```z[end:-1:1]``` é o vetor reverso, ou seja, o vetor com os mesmos coeficientes, mas em ordem oposta."
   ]
  },
  {
   "cell_type": "markdown",
   "metadata": {},
   "source": [
    "**Vetor das diferenças:** Construiamos o vetor $d \\in \\mathbb{R}^{(n-1)}$  definido por $d_i = x_{i+1} - x_i$ para $i = 1,...,n - 1 $, onde $x \\in \\mathbb{R}^n$. O vetor $d$ é dito de vetor das (primeiras) diferenças de $x$.\n",
    "$$\n",
    "d =\\begin{bmatrix} d_{1}\\\\\n",
    "d_2\\\\\n",
    "\\vdots\\\\\n",
    "d_i\\\\\n",
    "\\vdots\\\\\n",
    "d_{n-1}\\end{bmatrix} =\n",
    "\\begin{bmatrix} x_{2} - x_1\\\\\n",
    "x_{3} - x_2\\\\\n",
    "\\vdots\\\\\n",
    "x_{i+1} - x_i\\\\\n",
    "\\vdots\\\\\n",
    "x_{n} - x_{n-1}\\end{bmatrix}\n",
    "$$"
   ]
  },
  {
   "cell_type": "code",
   "execution_count": 327,
   "metadata": {},
   "outputs": [
    {
     "data": {
      "text/plain": [
       "4-element Vector{Int64}:\n",
       "    90\n",
       "   900\n",
       " -1001\n",
       "   -33"
      ]
     },
     "execution_count": 327,
     "metadata": {},
     "output_type": "execute_result"
    }
   ],
   "source": [
    "x = [10, 100,1000,-1, -34];\n",
    "d = x[2:end] - x[1:end-1]"
   ]
  },
  {
   "cell_type": "markdown",
   "metadata": {},
   "source": [
    "**Lista de vetores.** Uma lista ordenada de vetores em $\\mathbb{R}^n$ pode ser denotada como $a_1,...,a_k$ ou $a^{(1)},...,a^{(k)}$ ou apenas como $a,b,c$. "
   ]
  },
  {
   "cell_type": "code",
   "execution_count": 328,
   "metadata": {},
   "outputs": [
    {
     "data": {
      "text/plain": [
       "3-element Vector{Vector{Float64}}:\n",
       " [1.0, 0.0]\n",
       " [1.0, -1.0]\n",
       " [0.0, 1.0]"
      ]
     },
     "execution_count": 328,
     "metadata": {},
     "output_type": "execute_result"
    }
   ],
   "source": [
    "x = [1.0, 0]; y = [1.0,-1.0]; z = [0,1.0];\n",
    "lista = [x,y,z]  # formamos uma matriz unidimensional de vetores."
   ]
  },
  {
   "cell_type": "code",
   "execution_count": 330,
   "metadata": {},
   "outputs": [
    {
     "data": {
      "text/plain": [
       "2-element Vector{Float64}:\n",
       " 0.0\n",
       " 1.0"
      ]
     },
     "execution_count": 330,
     "metadata": {},
     "output_type": "execute_result"
    }
   ],
   "source": [
    "lista[3] #Segundo elemento da lista"
   ]
  },
  {
   "cell_type": "code",
   "execution_count": 222,
   "metadata": {},
   "outputs": [
    {
     "data": {
      "text/plain": [
       "([1.0, 0.0], [1.0, -1.0], [0.0, 1.0])"
      ]
     },
     "execution_count": 222,
     "metadata": {},
     "output_type": "execute_result"
    }
   ],
   "source": [
    "lista = (x,y,z) # Se usamos parênteses obtemos uma tupla ou lista"
   ]
  },
  {
   "cell_type": "code",
   "execution_count": 223,
   "metadata": {},
   "outputs": [
    {
     "data": {
      "text/plain": [
       "2-element Vector{Float64}:\n",
       " 0.0\n",
       " 1.0"
      ]
     },
     "execution_count": 223,
     "metadata": {},
     "output_type": "execute_result"
    }
   ],
   "source": [
    "lista[3] # Usamos Para extrair o i-ésimo vetor da lista de vetores, use lista[i]."
   ]
  },
  {
   "cell_type": "markdown",
   "metadata": {},
   "source": [
    "**Observação:** Para extrair o $i$-ésimo vetor da lista de vetores, use ```lista[i]```. Para obter o $j$-ésimo elemento do $i$-ésimo vetor na lista, use ```lista[i][j]```."
   ]
  },
  {
   "cell_type": "markdown",
   "metadata": {},
   "source": [
    "## Vetores zero ##"
   ]
  },
  {
   "cell_type": "code",
   "execution_count": 224,
   "metadata": {},
   "outputs": [
    {
     "data": {
      "text/plain": [
       "7-element Vector{Float64}:\n",
       " 0.0\n",
       " 0.0\n",
       " 0.0\n",
       " 0.0\n",
       " 0.0\n",
       " 0.0\n",
       " 0.0"
      ]
     },
     "execution_count": 224,
     "metadata": {},
     "output_type": "execute_result"
    }
   ],
   "source": [
    "zeros(7) # a funçao zeros(n) Cria um vetor zero de dimensão $n$"
   ]
  },
  {
   "cell_type": "code",
   "execution_count": 225,
   "metadata": {},
   "outputs": [
    {
     "data": {
      "text/plain": [
       "2-element Vector{Float64}:\n",
       " 0.0\n",
       " 0.0"
      ]
     },
     "execution_count": 225,
     "metadata": {},
     "output_type": "execute_result"
    }
   ],
   "source": [
    "zeros(length(x)) # cria um vetor zero com o mesmo tamanho do vetor x"
   ]
  },
  {
   "cell_type": "markdown",
   "metadata": {},
   "source": [
    "**Vetores unitários**. Não há nenhuma função interna de Julia para criar $e_i$, o $i$-ésimo vetor unitário de comprimento $n$. "
   ]
  },
  {
   "cell_type": "code",
   "execution_count": 226,
   "metadata": {},
   "outputs": [
    {
     "data": {
      "text/plain": [
       "4-element Vector{Float64}:\n",
       " 0.0\n",
       " 1.0\n",
       " 0.0\n",
       " 0.0"
      ]
     },
     "execution_count": 226,
     "metadata": {},
     "output_type": "execute_result"
    }
   ],
   "source": [
    "# Criamos $e_i$, com $i = 2$ e $n = 4$\n",
    "i = 2; n = 4;\n",
    "ei = zeros(n); #Cria um vetor zero\n",
    "ei[i] = 1; #Defina a entrada i para 1\n",
    "ei"
   ]
  },
  {
   "cell_type": "markdown",
   "metadata": {},
   "source": [
    "Outra forma de criar $e_i$ usando concatenação"
   ]
  },
  {
   "cell_type": "code",
   "execution_count": 227,
   "metadata": {},
   "outputs": [
    {
     "data": {
      "text/plain": [
       "vetor_unit (generic function with 1 method)"
      ]
     },
     "execution_count": 227,
     "metadata": {},
     "output_type": "execute_result"
    }
   ],
   "source": [
    "vetor_unit(i,n) = [zeros(i-1); 1; zeros(n-i)]   # Criamos eᵢ usando concatenação"
   ]
  },
  {
   "cell_type": "code",
   "execution_count": 333,
   "metadata": {},
   "outputs": [
    {
     "data": {
      "text/plain": [
       "100-element Vector{Float64}:\n",
       " 1.0\n",
       " 0.0\n",
       " 0.0\n",
       " 0.0\n",
       " 0.0\n",
       " 0.0\n",
       " 0.0\n",
       " 0.0\n",
       " 0.0\n",
       " 0.0\n",
       " 0.0\n",
       " 0.0\n",
       " 0.0\n",
       " ⋮\n",
       " 0.0\n",
       " 0.0\n",
       " 0.0\n",
       " 0.0\n",
       " 0.0\n",
       " 0.0\n",
       " 0.0\n",
       " 0.0\n",
       " 0.0\n",
       " 0.0\n",
       " 0.0\n",
       " 0.0"
      ]
     },
     "execution_count": 333,
     "metadata": {},
     "output_type": "execute_result"
    }
   ],
   "source": [
    "vetor_unit(1,100)"
   ]
  },
  {
   "cell_type": "markdown",
   "metadata": {},
   "source": [
    "## Vetor de $1$'s\n",
    "Um vetor de uns de dimensão $n$, denotado $\\textbf1_n$ ou apenas $\\textbf1$, é criado usando ```ones(n)```."
   ]
  },
  {
   "cell_type": "code",
   "execution_count": 229,
   "metadata": {},
   "outputs": [
    {
     "data": {
      "text/plain": [
       "3-element Vector{Float64}:\n",
       " 1.0\n",
       " 1.0\n",
       " 1.0"
      ]
     },
     "execution_count": 229,
     "metadata": {},
     "output_type": "execute_result"
    }
   ],
   "source": [
    "ones(3)"
   ]
  },
  {
   "cell_type": "markdown",
   "metadata": {},
   "source": [
    "## Vetores aleatórios"
   ]
  },
  {
   "cell_type": "code",
   "execution_count": 230,
   "metadata": {},
   "outputs": [
    {
     "data": {
      "text/plain": [
       "3-element Vector{Float64}:\n",
       " 0.019379823241796323\n",
       " 0.9435914527768473\n",
       " 0.14553581839975416"
      ]
     },
     "execution_count": 230,
     "metadata": {},
     "output_type": "execute_result"
    }
   ],
   "source": [
    "rand(3) # gera um vetor aleatório de comprimento 3 com entradas que estão entre 0 e 1"
   ]
  },
  {
   "cell_type": "code",
   "execution_count": 231,
   "metadata": {},
   "outputs": [
    {
     "data": {
      "text/plain": [
       "3-element Vector{Float64}:\n",
       "  0.0008566597850246244\n",
       " -0.30054460485413953\n",
       "  1.1843398527864206"
      ]
     },
     "execution_count": 231,
     "metadata": {},
     "output_type": "execute_result"
    }
   ],
   "source": [
    "randn(3) # gera um vetor aletório de comprimento 3 com entradas que vêm de uma distribuição normal"
   ]
  },
  {
   "cell_type": "markdown",
   "metadata": {},
   "source": [
    "## Plotagem\n",
    "Existem vários pacotes externos para criar gráficos no Julia. Um desses pacotes é Plots.jl.\n"
   ]
  },
  {
   "cell_type": "code",
   "execution_count": 232,
   "metadata": {},
   "outputs": [],
   "source": [
    "using Plots # Importando o pacote para plotar"
   ]
  },
  {
   "cell_type": "code",
   "execution_count": 233,
   "metadata": {},
   "outputs": [],
   "source": [
    "temps = [33.9, 34.1, 34.1, 33.9, 33.5, 32.8, 31.6, 31.2, 32.4, 32.8, 34.3, 33.5];\n",
    "meses = [1, 2, 3, 4, 5, 6, 7, 8, 9, 10, 11, 12];"
   ]
  },
  {
   "cell_type": "code",
   "execution_count": 234,
   "metadata": {},
   "outputs": [
    {
     "data": {
      "image/png": "[encoded data removed]",
      "image/svg+xml": [
       "<?xml version=\"1.0\" encoding=\"utf-8\"?>\n",
       "<svg xmlns=\"http://www.w3.org/2000/svg\" xmlns:xlink=\"http://www.w3.org/1999/xlink\" width=\"600\" height=\"400\" viewBox=\"0 0 2400 1600\">\n",
       "<defs>\n",
       "  <clipPath id=\"clip910\">\n",
       "    <rect x=\"0\" y=\"0\" width=\"2400\" height=\"1600\"/>\n",
       "  </clipPath>\n",
       "</defs>\n",
       "<path clip-path=\"url(#clip910)\" d=\"M0 1600 L2400 1600 L2400 0 L0 0  Z\" fill=\"#ffffff\" fill-rule=\"evenodd\" fill-opacity=\"1\"/>\n",
       "<defs>\n",
       "  <clipPath id=\"clip911\">\n",
       "    <rect x=\"480\" y=\"0\" width=\"1681\" height=\"1600\"/>\n",
       "  </clipPath>\n",
       "</defs>\n",
       "<path clip-path=\"url(#clip910)\" d=\"M185.788 1486.45 L2352.76 1486.45 L2352.76 47.2441 L185.788 47.2441  Z\" fill=\"#ffffff\" fill-rule=\"evenodd\" fill-opacity=\"1\"/>\n",
       "<defs>\n",
       "  <clipPath id=\"clip912\">\n",
       "    <rect x=\"185\" y=\"47\" width=\"2168\" height=\"1440\"/>\n",
       "  </clipPath>\n",
       "</defs>\n",
       "<polyline clip-path=\"url(#clip910)\" style=\"stroke:#000000; stroke-linecap:round; stroke-linejoin:round; stroke-width:4; stroke-opacity:1; fill:none\" points=\"185.788,1486.45 2352.76,1486.45 \"/>\n",
       "<polyline clip-path=\"url(#clip910)\" style=\"stroke:#000000; stroke-linecap:round; stroke-linejoin:round; stroke-width:4; stroke-opacity:1; fill:none\" points=\"525.887,1486.45 525.887,1467.55 \"/>\n",
       "<polyline clip-path=\"url(#clip910)\" style=\"stroke:#000000; stroke-linecap:round; stroke-linejoin:round; stroke-width:4; stroke-opacity:1; fill:none\" points=\"990.502,1486.45 990.502,1467.55 \"/>\n",
       "<polyline clip-path=\"url(#clip910)\" style=\"stroke:#000000; stroke-linecap:round; stroke-linejoin:round; stroke-width:4; stroke-opacity:1; fill:none\" points=\"1455.12,1486.45 1455.12,1467.55 \"/>\n",
       "<polyline clip-path=\"url(#clip910)\" style=\"stroke:#000000; stroke-linecap:round; stroke-linejoin:round; stroke-width:4; stroke-opacity:1; fill:none\" points=\"1919.73,1486.45 1919.73,1467.55 \"/>\n",
       "<path clip-path=\"url(#clip910)\" d=\"M497.623 1544.91 L513.942 1544.91 L513.942 1548.85 L491.998 1548.85 L491.998 1544.91 Q494.66 1542.16 499.243 1537.53 Q503.85 1532.88 505.03 1531.53 Q507.276 1529.01 508.155 1527.27 Q509.058 1525.51 509.058 1523.82 Q509.058 1521.07 507.114 1519.33 Q505.192 1517.6 502.09 1517.6 Q499.891 1517.6 497.438 1518.36 Q495.007 1519.13 492.229 1520.68 L492.229 1515.95 Q495.053 1514.82 497.507 1514.24 Q499.961 1513.66 501.998 1513.66 Q507.368 1513.66 510.563 1516.35 Q513.757 1519.03 513.757 1523.52 Q513.757 1525.65 512.947 1527.57 Q512.16 1529.47 510.053 1532.07 Q509.475 1532.74 506.373 1535.95 Q503.271 1539.15 497.623 1544.91 Z\" fill=\"#000000\" fill-rule=\"nonzero\" fill-opacity=\"1\" /><path clip-path=\"url(#clip910)\" d=\"M523.757 1542.97 L528.641 1542.97 L528.641 1548.85 L523.757 1548.85 L523.757 1542.97 Z\" fill=\"#000000\" fill-rule=\"nonzero\" fill-opacity=\"1\" /><path clip-path=\"url(#clip910)\" d=\"M538.873 1514.29 L557.229 1514.29 L557.229 1518.22 L543.155 1518.22 L543.155 1526.7 Q544.174 1526.35 545.192 1526.19 Q546.211 1526 547.229 1526 Q553.016 1526 556.396 1529.17 Q559.775 1532.34 559.775 1537.76 Q559.775 1543.34 556.303 1546.44 Q552.831 1549.52 546.512 1549.52 Q544.336 1549.52 542.067 1549.15 Q539.822 1548.78 537.414 1548.04 L537.414 1543.34 Q539.498 1544.47 541.72 1545.03 Q543.942 1545.58 546.419 1545.58 Q550.424 1545.58 552.762 1543.48 Q555.099 1541.37 555.099 1537.76 Q555.099 1534.15 552.762 1532.04 Q550.424 1529.94 546.419 1529.94 Q544.544 1529.94 542.669 1530.35 Q540.817 1530.77 538.873 1531.65 L538.873 1514.29 Z\" fill=\"#000000\" fill-rule=\"nonzero\" fill-opacity=\"1\" /><path clip-path=\"url(#clip910)\" d=\"M957.667 1514.29 L976.023 1514.29 L976.023 1518.22 L961.949 1518.22 L961.949 1526.7 Q962.968 1526.35 963.986 1526.19 Q965.005 1526 966.023 1526 Q971.81 1526 975.19 1529.17 Q978.57 1532.34 978.57 1537.76 Q978.57 1543.34 975.097 1546.44 Q971.625 1549.52 965.306 1549.52 Q963.13 1549.52 960.861 1549.15 Q958.616 1548.78 956.209 1548.04 L956.209 1543.34 Q958.292 1544.47 960.514 1545.03 Q962.736 1545.58 965.213 1545.58 Q969.218 1545.58 971.556 1543.48 Q973.894 1541.37 973.894 1537.76 Q973.894 1534.15 971.556 1532.04 Q969.218 1529.94 965.213 1529.94 Q963.338 1529.94 961.463 1530.35 Q959.611 1530.77 957.667 1531.65 L957.667 1514.29 Z\" fill=\"#000000\" fill-rule=\"nonzero\" fill-opacity=\"1\" /><path clip-path=\"url(#clip910)\" d=\"M987.783 1542.97 L992.667 1542.97 L992.667 1548.85 L987.783 1548.85 L987.783 1542.97 Z\" fill=\"#000000\" fill-rule=\"nonzero\" fill-opacity=\"1\" /><path clip-path=\"url(#clip910)\" d=\"M1012.85 1517.37 Q1009.24 1517.37 1007.41 1520.93 Q1005.61 1524.47 1005.61 1531.6 Q1005.61 1538.71 1007.41 1542.27 Q1009.24 1545.82 1012.85 1545.82 Q1016.49 1545.82 1018.29 1542.27 Q1020.12 1538.71 1020.12 1531.6 Q1020.12 1524.47 1018.29 1520.93 Q1016.49 1517.37 1012.85 1517.37 M1012.85 1513.66 Q1018.66 1513.66 1021.72 1518.27 Q1024.8 1522.85 1024.8 1531.6 Q1024.8 1540.33 1021.72 1544.94 Q1018.66 1549.52 1012.85 1549.52 Q1007.04 1549.52 1003.96 1544.94 Q1000.91 1540.33 1000.91 1531.6 Q1000.91 1522.85 1003.96 1518.27 Q1007.04 1513.66 1012.85 1513.66 Z\" fill=\"#000000\" fill-rule=\"nonzero\" fill-opacity=\"1\" /><path clip-path=\"url(#clip910)\" d=\"M1421.44 1514.29 L1443.66 1514.29 L1443.66 1516.28 L1431.11 1548.85 L1426.23 1548.85 L1438.03 1518.22 L1421.44 1518.22 L1421.44 1514.29 Z\" fill=\"#000000\" fill-rule=\"nonzero\" fill-opacity=\"1\" /><path clip-path=\"url(#clip910)\" d=\"M1452.78 1542.97 L1457.66 1542.97 L1457.66 1548.85 L1452.78 1548.85 L1452.78 1542.97 Z\" fill=\"#000000\" fill-rule=\"nonzero\" fill-opacity=\"1\" /><path clip-path=\"url(#clip910)\" d=\"M1467.9 1514.29 L1486.25 1514.29 L1486.25 1518.22 L1472.18 1518.22 L1472.18 1526.7 Q1473.2 1526.35 1474.22 1526.19 Q1475.23 1526 1476.25 1526 Q1482.04 1526 1485.42 1529.17 Q1488.8 1532.34 1488.8 1537.76 Q1488.8 1543.34 1485.33 1546.44 Q1481.85 1549.52 1475.53 1549.52 Q1473.36 1549.52 1471.09 1549.15 Q1468.84 1548.78 1466.44 1548.04 L1466.44 1543.34 Q1468.52 1544.47 1470.74 1545.03 Q1472.97 1545.58 1475.44 1545.58 Q1479.45 1545.58 1481.78 1543.48 Q1484.12 1541.37 1484.12 1537.76 Q1484.12 1534.15 1481.78 1532.04 Q1479.45 1529.94 1475.44 1529.94 Q1473.57 1529.94 1471.69 1530.35 Q1469.84 1530.77 1467.9 1531.65 L1467.9 1514.29 Z\" fill=\"#000000\" fill-rule=\"nonzero\" fill-opacity=\"1\" /><path clip-path=\"url(#clip910)\" d=\"M1871.81 1544.91 L1879.44 1544.91 L1879.44 1518.55 L1871.13 1520.21 L1871.13 1515.95 L1879.4 1514.29 L1884.07 1514.29 L1884.07 1544.91 L1891.71 1544.91 L1891.71 1548.85 L1871.81 1548.85 L1871.81 1544.91 Z\" fill=\"#000000\" fill-rule=\"nonzero\" fill-opacity=\"1\" /><path clip-path=\"url(#clip910)\" d=\"M1911.16 1517.37 Q1907.55 1517.37 1905.72 1520.93 Q1903.91 1524.47 1903.91 1531.6 Q1903.91 1538.71 1905.72 1542.27 Q1907.55 1545.82 1911.16 1545.82 Q1914.79 1545.82 1916.6 1542.27 Q1918.43 1538.71 1918.43 1531.6 Q1918.43 1524.47 1916.6 1520.93 Q1914.79 1517.37 1911.16 1517.37 M1911.16 1513.66 Q1916.97 1513.66 1920.02 1518.27 Q1923.1 1522.85 1923.1 1531.6 Q1923.1 1540.33 1920.02 1544.94 Q1916.97 1549.52 1911.16 1549.52 Q1905.35 1549.52 1902.27 1544.94 Q1899.21 1540.33 1899.21 1531.6 Q1899.21 1522.85 1902.27 1518.27 Q1905.35 1513.66 1911.16 1513.66 Z\" fill=\"#000000\" fill-rule=\"nonzero\" fill-opacity=\"1\" /><path clip-path=\"url(#clip910)\" d=\"M1931.32 1542.97 L1936.2 1542.97 L1936.2 1548.85 L1931.32 1548.85 L1931.32 1542.97 Z\" fill=\"#000000\" fill-rule=\"nonzero\" fill-opacity=\"1\" /><path clip-path=\"url(#clip910)\" d=\"M1956.39 1517.37 Q1952.78 1517.37 1950.95 1520.93 Q1949.14 1524.47 1949.14 1531.6 Q1949.14 1538.71 1950.95 1542.27 Q1952.78 1545.82 1956.39 1545.82 Q1960.02 1545.82 1961.83 1542.27 Q1963.66 1538.71 1963.66 1531.6 Q1963.66 1524.47 1961.83 1520.93 Q1960.02 1517.37 1956.39 1517.37 M1956.39 1513.66 Q1962.2 1513.66 1965.25 1518.27 Q1968.33 1522.85 1968.33 1531.6 Q1968.33 1540.33 1965.25 1544.94 Q1962.2 1549.52 1956.39 1549.52 Q1950.58 1549.52 1947.5 1544.94 Q1944.44 1540.33 1944.44 1531.6 Q1944.44 1522.85 1947.5 1518.27 Q1950.58 1513.66 1956.39 1513.66 Z\" fill=\"#000000\" fill-rule=\"nonzero\" fill-opacity=\"1\" /><polyline clip-path=\"url(#clip910)\" style=\"stroke:#000000; stroke-linecap:round; stroke-linejoin:round; stroke-width:4; stroke-opacity:1; fill:none\" points=\"185.788,1486.45 185.788,47.2441 \"/>\n",
       "<polyline clip-path=\"url(#clip910)\" style=\"stroke:#000000; stroke-linecap:round; stroke-linejoin:round; stroke-width:4; stroke-opacity:1; fill:none\" points=\"185.788,1314.32 204.686,1314.32 \"/>\n",
       "<polyline clip-path=\"url(#clip910)\" style=\"stroke:#000000; stroke-linecap:round; stroke-linejoin:round; stroke-width:4; stroke-opacity:1; fill:none\" points=\"185.788,1095.33 204.686,1095.33 \"/>\n",
       "<polyline clip-path=\"url(#clip910)\" style=\"stroke:#000000; stroke-linecap:round; stroke-linejoin:round; stroke-width:4; stroke-opacity:1; fill:none\" points=\"185.788,876.341 204.686,876.341 \"/>\n",
       "<polyline clip-path=\"url(#clip910)\" style=\"stroke:#000000; stroke-linecap:round; stroke-linejoin:round; stroke-width:4; stroke-opacity:1; fill:none\" points=\"185.788,657.351 204.686,657.351 \"/>\n",
       "<polyline clip-path=\"url(#clip910)\" style=\"stroke:#000000; stroke-linecap:round; stroke-linejoin:round; stroke-width:4; stroke-opacity:1; fill:none\" points=\"185.788,438.361 204.686,438.361 \"/>\n",
       "<polyline clip-path=\"url(#clip910)\" style=\"stroke:#000000; stroke-linecap:round; stroke-linejoin:round; stroke-width:4; stroke-opacity:1; fill:none\" points=\"185.788,219.37 204.686,219.37 \"/>\n",
       "<path clip-path=\"url(#clip910)\" d=\"M67.6124 1312.97 Q70.9689 1313.68 72.8439 1315.95 Q74.742 1318.22 74.742 1321.56 Q74.742 1326.67 71.2235 1329.47 Q67.705 1332.27 61.2236 1332.27 Q59.0476 1332.27 56.7328 1331.83 Q54.4412 1331.42 51.9875 1330.56 L51.9875 1326.05 Q53.9319 1327.18 56.2467 1327.76 Q58.5615 1328.34 61.0847 1328.34 Q65.4828 1328.34 67.7744 1326.6 Q70.0892 1324.87 70.0892 1321.56 Q70.0892 1318.5 67.9365 1316.79 Q65.8069 1315.05 61.9874 1315.05 L57.9597 1315.05 L57.9597 1311.21 L62.1726 1311.21 Q65.6217 1311.21 67.4504 1309.84 Q69.2791 1308.45 69.2791 1305.86 Q69.2791 1303.2 67.3809 1301.79 Q65.5059 1300.35 61.9874 1300.35 Q60.0662 1300.35 57.8671 1300.77 Q55.668 1301.19 53.0292 1302.06 L53.0292 1297.9 Q55.6912 1297.16 58.006 1296.79 Q60.3439 1296.42 62.4041 1296.42 Q67.7281 1296.42 70.83 1298.85 Q73.9318 1301.25 73.9318 1305.37 Q73.9318 1308.25 72.2883 1310.24 Q70.6448 1312.2 67.6124 1312.97 Z\" fill=\"#000000\" fill-rule=\"nonzero\" fill-opacity=\"1\" /><path clip-path=\"url(#clip910)\" d=\"M84.4179 1327.67 L92.0567 1327.67 L92.0567 1301.3 L83.7466 1302.97 L83.7466 1298.71 L92.0104 1297.04 L96.6863 1297.04 L96.6863 1327.67 L104.325 1327.67 L104.325 1331.6 L84.4179 1331.6 L84.4179 1327.67 Z\" fill=\"#000000\" fill-rule=\"nonzero\" fill-opacity=\"1\" /><path clip-path=\"url(#clip910)\" d=\"M113.77 1325.72 L118.654 1325.72 L118.654 1331.6 L113.77 1331.6 L113.77 1325.72 Z\" fill=\"#000000\" fill-rule=\"nonzero\" fill-opacity=\"1\" /><path clip-path=\"url(#clip910)\" d=\"M128.885 1297.04 L147.242 1297.04 L147.242 1300.98 L133.168 1300.98 L133.168 1309.45 Q134.186 1309.1 135.205 1308.94 Q136.223 1308.75 137.242 1308.75 Q143.029 1308.75 146.408 1311.93 Q149.788 1315.1 149.788 1320.51 Q149.788 1326.09 146.316 1329.19 Q142.843 1332.27 136.524 1332.27 Q134.348 1332.27 132.08 1331.9 Q129.834 1331.53 127.427 1330.79 L127.427 1326.09 Q129.51 1327.23 131.732 1327.78 Q133.955 1328.34 136.431 1328.34 Q140.436 1328.34 142.774 1326.23 Q145.112 1324.12 145.112 1320.51 Q145.112 1316.9 142.774 1314.8 Q140.436 1312.69 136.431 1312.69 Q134.556 1312.69 132.682 1313.11 Q130.83 1313.52 128.885 1314.4 L128.885 1297.04 Z\" fill=\"#000000\" fill-rule=\"nonzero\" fill-opacity=\"1\" /><path clip-path=\"url(#clip910)\" d=\"M66.617 1093.98 Q69.9735 1094.69 71.8485 1096.96 Q73.7466 1099.23 73.7466 1102.57 Q73.7466 1107.68 70.2281 1110.48 Q66.7096 1113.28 60.2282 1113.28 Q58.0523 1113.28 55.7375 1112.84 Q53.4458 1112.43 50.9921 1111.57 L50.9921 1107.06 Q52.9366 1108.19 55.2514 1108.77 Q57.5662 1109.35 60.0893 1109.35 Q64.4874 1109.35 66.7791 1107.61 Q69.0939 1105.88 69.0939 1102.57 Q69.0939 1099.51 66.9411 1097.8 Q64.8115 1096.06 60.9921 1096.06 L56.9643 1096.06 L56.9643 1092.22 L61.1773 1092.22 Q64.6263 1092.22 66.455 1090.85 Q68.2837 1089.46 68.2837 1086.87 Q68.2837 1084.21 66.3856 1082.8 Q64.5106 1081.36 60.9921 1081.36 Q59.0708 1081.36 56.8717 1081.78 Q54.6727 1082.19 52.0338 1083.07 L52.0338 1078.91 Q54.6958 1078.17 57.0106 1077.8 Q59.3486 1077.43 61.4087 1077.43 Q66.7328 1077.43 69.8346 1079.86 Q72.9365 1082.26 72.9365 1086.38 Q72.9365 1089.25 71.2929 1091.25 Q69.6494 1093.21 66.617 1093.98 Z\" fill=\"#000000\" fill-rule=\"nonzero\" fill-opacity=\"1\" /><path clip-path=\"url(#clip910)\" d=\"M86.6401 1108.68 L102.959 1108.68 L102.959 1112.61 L81.0151 1112.61 L81.0151 1108.68 Q83.6771 1105.92 88.2604 1101.29 Q92.8669 1096.64 94.0475 1095.3 Q96.2928 1092.77 97.1724 1091.04 Q98.0752 1089.28 98.0752 1087.59 Q98.0752 1084.83 96.1308 1083.1 Q94.2095 1081.36 91.1077 1081.36 Q88.9086 1081.36 86.4549 1082.13 Q84.0244 1082.89 81.2466 1084.44 L81.2466 1079.72 Q84.0707 1078.58 86.5243 1078.01 Q88.978 1077.43 91.0151 1077.43 Q96.3854 1077.43 99.5798 1080.11 Q102.774 1082.8 102.774 1087.29 Q102.774 1089.42 101.964 1091.34 Q101.177 1093.24 99.0706 1095.83 Q98.4919 1096.5 95.39 1099.72 Q92.2882 1102.91 86.6401 1108.68 Z\" fill=\"#000000\" fill-rule=\"nonzero\" fill-opacity=\"1\" /><path clip-path=\"url(#clip910)\" d=\"M112.774 1106.73 L117.658 1106.73 L117.658 1112.61 L112.774 1112.61 L112.774 1106.73 Z\" fill=\"#000000\" fill-rule=\"nonzero\" fill-opacity=\"1\" /><path clip-path=\"url(#clip910)\" d=\"M137.844 1081.13 Q134.232 1081.13 132.404 1084.69 Q130.598 1088.24 130.598 1095.37 Q130.598 1102.47 132.404 1106.04 Q134.232 1109.58 137.844 1109.58 Q141.478 1109.58 143.283 1106.04 Q145.112 1102.47 145.112 1095.37 Q145.112 1088.24 143.283 1084.69 Q141.478 1081.13 137.844 1081.13 M137.844 1077.43 Q143.654 1077.43 146.709 1082.03 Q149.788 1086.62 149.788 1095.37 Q149.788 1104.09 146.709 1108.7 Q143.654 1113.28 137.844 1113.28 Q132.033 1113.28 128.955 1108.7 Q125.899 1104.09 125.899 1095.37 Q125.899 1086.62 128.955 1082.03 Q132.033 1077.43 137.844 1077.43 Z\" fill=\"#000000\" fill-rule=\"nonzero\" fill-opacity=\"1\" /><path clip-path=\"url(#clip910)\" d=\"M67.6124 874.987 Q70.9689 875.705 72.8439 877.973 Q74.742 880.242 74.742 883.575 Q74.742 888.691 71.2235 891.491 Q67.705 894.292 61.2236 894.292 Q59.0476 894.292 56.7328 893.853 Q54.4412 893.436 51.9875 892.579 L51.9875 888.066 Q53.9319 889.2 56.2467 889.779 Q58.5615 890.357 61.0847 890.357 Q65.4828 890.357 67.7744 888.621 Q70.0892 886.885 70.0892 883.575 Q70.0892 880.519 67.9365 878.806 Q65.8069 877.07 61.9874 877.07 L57.9597 877.07 L57.9597 873.228 L62.1726 873.228 Q65.6217 873.228 67.4504 871.862 Q69.2791 870.473 69.2791 867.88 Q69.2791 865.218 67.3809 863.806 Q65.5059 862.371 61.9874 862.371 Q60.0662 862.371 57.8671 862.788 Q55.668 863.205 53.0292 864.084 L53.0292 859.918 Q55.6912 859.177 58.006 858.806 Q60.3439 858.436 62.4041 858.436 Q67.7281 858.436 70.83 860.867 Q73.9318 863.274 73.9318 867.394 Q73.9318 870.265 72.2883 872.255 Q70.6448 874.223 67.6124 874.987 Z\" fill=\"#000000\" fill-rule=\"nonzero\" fill-opacity=\"1\" /><path clip-path=\"url(#clip910)\" d=\"M87.6354 889.686 L103.955 889.686 L103.955 893.621 L82.0105 893.621 L82.0105 889.686 Q84.6725 886.931 89.2558 882.302 Q93.8623 877.649 95.0428 876.306 Q97.2882 873.783 98.1678 872.047 Q99.0706 870.288 99.0706 868.598 Q99.0706 865.843 97.1261 864.107 Q95.2049 862.371 92.103 862.371 Q89.904 862.371 87.4503 863.135 Q85.0197 863.899 82.242 865.45 L82.242 860.728 Q85.066 859.594 87.5197 859.015 Q89.9734 858.436 92.0104 858.436 Q97.3808 858.436 100.575 861.121 Q103.77 863.806 103.77 868.297 Q103.77 870.427 102.959 872.348 Q102.172 874.246 100.066 876.839 Q99.4872 877.51 96.3854 880.728 Q93.2836 883.922 87.6354 889.686 Z\" fill=\"#000000\" fill-rule=\"nonzero\" fill-opacity=\"1\" /><path clip-path=\"url(#clip910)\" d=\"M113.77 887.742 L118.654 887.742 L118.654 893.621 L113.77 893.621 L113.77 887.742 Z\" fill=\"#000000\" fill-rule=\"nonzero\" fill-opacity=\"1\" /><path clip-path=\"url(#clip910)\" d=\"M128.885 859.061 L147.242 859.061 L147.242 862.996 L133.168 862.996 L133.168 871.468 Q134.186 871.121 135.205 870.959 Q136.223 870.774 137.242 870.774 Q143.029 870.774 146.408 873.945 Q149.788 877.117 149.788 882.533 Q149.788 888.112 146.316 891.214 Q142.843 894.292 136.524 894.292 Q134.348 894.292 132.08 893.922 Q129.834 893.552 127.427 892.811 L127.427 888.112 Q129.51 889.246 131.732 889.802 Q133.955 890.357 136.431 890.357 Q140.436 890.357 142.774 888.251 Q145.112 886.144 145.112 882.533 Q145.112 878.922 142.774 876.816 Q140.436 874.709 136.431 874.709 Q134.556 874.709 132.682 875.126 Q130.83 875.542 128.885 876.422 L128.885 859.061 Z\" fill=\"#000000\" fill-rule=\"nonzero\" fill-opacity=\"1\" /><path clip-path=\"url(#clip910)\" d=\"M66.617 655.997 Q69.9735 656.714 71.8485 658.983 Q73.7466 661.251 73.7466 664.585 Q73.7466 669.7 70.2281 672.501 Q66.7096 675.302 60.2282 675.302 Q58.0523 675.302 55.7375 674.862 Q53.4458 674.446 50.9921 673.589 L50.9921 669.075 Q52.9366 670.21 55.2514 670.788 Q57.5662 671.367 60.0893 671.367 Q64.4874 671.367 66.7791 669.631 Q69.0939 667.895 69.0939 664.585 Q69.0939 661.529 66.9411 659.816 Q64.8115 658.08 60.9921 658.08 L56.9643 658.08 L56.9643 654.237 L61.1773 654.237 Q64.6263 654.237 66.455 652.872 Q68.2837 651.483 68.2837 648.89 Q68.2837 646.228 66.3856 644.816 Q64.5106 643.381 60.9921 643.381 Q59.0708 643.381 56.8717 643.798 Q54.6727 644.214 52.0338 645.094 L52.0338 640.927 Q54.6958 640.187 57.0106 639.816 Q59.3486 639.446 61.4087 639.446 Q66.7328 639.446 69.8346 641.876 Q72.9365 644.284 72.9365 648.404 Q72.9365 651.275 71.2929 653.265 Q69.6494 655.233 66.617 655.997 Z\" fill=\"#000000\" fill-rule=\"nonzero\" fill-opacity=\"1\" /><path clip-path=\"url(#clip910)\" d=\"M96.7789 655.997 Q100.135 656.714 102.01 658.983 Q103.909 661.251 103.909 664.585 Q103.909 669.7 100.39 672.501 Q96.8715 675.302 90.3901 675.302 Q88.2141 675.302 85.8993 674.862 Q83.6077 674.446 81.154 673.589 L81.154 669.075 Q83.0984 670.21 85.4132 670.788 Q87.728 671.367 90.2512 671.367 Q94.6493 671.367 96.941 669.631 Q99.2558 667.895 99.2558 664.585 Q99.2558 661.529 97.103 659.816 Q94.9734 658.08 91.1539 658.08 L87.1262 658.08 L87.1262 654.237 L91.3391 654.237 Q94.7882 654.237 96.6169 652.872 Q98.4456 651.483 98.4456 648.89 Q98.4456 646.228 96.5474 644.816 Q94.6724 643.381 91.1539 643.381 Q89.2327 643.381 87.0336 643.798 Q84.8345 644.214 82.1957 645.094 L82.1957 640.927 Q84.8577 640.187 87.1725 639.816 Q89.5104 639.446 91.5706 639.446 Q96.8947 639.446 99.9965 641.876 Q103.098 644.284 103.098 648.404 Q103.098 651.275 101.455 653.265 Q99.8113 655.233 96.7789 655.997 Z\" fill=\"#000000\" fill-rule=\"nonzero\" fill-opacity=\"1\" /><path clip-path=\"url(#clip910)\" d=\"M112.774 668.751 L117.658 668.751 L117.658 674.631 L112.774 674.631 L112.774 668.751 Z\" fill=\"#000000\" fill-rule=\"nonzero\" fill-opacity=\"1\" /><path clip-path=\"url(#clip910)\" d=\"M137.844 643.15 Q134.232 643.15 132.404 646.714 Q130.598 650.256 130.598 657.386 Q130.598 664.492 132.404 668.057 Q134.232 671.598 137.844 671.598 Q141.478 671.598 143.283 668.057 Q145.112 664.492 145.112 657.386 Q145.112 650.256 143.283 646.714 Q141.478 643.15 137.844 643.15 M137.844 639.446 Q143.654 639.446 146.709 644.052 Q149.788 648.636 149.788 657.386 Q149.788 666.112 146.709 670.719 Q143.654 675.302 137.844 675.302 Q132.033 675.302 128.955 670.719 Q125.899 666.112 125.899 657.386 Q125.899 648.636 128.955 644.052 Q132.033 639.446 137.844 639.446 Z\" fill=\"#000000\" fill-rule=\"nonzero\" fill-opacity=\"1\" /><path clip-path=\"url(#clip910)\" d=\"M67.6124 437.006 Q70.9689 437.724 72.8439 439.993 Q74.742 442.261 74.742 445.594 Q74.742 450.71 71.2235 453.511 Q67.705 456.312 61.2236 456.312 Q59.0476 456.312 56.7328 455.872 Q54.4412 455.455 51.9875 454.599 L51.9875 450.085 Q53.9319 451.219 56.2467 451.798 Q58.5615 452.377 61.0847 452.377 Q65.4828 452.377 67.7744 450.641 Q70.0892 448.905 70.0892 445.594 Q70.0892 442.539 67.9365 440.826 Q65.8069 439.09 61.9874 439.09 L57.9597 439.09 L57.9597 435.247 L62.1726 435.247 Q65.6217 435.247 67.4504 433.881 Q69.2791 432.493 69.2791 429.9 Q69.2791 427.238 67.3809 425.826 Q65.5059 424.391 61.9874 424.391 Q60.0662 424.391 57.8671 424.807 Q55.668 425.224 53.0292 426.104 L53.0292 421.937 Q55.6912 421.196 58.006 420.826 Q60.3439 420.456 62.4041 420.456 Q67.7281 420.456 70.83 422.886 Q73.9318 425.294 73.9318 429.414 Q73.9318 432.284 72.2883 434.275 Q70.6448 436.243 67.6124 437.006 Z\" fill=\"#000000\" fill-rule=\"nonzero\" fill-opacity=\"1\" /><path clip-path=\"url(#clip910)\" d=\"M97.7743 437.006 Q101.131 437.724 103.006 439.993 Q104.904 442.261 104.904 445.594 Q104.904 450.71 101.385 453.511 Q97.8669 456.312 91.3854 456.312 Q89.2095 456.312 86.8947 455.872 Q84.6031 455.455 82.1494 454.599 L82.1494 450.085 Q84.0938 451.219 86.4086 451.798 Q88.7234 452.377 91.2465 452.377 Q95.6447 452.377 97.9363 450.641 Q100.251 448.905 100.251 445.594 Q100.251 442.539 98.0984 440.826 Q95.9687 439.09 92.1493 439.09 L88.1216 439.09 L88.1216 435.247 L92.3345 435.247 Q95.7836 435.247 97.6122 433.881 Q99.4409 432.493 99.4409 429.9 Q99.4409 427.238 97.5428 425.826 Q95.6678 424.391 92.1493 424.391 Q90.228 424.391 88.029 424.807 Q85.8299 425.224 83.191 426.104 L83.191 421.937 Q85.8531 421.196 88.1679 420.826 Q90.5058 420.456 92.566 420.456 Q97.89 420.456 100.992 422.886 Q104.094 425.294 104.094 429.414 Q104.094 432.284 102.45 434.275 Q100.807 436.243 97.7743 437.006 Z\" fill=\"#000000\" fill-rule=\"nonzero\" fill-opacity=\"1\" /><path clip-path=\"url(#clip910)\" d=\"M113.77 449.761 L118.654 449.761 L118.654 455.641 L113.77 455.641 L113.77 449.761 Z\" fill=\"#000000\" fill-rule=\"nonzero\" fill-opacity=\"1\" /><path clip-path=\"url(#clip910)\" d=\"M128.885 421.081 L147.242 421.081 L147.242 425.016 L133.168 425.016 L133.168 433.488 Q134.186 433.141 135.205 432.979 Q136.223 432.794 137.242 432.794 Q143.029 432.794 146.408 435.965 Q149.788 439.136 149.788 444.553 Q149.788 450.131 146.316 453.233 Q142.843 456.312 136.524 456.312 Q134.348 456.312 132.08 455.942 Q129.834 455.571 127.427 454.83 L127.427 450.131 Q129.51 451.266 131.732 451.821 Q133.955 452.377 136.431 452.377 Q140.436 452.377 142.774 450.27 Q145.112 448.164 145.112 444.553 Q145.112 440.942 142.774 438.835 Q140.436 436.729 136.431 436.729 Q134.556 436.729 132.682 437.145 Q130.83 437.562 128.885 438.442 L128.885 421.081 Z\" fill=\"#000000\" fill-rule=\"nonzero\" fill-opacity=\"1\" /><path clip-path=\"url(#clip910)\" d=\"M66.617 218.016 Q69.9735 218.734 71.8485 221.002 Q73.7466 223.271 73.7466 226.604 Q73.7466 231.72 70.2281 234.521 Q66.7096 237.322 60.2282 237.322 Q58.0523 237.322 55.7375 236.882 Q53.4458 236.465 50.9921 235.609 L50.9921 231.095 Q52.9366 232.229 55.2514 232.808 Q57.5662 233.387 60.0893 233.387 Q64.4874 233.387 66.7791 231.65 Q69.0939 229.914 69.0939 226.604 Q69.0939 223.549 66.9411 221.836 Q64.8115 220.1 60.9921 220.1 L56.9643 220.1 L56.9643 216.257 L61.1773 216.257 Q64.6263 216.257 66.455 214.891 Q68.2837 213.502 68.2837 210.91 Q68.2837 208.248 66.3856 206.836 Q64.5106 205.401 60.9921 205.401 Q59.0708 205.401 56.8717 205.817 Q54.6727 206.234 52.0338 207.114 L52.0338 202.947 Q54.6958 202.206 57.0106 201.836 Q59.3486 201.465 61.4087 201.465 Q66.7328 201.465 69.8346 203.896 Q72.9365 206.303 72.9365 210.424 Q72.9365 213.294 71.2929 215.285 Q69.6494 217.252 66.617 218.016 Z\" fill=\"#000000\" fill-rule=\"nonzero\" fill-opacity=\"1\" /><path clip-path=\"url(#clip910)\" d=\"M95.4595 206.164 L83.654 224.613 L95.4595 224.613 L95.4595 206.164 M94.2326 202.09 L100.112 202.09 L100.112 224.613 L105.043 224.613 L105.043 228.502 L100.112 228.502 L100.112 236.65 L95.4595 236.65 L95.4595 228.502 L79.8577 228.502 L79.8577 223.988 L94.2326 202.09 Z\" fill=\"#000000\" fill-rule=\"nonzero\" fill-opacity=\"1\" /><path clip-path=\"url(#clip910)\" d=\"M112.774 230.771 L117.658 230.771 L117.658 236.65 L112.774 236.65 L112.774 230.771 Z\" fill=\"#000000\" fill-rule=\"nonzero\" fill-opacity=\"1\" /><path clip-path=\"url(#clip910)\" d=\"M137.844 205.169 Q134.232 205.169 132.404 208.734 Q130.598 212.276 130.598 219.405 Q130.598 226.512 132.404 230.076 Q134.232 233.618 137.844 233.618 Q141.478 233.618 143.283 230.076 Q145.112 226.512 145.112 219.405 Q145.112 212.276 143.283 208.734 Q141.478 205.169 137.844 205.169 M137.844 201.465 Q143.654 201.465 146.709 206.072 Q149.788 210.655 149.788 219.405 Q149.788 228.132 146.709 232.738 Q143.654 237.322 137.844 237.322 Q132.033 237.322 128.955 232.738 Q125.899 228.132 125.899 219.405 Q125.899 210.655 128.955 206.072 Q132.033 201.465 137.844 201.465 Z\" fill=\"#000000\" fill-rule=\"nonzero\" fill-opacity=\"1\" /><polyline clip-path=\"url(#clip912)\" style=\"stroke:#009af9; stroke-linecap:round; stroke-linejoin:round; stroke-width:4; stroke-opacity:1; fill:none\" points=\"247.117,263.168 432.963,175.572 618.81,175.572 804.656,263.168 990.502,438.361 1176.35,744.947 1362.2,1270.52 1548.04,1445.72 1733.89,920.139 1919.73,744.947 2105.58,87.9763 2291.43,438.361 \"/>\n",
       "<circle clip-path=\"url(#clip912)\" cx=\"247.117\" cy=\"263.168\" r=\"14.4\" fill=\"#009af9\" fill-rule=\"evenodd\" fill-opacity=\"1\" stroke=\"#000000\" stroke-opacity=\"1\" stroke-width=\"3.2\"/>\n",
       "<circle clip-path=\"url(#clip912)\" cx=\"432.963\" cy=\"175.572\" r=\"14.4\" fill=\"#009af9\" fill-rule=\"evenodd\" fill-opacity=\"1\" stroke=\"#000000\" stroke-opacity=\"1\" stroke-width=\"3.2\"/>\n",
       "<circle clip-path=\"url(#clip912)\" cx=\"618.81\" cy=\"175.572\" r=\"14.4\" fill=\"#009af9\" fill-rule=\"evenodd\" fill-opacity=\"1\" stroke=\"#000000\" stroke-opacity=\"1\" stroke-width=\"3.2\"/>\n",
       "<circle clip-path=\"url(#clip912)\" cx=\"804.656\" cy=\"263.168\" r=\"14.4\" fill=\"#009af9\" fill-rule=\"evenodd\" fill-opacity=\"1\" stroke=\"#000000\" stroke-opacity=\"1\" stroke-width=\"3.2\"/>\n",
       "<circle clip-path=\"url(#clip912)\" cx=\"990.502\" cy=\"438.361\" r=\"14.4\" fill=\"#009af9\" fill-rule=\"evenodd\" fill-opacity=\"1\" stroke=\"#000000\" stroke-opacity=\"1\" stroke-width=\"3.2\"/>\n",
       "<circle clip-path=\"url(#clip912)\" cx=\"1176.35\" cy=\"744.947\" r=\"14.4\" fill=\"#009af9\" fill-rule=\"evenodd\" fill-opacity=\"1\" stroke=\"#000000\" stroke-opacity=\"1\" stroke-width=\"3.2\"/>\n",
       "<circle clip-path=\"url(#clip912)\" cx=\"1362.2\" cy=\"1270.52\" r=\"14.4\" fill=\"#009af9\" fill-rule=\"evenodd\" fill-opacity=\"1\" stroke=\"#000000\" stroke-opacity=\"1\" stroke-width=\"3.2\"/>\n",
       "<circle clip-path=\"url(#clip912)\" cx=\"1548.04\" cy=\"1445.72\" r=\"14.4\" fill=\"#009af9\" fill-rule=\"evenodd\" fill-opacity=\"1\" stroke=\"#000000\" stroke-opacity=\"1\" stroke-width=\"3.2\"/>\n",
       "<circle clip-path=\"url(#clip912)\" cx=\"1733.89\" cy=\"920.139\" r=\"14.4\" fill=\"#009af9\" fill-rule=\"evenodd\" fill-opacity=\"1\" stroke=\"#000000\" stroke-opacity=\"1\" stroke-width=\"3.2\"/>\n",
       "<circle clip-path=\"url(#clip912)\" cx=\"1919.73\" cy=\"744.947\" r=\"14.4\" fill=\"#009af9\" fill-rule=\"evenodd\" fill-opacity=\"1\" stroke=\"#000000\" stroke-opacity=\"1\" stroke-width=\"3.2\"/>\n",
       "<circle clip-path=\"url(#clip912)\" cx=\"2105.58\" cy=\"87.9763\" r=\"14.4\" fill=\"#009af9\" fill-rule=\"evenodd\" fill-opacity=\"1\" stroke=\"#000000\" stroke-opacity=\"1\" stroke-width=\"3.2\"/>\n",
       "<circle clip-path=\"url(#clip912)\" cx=\"2291.43\" cy=\"438.361\" r=\"14.4\" fill=\"#009af9\" fill-rule=\"evenodd\" fill-opacity=\"1\" stroke=\"#000000\" stroke-opacity=\"1\" stroke-width=\"3.2\"/>\n",
       "</svg>\n"
      ],
      "text/html": [
       "<?xml version=\"1.0\" encoding=\"utf-8\"?>\n",
       "<svg xmlns=\"http://www.w3.org/2000/svg\" xmlns:xlink=\"http://www.w3.org/1999/xlink\" width=\"600\" height=\"400\" viewBox=\"0 0 2400 1600\">\n",
       "<defs>\n",
       "  <clipPath id=\"clip960\">\n",
       "    <rect x=\"0\" y=\"0\" width=\"2400\" height=\"1600\"/>\n",
       "  </clipPath>\n",
       "</defs>\n",
       "<path clip-path=\"url(#clip960)\" d=\"M0 1600 L2400 1600 L2400 0 L0 0  Z\" fill=\"#ffffff\" fill-rule=\"evenodd\" fill-opacity=\"1\"/>\n",
       "<defs>\n",
       "  <clipPath id=\"clip961\">\n",
       "    <rect x=\"480\" y=\"0\" width=\"1681\" height=\"1600\"/>\n",
       "  </clipPath>\n",
       "</defs>\n",
       "<path clip-path=\"url(#clip960)\" d=\"M185.788 1486.45 L2352.76 1486.45 L2352.76 47.2441 L185.788 47.2441  Z\" fill=\"#ffffff\" fill-rule=\"evenodd\" fill-opacity=\"1\"/>\n",
       "<defs>\n",
       "  <clipPath id=\"clip962\">\n",
       "    <rect x=\"185\" y=\"47\" width=\"2168\" height=\"1440\"/>\n",
       "  </clipPath>\n",
       "</defs>\n",
       "<polyline clip-path=\"url(#clip960)\" style=\"stroke:#000000; stroke-linecap:round; stroke-linejoin:round; stroke-width:4; stroke-opacity:1; fill:none\" points=\"185.788,1486.45 2352.76,1486.45 \"/>\n",
       "<polyline clip-path=\"url(#clip960)\" style=\"stroke:#000000; stroke-linecap:round; stroke-linejoin:round; stroke-width:4; stroke-opacity:1; fill:none\" points=\"525.887,1486.45 525.887,1467.55 \"/>\n",
       "<polyline clip-path=\"url(#clip960)\" style=\"stroke:#000000; stroke-linecap:round; stroke-linejoin:round; stroke-width:4; stroke-opacity:1; fill:none\" points=\"990.502,1486.45 990.502,1467.55 \"/>\n",
       "<polyline clip-path=\"url(#clip960)\" style=\"stroke:#000000; stroke-linecap:round; stroke-linejoin:round; stroke-width:4; stroke-opacity:1; fill:none\" points=\"1455.12,1486.45 1455.12,1467.55 \"/>\n",
       "<polyline clip-path=\"url(#clip960)\" style=\"stroke:#000000; stroke-linecap:round; stroke-linejoin:round; stroke-width:4; stroke-opacity:1; fill:none\" points=\"1919.73,1486.45 1919.73,1467.55 \"/>\n",
       "<path clip-path=\"url(#clip960)\" d=\"M497.623 1544.91 L513.942 1544.91 L513.942 1548.85 L491.998 1548.85 L491.998 1544.91 Q494.66 1542.16 499.243 1537.53 Q503.85 1532.88 505.03 1531.53 Q507.276 1529.01 508.155 1527.27 Q509.058 1525.51 509.058 1523.82 Q509.058 1521.07 507.114 1519.33 Q505.192 1517.6 502.09 1517.6 Q499.891 1517.6 497.438 1518.36 Q495.007 1519.13 492.229 1520.68 L492.229 1515.95 Q495.053 1514.82 497.507 1514.24 Q499.961 1513.66 501.998 1513.66 Q507.368 1513.66 510.563 1516.35 Q513.757 1519.03 513.757 1523.52 Q513.757 1525.65 512.947 1527.57 Q512.16 1529.47 510.053 1532.07 Q509.475 1532.74 506.373 1535.95 Q503.271 1539.15 497.623 1544.91 Z\" fill=\"#000000\" fill-rule=\"nonzero\" fill-opacity=\"1\" /><path clip-path=\"url(#clip960)\" d=\"M523.757 1542.97 L528.641 1542.97 L528.641 1548.85 L523.757 1548.85 L523.757 1542.97 Z\" fill=\"#000000\" fill-rule=\"nonzero\" fill-opacity=\"1\" /><path clip-path=\"url(#clip960)\" d=\"M538.873 1514.29 L557.229 1514.29 L557.229 1518.22 L543.155 1518.22 L543.155 1526.7 Q544.174 1526.35 545.192 1526.19 Q546.211 1526 547.229 1526 Q553.016 1526 556.396 1529.17 Q559.775 1532.34 559.775 1537.76 Q559.775 1543.34 556.303 1546.44 Q552.831 1549.52 546.512 1549.52 Q544.336 1549.52 542.067 1549.15 Q539.822 1548.78 537.414 1548.04 L537.414 1543.34 Q539.498 1544.47 541.72 1545.03 Q543.942 1545.58 546.419 1545.58 Q550.424 1545.58 552.762 1543.48 Q555.099 1541.37 555.099 1537.76 Q555.099 1534.15 552.762 1532.04 Q550.424 1529.94 546.419 1529.94 Q544.544 1529.94 542.669 1530.35 Q540.817 1530.77 538.873 1531.65 L538.873 1514.29 Z\" fill=\"#000000\" fill-rule=\"nonzero\" fill-opacity=\"1\" /><path clip-path=\"url(#clip960)\" d=\"M957.667 1514.29 L976.023 1514.29 L976.023 1518.22 L961.949 1518.22 L961.949 1526.7 Q962.968 1526.35 963.986 1526.19 Q965.005 1526 966.023 1526 Q971.81 1526 975.19 1529.17 Q978.57 1532.34 978.57 1537.76 Q978.57 1543.34 975.097 1546.44 Q971.625 1549.52 965.306 1549.52 Q963.13 1549.52 960.861 1549.15 Q958.616 1548.78 956.209 1548.04 L956.209 1543.34 Q958.292 1544.47 960.514 1545.03 Q962.736 1545.58 965.213 1545.58 Q969.218 1545.58 971.556 1543.48 Q973.894 1541.37 973.894 1537.76 Q973.894 1534.15 971.556 1532.04 Q969.218 1529.94 965.213 1529.94 Q963.338 1529.94 961.463 1530.35 Q959.611 1530.77 957.667 1531.65 L957.667 1514.29 Z\" fill=\"#000000\" fill-rule=\"nonzero\" fill-opacity=\"1\" /><path clip-path=\"url(#clip960)\" d=\"M987.783 1542.97 L992.667 1542.97 L992.667 1548.85 L987.783 1548.85 L987.783 1542.97 Z\" fill=\"#000000\" fill-rule=\"nonzero\" fill-opacity=\"1\" /><path clip-path=\"url(#clip960)\" d=\"M1012.85 1517.37 Q1009.24 1517.37 1007.41 1520.93 Q1005.61 1524.47 1005.61 1531.6 Q1005.61 1538.71 1007.41 1542.27 Q1009.24 1545.82 1012.85 1545.82 Q1016.49 1545.82 1018.29 1542.27 Q1020.12 1538.71 1020.12 1531.6 Q1020.12 1524.47 1018.29 1520.93 Q1016.49 1517.37 1012.85 1517.37 M1012.85 1513.66 Q1018.66 1513.66 1021.72 1518.27 Q1024.8 1522.85 1024.8 1531.6 Q1024.8 1540.33 1021.72 1544.94 Q1018.66 1549.52 1012.85 1549.52 Q1007.04 1549.52 1003.96 1544.94 Q1000.91 1540.33 1000.91 1531.6 Q1000.91 1522.85 1003.96 1518.27 Q1007.04 1513.66 1012.85 1513.66 Z\" fill=\"#000000\" fill-rule=\"nonzero\" fill-opacity=\"1\" /><path clip-path=\"url(#clip960)\" d=\"M1421.44 1514.29 L1443.66 1514.29 L1443.66 1516.28 L1431.11 1548.85 L1426.23 1548.85 L1438.03 1518.22 L1421.44 1518.22 L1421.44 1514.29 Z\" fill=\"#000000\" fill-rule=\"nonzero\" fill-opacity=\"1\" /><path clip-path=\"url(#clip960)\" d=\"M1452.78 1542.97 L1457.66 1542.97 L1457.66 1548.85 L1452.78 1548.85 L1452.78 1542.97 Z\" fill=\"#000000\" fill-rule=\"nonzero\" fill-opacity=\"1\" /><path clip-path=\"url(#clip960)\" d=\"M1467.9 1514.29 L1486.25 1514.29 L1486.25 1518.22 L1472.18 1518.22 L1472.18 1526.7 Q1473.2 1526.35 1474.22 1526.19 Q1475.23 1526 1476.25 1526 Q1482.04 1526 1485.42 1529.17 Q1488.8 1532.34 1488.8 1537.76 Q1488.8 1543.34 1485.33 1546.44 Q1481.85 1549.52 1475.53 1549.52 Q1473.36 1549.52 1471.09 1549.15 Q1468.84 1548.78 1466.44 1548.04 L1466.44 1543.34 Q1468.52 1544.47 1470.74 1545.03 Q1472.97 1545.58 1475.44 1545.58 Q1479.45 1545.58 1481.78 1543.48 Q1484.12 1541.37 1484.12 1537.76 Q1484.12 1534.15 1481.78 1532.04 Q1479.45 1529.94 1475.44 1529.94 Q1473.57 1529.94 1471.69 1530.35 Q1469.84 1530.77 1467.9 1531.65 L1467.9 1514.29 Z\" fill=\"#000000\" fill-rule=\"nonzero\" fill-opacity=\"1\" /><path clip-path=\"url(#clip960)\" d=\"M1871.81 1544.91 L1879.44 1544.91 L1879.44 1518.55 L1871.13 1520.21 L1871.13 1515.95 L1879.4 1514.29 L1884.07 1514.29 L1884.07 1544.91 L1891.71 1544.91 L1891.71 1548.85 L1871.81 1548.85 L1871.81 1544.91 Z\" fill=\"#000000\" fill-rule=\"nonzero\" fill-opacity=\"1\" /><path clip-path=\"url(#clip960)\" d=\"M1911.16 1517.37 Q1907.55 1517.37 1905.72 1520.93 Q1903.91 1524.47 1903.91 1531.6 Q1903.91 1538.71 1905.72 1542.27 Q1907.55 1545.82 1911.16 1545.82 Q1914.79 1545.82 1916.6 1542.27 Q1918.43 1538.71 1918.43 1531.6 Q1918.43 1524.47 1916.6 1520.93 Q1914.79 1517.37 1911.16 1517.37 M1911.16 1513.66 Q1916.97 1513.66 1920.02 1518.27 Q1923.1 1522.85 1923.1 1531.6 Q1923.1 1540.33 1920.02 1544.94 Q1916.97 1549.52 1911.16 1549.52 Q1905.35 1549.52 1902.27 1544.94 Q1899.21 1540.33 1899.21 1531.6 Q1899.21 1522.85 1902.27 1518.27 Q1905.35 1513.66 1911.16 1513.66 Z\" fill=\"#000000\" fill-rule=\"nonzero\" fill-opacity=\"1\" /><path clip-path=\"url(#clip960)\" d=\"M1931.32 1542.97 L1936.2 1542.97 L1936.2 1548.85 L1931.32 1548.85 L1931.32 1542.97 Z\" fill=\"#000000\" fill-rule=\"nonzero\" fill-opacity=\"1\" /><path clip-path=\"url(#clip960)\" d=\"M1956.39 1517.37 Q1952.78 1517.37 1950.95 1520.93 Q1949.14 1524.47 1949.14 1531.6 Q1949.14 1538.71 1950.95 1542.27 Q1952.78 1545.82 1956.39 1545.82 Q1960.02 1545.82 1961.83 1542.27 Q1963.66 1538.71 1963.66 1531.6 Q1963.66 1524.47 1961.83 1520.93 Q1960.02 1517.37 1956.39 1517.37 M1956.39 1513.66 Q1962.2 1513.66 1965.25 1518.27 Q1968.33 1522.85 1968.33 1531.6 Q1968.33 1540.33 1965.25 1544.94 Q1962.2 1549.52 1956.39 1549.52 Q1950.58 1549.52 1947.5 1544.94 Q1944.44 1540.33 1944.44 1531.6 Q1944.44 1522.85 1947.5 1518.27 Q1950.58 1513.66 1956.39 1513.66 Z\" fill=\"#000000\" fill-rule=\"nonzero\" fill-opacity=\"1\" /><polyline clip-path=\"url(#clip960)\" style=\"stroke:#000000; stroke-linecap:round; stroke-linejoin:round; stroke-width:4; stroke-opacity:1; fill:none\" points=\"185.788,1486.45 185.788,47.2441 \"/>\n",
       "<polyline clip-path=\"url(#clip960)\" style=\"stroke:#000000; stroke-linecap:round; stroke-linejoin:round; stroke-width:4; stroke-opacity:1; fill:none\" points=\"185.788,1314.32 204.686,1314.32 \"/>\n",
       "<polyline clip-path=\"url(#clip960)\" style=\"stroke:#000000; stroke-linecap:round; stroke-linejoin:round; stroke-width:4; stroke-opacity:1; fill:none\" points=\"185.788,1095.33 204.686,1095.33 \"/>\n",
       "<polyline clip-path=\"url(#clip960)\" style=\"stroke:#000000; stroke-linecap:round; stroke-linejoin:round; stroke-width:4; stroke-opacity:1; fill:none\" points=\"185.788,876.341 204.686,876.341 \"/>\n",
       "<polyline clip-path=\"url(#clip960)\" style=\"stroke:#000000; stroke-linecap:round; stroke-linejoin:round; stroke-width:4; stroke-opacity:1; fill:none\" points=\"185.788,657.351 204.686,657.351 \"/>\n",
       "<polyline clip-path=\"url(#clip960)\" style=\"stroke:#000000; stroke-linecap:round; stroke-linejoin:round; stroke-width:4; stroke-opacity:1; fill:none\" points=\"185.788,438.361 204.686,438.361 \"/>\n",
       "<polyline clip-path=\"url(#clip960)\" style=\"stroke:#000000; stroke-linecap:round; stroke-linejoin:round; stroke-width:4; stroke-opacity:1; fill:none\" points=\"185.788,219.37 204.686,219.37 \"/>\n",
       "<path clip-path=\"url(#clip960)\" d=\"M67.6124 1312.97 Q70.9689 1313.68 72.8439 1315.95 Q74.742 1318.22 74.742 1321.56 Q74.742 1326.67 71.2235 1329.47 Q67.705 1332.27 61.2236 1332.27 Q59.0476 1332.27 56.7328 1331.83 Q54.4412 1331.42 51.9875 1330.56 L51.9875 1326.05 Q53.9319 1327.18 56.2467 1327.76 Q58.5615 1328.34 61.0847 1328.34 Q65.4828 1328.34 67.7744 1326.6 Q70.0892 1324.87 70.0892 1321.56 Q70.0892 1318.5 67.9365 1316.79 Q65.8069 1315.05 61.9874 1315.05 L57.9597 1315.05 L57.9597 1311.21 L62.1726 1311.21 Q65.6217 1311.21 67.4504 1309.84 Q69.2791 1308.45 69.2791 1305.86 Q69.2791 1303.2 67.3809 1301.79 Q65.5059 1300.35 61.9874 1300.35 Q60.0662 1300.35 57.8671 1300.77 Q55.668 1301.19 53.0292 1302.06 L53.0292 1297.9 Q55.6912 1297.16 58.006 1296.79 Q60.3439 1296.42 62.4041 1296.42 Q67.7281 1296.42 70.83 1298.85 Q73.9318 1301.25 73.9318 1305.37 Q73.9318 1308.25 72.2883 1310.24 Q70.6448 1312.2 67.6124 1312.97 Z\" fill=\"#000000\" fill-rule=\"nonzero\" fill-opacity=\"1\" /><path clip-path=\"url(#clip960)\" d=\"M84.4179 1327.67 L92.0567 1327.67 L92.0567 1301.3 L83.7466 1302.97 L83.7466 1298.71 L92.0104 1297.04 L96.6863 1297.04 L96.6863 1327.67 L104.325 1327.67 L104.325 1331.6 L84.4179 1331.6 L84.4179 1327.67 Z\" fill=\"#000000\" fill-rule=\"nonzero\" fill-opacity=\"1\" /><path clip-path=\"url(#clip960)\" d=\"M113.77 1325.72 L118.654 1325.72 L118.654 1331.6 L113.77 1331.6 L113.77 1325.72 Z\" fill=\"#000000\" fill-rule=\"nonzero\" fill-opacity=\"1\" /><path clip-path=\"url(#clip960)\" d=\"M128.885 1297.04 L147.242 1297.04 L147.242 1300.98 L133.168 1300.98 L133.168 1309.45 Q134.186 1309.1 135.205 1308.94 Q136.223 1308.75 137.242 1308.75 Q143.029 1308.75 146.408 1311.93 Q149.788 1315.1 149.788 1320.51 Q149.788 1326.09 146.316 1329.19 Q142.843 1332.27 136.524 1332.27 Q134.348 1332.27 132.08 1331.9 Q129.834 1331.53 127.427 1330.79 L127.427 1326.09 Q129.51 1327.23 131.732 1327.78 Q133.955 1328.34 136.431 1328.34 Q140.436 1328.34 142.774 1326.23 Q145.112 1324.12 145.112 1320.51 Q145.112 1316.9 142.774 1314.8 Q140.436 1312.69 136.431 1312.69 Q134.556 1312.69 132.682 1313.11 Q130.83 1313.52 128.885 1314.4 L128.885 1297.04 Z\" fill=\"#000000\" fill-rule=\"nonzero\" fill-opacity=\"1\" /><path clip-path=\"url(#clip960)\" d=\"M66.617 1093.98 Q69.9735 1094.69 71.8485 1096.96 Q73.7466 1099.23 73.7466 1102.57 Q73.7466 1107.68 70.2281 1110.48 Q66.7096 1113.28 60.2282 1113.28 Q58.0523 1113.28 55.7375 1112.84 Q53.4458 1112.43 50.9921 1111.57 L50.9921 1107.06 Q52.9366 1108.19 55.2514 1108.77 Q57.5662 1109.35 60.0893 1109.35 Q64.4874 1109.35 66.7791 1107.61 Q69.0939 1105.88 69.0939 1102.57 Q69.0939 1099.51 66.9411 1097.8 Q64.8115 1096.06 60.9921 1096.06 L56.9643 1096.06 L56.9643 1092.22 L61.1773 1092.22 Q64.6263 1092.22 66.455 1090.85 Q68.2837 1089.46 68.2837 1086.87 Q68.2837 1084.21 66.3856 1082.8 Q64.5106 1081.36 60.9921 1081.36 Q59.0708 1081.36 56.8717 1081.78 Q54.6727 1082.19 52.0338 1083.07 L52.0338 1078.91 Q54.6958 1078.17 57.0106 1077.8 Q59.3486 1077.43 61.4087 1077.43 Q66.7328 1077.43 69.8346 1079.86 Q72.9365 1082.26 72.9365 1086.38 Q72.9365 1089.25 71.2929 1091.25 Q69.6494 1093.21 66.617 1093.98 Z\" fill=\"#000000\" fill-rule=\"nonzero\" fill-opacity=\"1\" /><path clip-path=\"url(#clip960)\" d=\"M86.6401 1108.68 L102.959 1108.68 L102.959 1112.61 L81.0151 1112.61 L81.0151 1108.68 Q83.6771 1105.92 88.2604 1101.29 Q92.8669 1096.64 94.0475 1095.3 Q96.2928 1092.77 97.1724 1091.04 Q98.0752 1089.28 98.0752 1087.59 Q98.0752 1084.83 96.1308 1083.1 Q94.2095 1081.36 91.1077 1081.36 Q88.9086 1081.36 86.4549 1082.13 Q84.0244 1082.89 81.2466 1084.44 L81.2466 1079.72 Q84.0707 1078.58 86.5243 1078.01 Q88.978 1077.43 91.0151 1077.43 Q96.3854 1077.43 99.5798 1080.11 Q102.774 1082.8 102.774 1087.29 Q102.774 1089.42 101.964 1091.34 Q101.177 1093.24 99.0706 1095.83 Q98.4919 1096.5 95.39 1099.72 Q92.2882 1102.91 86.6401 1108.68 Z\" fill=\"#000000\" fill-rule=\"nonzero\" fill-opacity=\"1\" /><path clip-path=\"url(#clip960)\" d=\"M112.774 1106.73 L117.658 1106.73 L117.658 1112.61 L112.774 1112.61 L112.774 1106.73 Z\" fill=\"#000000\" fill-rule=\"nonzero\" fill-opacity=\"1\" /><path clip-path=\"url(#clip960)\" d=\"M137.844 1081.13 Q134.232 1081.13 132.404 1084.69 Q130.598 1088.24 130.598 1095.37 Q130.598 1102.47 132.404 1106.04 Q134.232 1109.58 137.844 1109.58 Q141.478 1109.58 143.283 1106.04 Q145.112 1102.47 145.112 1095.37 Q145.112 1088.24 143.283 1084.69 Q141.478 1081.13 137.844 1081.13 M137.844 1077.43 Q143.654 1077.43 146.709 1082.03 Q149.788 1086.62 149.788 1095.37 Q149.788 1104.09 146.709 1108.7 Q143.654 1113.28 137.844 1113.28 Q132.033 1113.28 128.955 1108.7 Q125.899 1104.09 125.899 1095.37 Q125.899 1086.62 128.955 1082.03 Q132.033 1077.43 137.844 1077.43 Z\" fill=\"#000000\" fill-rule=\"nonzero\" fill-opacity=\"1\" /><path clip-path=\"url(#clip960)\" d=\"M67.6124 874.987 Q70.9689 875.705 72.8439 877.973 Q74.742 880.242 74.742 883.575 Q74.742 888.691 71.2235 891.491 Q67.705 894.292 61.2236 894.292 Q59.0476 894.292 56.7328 893.853 Q54.4412 893.436 51.9875 892.579 L51.9875 888.066 Q53.9319 889.2 56.2467 889.779 Q58.5615 890.357 61.0847 890.357 Q65.4828 890.357 67.7744 888.621 Q70.0892 886.885 70.0892 883.575 Q70.0892 880.519 67.9365 878.806 Q65.8069 877.07 61.9874 877.07 L57.9597 877.07 L57.9597 873.228 L62.1726 873.228 Q65.6217 873.228 67.4504 871.862 Q69.2791 870.473 69.2791 867.88 Q69.2791 865.218 67.3809 863.806 Q65.5059 862.371 61.9874 862.371 Q60.0662 862.371 57.8671 862.788 Q55.668 863.205 53.0292 864.084 L53.0292 859.918 Q55.6912 859.177 58.006 858.806 Q60.3439 858.436 62.4041 858.436 Q67.7281 858.436 70.83 860.867 Q73.9318 863.274 73.9318 867.394 Q73.9318 870.265 72.2883 872.255 Q70.6448 874.223 67.6124 874.987 Z\" fill=\"#000000\" fill-rule=\"nonzero\" fill-opacity=\"1\" /><path clip-path=\"url(#clip960)\" d=\"M87.6354 889.686 L103.955 889.686 L103.955 893.621 L82.0105 893.621 L82.0105 889.686 Q84.6725 886.931 89.2558 882.302 Q93.8623 877.649 95.0428 876.306 Q97.2882 873.783 98.1678 872.047 Q99.0706 870.288 99.0706 868.598 Q99.0706 865.843 97.1261 864.107 Q95.2049 862.371 92.103 862.371 Q89.904 862.371 87.4503 863.135 Q85.0197 863.899 82.242 865.45 L82.242 860.728 Q85.066 859.594 87.5197 859.015 Q89.9734 858.436 92.0104 858.436 Q97.3808 858.436 100.575 861.121 Q103.77 863.806 103.77 868.297 Q103.77 870.427 102.959 872.348 Q102.172 874.246 100.066 876.839 Q99.4872 877.51 96.3854 880.728 Q93.2836 883.922 87.6354 889.686 Z\" fill=\"#000000\" fill-rule=\"nonzero\" fill-opacity=\"1\" /><path clip-path=\"url(#clip960)\" d=\"M113.77 887.742 L118.654 887.742 L118.654 893.621 L113.77 893.621 L113.77 887.742 Z\" fill=\"#000000\" fill-rule=\"nonzero\" fill-opacity=\"1\" /><path clip-path=\"url(#clip960)\" d=\"M128.885 859.061 L147.242 859.061 L147.242 862.996 L133.168 862.996 L133.168 871.468 Q134.186 871.121 135.205 870.959 Q136.223 870.774 137.242 870.774 Q143.029 870.774 146.408 873.945 Q149.788 877.117 149.788 882.533 Q149.788 888.112 146.316 891.214 Q142.843 894.292 136.524 894.292 Q134.348 894.292 132.08 893.922 Q129.834 893.552 127.427 892.811 L127.427 888.112 Q129.51 889.246 131.732 889.802 Q133.955 890.357 136.431 890.357 Q140.436 890.357 142.774 888.251 Q145.112 886.144 145.112 882.533 Q145.112 878.922 142.774 876.816 Q140.436 874.709 136.431 874.709 Q134.556 874.709 132.682 875.126 Q130.83 875.542 128.885 876.422 L128.885 859.061 Z\" fill=\"#000000\" fill-rule=\"nonzero\" fill-opacity=\"1\" /><path clip-path=\"url(#clip960)\" d=\"M66.617 655.997 Q69.9735 656.714 71.8485 658.983 Q73.7466 661.251 73.7466 664.585 Q73.7466 669.7 70.2281 672.501 Q66.7096 675.302 60.2282 675.302 Q58.0523 675.302 55.7375 674.862 Q53.4458 674.446 50.9921 673.589 L50.9921 669.075 Q52.9366 670.21 55.2514 670.788 Q57.5662 671.367 60.0893 671.367 Q64.4874 671.367 66.7791 669.631 Q69.0939 667.895 69.0939 664.585 Q69.0939 661.529 66.9411 659.816 Q64.8115 658.08 60.9921 658.08 L56.9643 658.08 L56.9643 654.237 L61.1773 654.237 Q64.6263 654.237 66.455 652.872 Q68.2837 651.483 68.2837 648.89 Q68.2837 646.228 66.3856 644.816 Q64.5106 643.381 60.9921 643.381 Q59.0708 643.381 56.8717 643.798 Q54.6727 644.214 52.0338 645.094 L52.0338 640.927 Q54.6958 640.187 57.0106 639.816 Q59.3486 639.446 61.4087 639.446 Q66.7328 639.446 69.8346 641.876 Q72.9365 644.284 72.9365 648.404 Q72.9365 651.275 71.2929 653.265 Q69.6494 655.233 66.617 655.997 Z\" fill=\"#000000\" fill-rule=\"nonzero\" fill-opacity=\"1\" /><path clip-path=\"url(#clip960)\" d=\"M96.7789 655.997 Q100.135 656.714 102.01 658.983 Q103.909 661.251 103.909 664.585 Q103.909 669.7 100.39 672.501 Q96.8715 675.302 90.3901 675.302 Q88.2141 675.302 85.8993 674.862 Q83.6077 674.446 81.154 673.589 L81.154 669.075 Q83.0984 670.21 85.4132 670.788 Q87.728 671.367 90.2512 671.367 Q94.6493 671.367 96.941 669.631 Q99.2558 667.895 99.2558 664.585 Q99.2558 661.529 97.103 659.816 Q94.9734 658.08 91.1539 658.08 L87.1262 658.08 L87.1262 654.237 L91.3391 654.237 Q94.7882 654.237 96.6169 652.872 Q98.4456 651.483 98.4456 648.89 Q98.4456 646.228 96.5474 644.816 Q94.6724 643.381 91.1539 643.381 Q89.2327 643.381 87.0336 643.798 Q84.8345 644.214 82.1957 645.094 L82.1957 640.927 Q84.8577 640.187 87.1725 639.816 Q89.5104 639.446 91.5706 639.446 Q96.8947 639.446 99.9965 641.876 Q103.098 644.284 103.098 648.404 Q103.098 651.275 101.455 653.265 Q99.8113 655.233 96.7789 655.997 Z\" fill=\"#000000\" fill-rule=\"nonzero\" fill-opacity=\"1\" /><path clip-path=\"url(#clip960)\" d=\"M112.774 668.751 L117.658 668.751 L117.658 674.631 L112.774 674.631 L112.774 668.751 Z\" fill=\"#000000\" fill-rule=\"nonzero\" fill-opacity=\"1\" /><path clip-path=\"url(#clip960)\" d=\"M137.844 643.15 Q134.232 643.15 132.404 646.714 Q130.598 650.256 130.598 657.386 Q130.598 664.492 132.404 668.057 Q134.232 671.598 137.844 671.598 Q141.478 671.598 143.283 668.057 Q145.112 664.492 145.112 657.386 Q145.112 650.256 143.283 646.714 Q141.478 643.15 137.844 643.15 M137.844 639.446 Q143.654 639.446 146.709 644.052 Q149.788 648.636 149.788 657.386 Q149.788 666.112 146.709 670.719 Q143.654 675.302 137.844 675.302 Q132.033 675.302 128.955 670.719 Q125.899 666.112 125.899 657.386 Q125.899 648.636 128.955 644.052 Q132.033 639.446 137.844 639.446 Z\" fill=\"#000000\" fill-rule=\"nonzero\" fill-opacity=\"1\" /><path clip-path=\"url(#clip960)\" d=\"M67.6124 437.006 Q70.9689 437.724 72.8439 439.993 Q74.742 442.261 74.742 445.594 Q74.742 450.71 71.2235 453.511 Q67.705 456.312 61.2236 456.312 Q59.0476 456.312 56.7328 455.872 Q54.4412 455.455 51.9875 454.599 L51.9875 450.085 Q53.9319 451.219 56.2467 451.798 Q58.5615 452.377 61.0847 452.377 Q65.4828 452.377 67.7744 450.641 Q70.0892 448.905 70.0892 445.594 Q70.0892 442.539 67.9365 440.826 Q65.8069 439.09 61.9874 439.09 L57.9597 439.09 L57.9597 435.247 L62.1726 435.247 Q65.6217 435.247 67.4504 433.881 Q69.2791 432.493 69.2791 429.9 Q69.2791 427.238 67.3809 425.826 Q65.5059 424.391 61.9874 424.391 Q60.0662 424.391 57.8671 424.807 Q55.668 425.224 53.0292 426.104 L53.0292 421.937 Q55.6912 421.196 58.006 420.826 Q60.3439 420.456 62.4041 420.456 Q67.7281 420.456 70.83 422.886 Q73.9318 425.294 73.9318 429.414 Q73.9318 432.284 72.2883 434.275 Q70.6448 436.243 67.6124 437.006 Z\" fill=\"#000000\" fill-rule=\"nonzero\" fill-opacity=\"1\" /><path clip-path=\"url(#clip960)\" d=\"M97.7743 437.006 Q101.131 437.724 103.006 439.993 Q104.904 442.261 104.904 445.594 Q104.904 450.71 101.385 453.511 Q97.8669 456.312 91.3854 456.312 Q89.2095 456.312 86.8947 455.872 Q84.6031 455.455 82.1494 454.599 L82.1494 450.085 Q84.0938 451.219 86.4086 451.798 Q88.7234 452.377 91.2465 452.377 Q95.6447 452.377 97.9363 450.641 Q100.251 448.905 100.251 445.594 Q100.251 442.539 98.0984 440.826 Q95.9687 439.09 92.1493 439.09 L88.1216 439.09 L88.1216 435.247 L92.3345 435.247 Q95.7836 435.247 97.6122 433.881 Q99.4409 432.493 99.4409 429.9 Q99.4409 427.238 97.5428 425.826 Q95.6678 424.391 92.1493 424.391 Q90.228 424.391 88.029 424.807 Q85.8299 425.224 83.191 426.104 L83.191 421.937 Q85.8531 421.196 88.1679 420.826 Q90.5058 420.456 92.566 420.456 Q97.89 420.456 100.992 422.886 Q104.094 425.294 104.094 429.414 Q104.094 432.284 102.45 434.275 Q100.807 436.243 97.7743 437.006 Z\" fill=\"#000000\" fill-rule=\"nonzero\" fill-opacity=\"1\" /><path clip-path=\"url(#clip960)\" d=\"M113.77 449.761 L118.654 449.761 L118.654 455.641 L113.77 455.641 L113.77 449.761 Z\" fill=\"#000000\" fill-rule=\"nonzero\" fill-opacity=\"1\" /><path clip-path=\"url(#clip960)\" d=\"M128.885 421.081 L147.242 421.081 L147.242 425.016 L133.168 425.016 L133.168 433.488 Q134.186 433.141 135.205 432.979 Q136.223 432.794 137.242 432.794 Q143.029 432.794 146.408 435.965 Q149.788 439.136 149.788 444.553 Q149.788 450.131 146.316 453.233 Q142.843 456.312 136.524 456.312 Q134.348 456.312 132.08 455.942 Q129.834 455.571 127.427 454.83 L127.427 450.131 Q129.51 451.266 131.732 451.821 Q133.955 452.377 136.431 452.377 Q140.436 452.377 142.774 450.27 Q145.112 448.164 145.112 444.553 Q145.112 440.942 142.774 438.835 Q140.436 436.729 136.431 436.729 Q134.556 436.729 132.682 437.145 Q130.83 437.562 128.885 438.442 L128.885 421.081 Z\" fill=\"#000000\" fill-rule=\"nonzero\" fill-opacity=\"1\" /><path clip-path=\"url(#clip960)\" d=\"M66.617 218.016 Q69.9735 218.734 71.8485 221.002 Q73.7466 223.271 73.7466 226.604 Q73.7466 231.72 70.2281 234.521 Q66.7096 237.322 60.2282 237.322 Q58.0523 237.322 55.7375 236.882 Q53.4458 236.465 50.9921 235.609 L50.9921 231.095 Q52.9366 232.229 55.2514 232.808 Q57.5662 233.387 60.0893 233.387 Q64.4874 233.387 66.7791 231.65 Q69.0939 229.914 69.0939 226.604 Q69.0939 223.549 66.9411 221.836 Q64.8115 220.1 60.9921 220.1 L56.9643 220.1 L56.9643 216.257 L61.1773 216.257 Q64.6263 216.257 66.455 214.891 Q68.2837 213.502 68.2837 210.91 Q68.2837 208.248 66.3856 206.836 Q64.5106 205.401 60.9921 205.401 Q59.0708 205.401 56.8717 205.817 Q54.6727 206.234 52.0338 207.114 L52.0338 202.947 Q54.6958 202.206 57.0106 201.836 Q59.3486 201.465 61.4087 201.465 Q66.7328 201.465 69.8346 203.896 Q72.9365 206.303 72.9365 210.424 Q72.9365 213.294 71.2929 215.285 Q69.6494 217.252 66.617 218.016 Z\" fill=\"#000000\" fill-rule=\"nonzero\" fill-opacity=\"1\" /><path clip-path=\"url(#clip960)\" d=\"M95.4595 206.164 L83.654 224.613 L95.4595 224.613 L95.4595 206.164 M94.2326 202.09 L100.112 202.09 L100.112 224.613 L105.043 224.613 L105.043 228.502 L100.112 228.502 L100.112 236.65 L95.4595 236.65 L95.4595 228.502 L79.8577 228.502 L79.8577 223.988 L94.2326 202.09 Z\" fill=\"#000000\" fill-rule=\"nonzero\" fill-opacity=\"1\" /><path clip-path=\"url(#clip960)\" d=\"M112.774 230.771 L117.658 230.771 L117.658 236.65 L112.774 236.65 L112.774 230.771 Z\" fill=\"#000000\" fill-rule=\"nonzero\" fill-opacity=\"1\" /><path clip-path=\"url(#clip960)\" d=\"M137.844 205.169 Q134.232 205.169 132.404 208.734 Q130.598 212.276 130.598 219.405 Q130.598 226.512 132.404 230.076 Q134.232 233.618 137.844 233.618 Q141.478 233.618 143.283 230.076 Q145.112 226.512 145.112 219.405 Q145.112 212.276 143.283 208.734 Q141.478 205.169 137.844 205.169 M137.844 201.465 Q143.654 201.465 146.709 206.072 Q149.788 210.655 149.788 219.405 Q149.788 228.132 146.709 232.738 Q143.654 237.322 137.844 237.322 Q132.033 237.322 128.955 232.738 Q125.899 228.132 125.899 219.405 Q125.899 210.655 128.955 206.072 Q132.033 201.465 137.844 201.465 Z\" fill=\"#000000\" fill-rule=\"nonzero\" fill-opacity=\"1\" /><polyline clip-path=\"url(#clip962)\" style=\"stroke:#009af9; stroke-linecap:round; stroke-linejoin:round; stroke-width:4; stroke-opacity:1; fill:none\" points=\"247.117,263.168 432.963,175.572 618.81,175.572 804.656,263.168 990.502,438.361 1176.35,744.947 1362.2,1270.52 1548.04,1445.72 1733.89,920.139 1919.73,744.947 2105.58,87.9763 2291.43,438.361 \"/>\n",
       "<circle clip-path=\"url(#clip962)\" cx=\"247.117\" cy=\"263.168\" r=\"14.4\" fill=\"#009af9\" fill-rule=\"evenodd\" fill-opacity=\"1\" stroke=\"#000000\" stroke-opacity=\"1\" stroke-width=\"3.2\"/>\n",
       "<circle clip-path=\"url(#clip962)\" cx=\"432.963\" cy=\"175.572\" r=\"14.4\" fill=\"#009af9\" fill-rule=\"evenodd\" fill-opacity=\"1\" stroke=\"#000000\" stroke-opacity=\"1\" stroke-width=\"3.2\"/>\n",
       "<circle clip-path=\"url(#clip962)\" cx=\"618.81\" cy=\"175.572\" r=\"14.4\" fill=\"#009af9\" fill-rule=\"evenodd\" fill-opacity=\"1\" stroke=\"#000000\" stroke-opacity=\"1\" stroke-width=\"3.2\"/>\n",
       "<circle clip-path=\"url(#clip962)\" cx=\"804.656\" cy=\"263.168\" r=\"14.4\" fill=\"#009af9\" fill-rule=\"evenodd\" fill-opacity=\"1\" stroke=\"#000000\" stroke-opacity=\"1\" stroke-width=\"3.2\"/>\n",
       "<circle clip-path=\"url(#clip962)\" cx=\"990.502\" cy=\"438.361\" r=\"14.4\" fill=\"#009af9\" fill-rule=\"evenodd\" fill-opacity=\"1\" stroke=\"#000000\" stroke-opacity=\"1\" stroke-width=\"3.2\"/>\n",
       "<circle clip-path=\"url(#clip962)\" cx=\"1176.35\" cy=\"744.947\" r=\"14.4\" fill=\"#009af9\" fill-rule=\"evenodd\" fill-opacity=\"1\" stroke=\"#000000\" stroke-opacity=\"1\" stroke-width=\"3.2\"/>\n",
       "<circle clip-path=\"url(#clip962)\" cx=\"1362.2\" cy=\"1270.52\" r=\"14.4\" fill=\"#009af9\" fill-rule=\"evenodd\" fill-opacity=\"1\" stroke=\"#000000\" stroke-opacity=\"1\" stroke-width=\"3.2\"/>\n",
       "<circle clip-path=\"url(#clip962)\" cx=\"1548.04\" cy=\"1445.72\" r=\"14.4\" fill=\"#009af9\" fill-rule=\"evenodd\" fill-opacity=\"1\" stroke=\"#000000\" stroke-opacity=\"1\" stroke-width=\"3.2\"/>\n",
       "<circle clip-path=\"url(#clip962)\" cx=\"1733.89\" cy=\"920.139\" r=\"14.4\" fill=\"#009af9\" fill-rule=\"evenodd\" fill-opacity=\"1\" stroke=\"#000000\" stroke-opacity=\"1\" stroke-width=\"3.2\"/>\n",
       "<circle clip-path=\"url(#clip962)\" cx=\"1919.73\" cy=\"744.947\" r=\"14.4\" fill=\"#009af9\" fill-rule=\"evenodd\" fill-opacity=\"1\" stroke=\"#000000\" stroke-opacity=\"1\" stroke-width=\"3.2\"/>\n",
       "<circle clip-path=\"url(#clip962)\" cx=\"2105.58\" cy=\"87.9763\" r=\"14.4\" fill=\"#009af9\" fill-rule=\"evenodd\" fill-opacity=\"1\" stroke=\"#000000\" stroke-opacity=\"1\" stroke-width=\"3.2\"/>\n",
       "<circle clip-path=\"url(#clip962)\" cx=\"2291.43\" cy=\"438.361\" r=\"14.4\" fill=\"#009af9\" fill-rule=\"evenodd\" fill-opacity=\"1\" stroke=\"#000000\" stroke-opacity=\"1\" stroke-width=\"3.2\"/>\n",
       "</svg>\n"
      ]
     },
     "execution_count": 234,
     "metadata": {},
     "output_type": "execute_result"
    }
   ],
   "source": [
    "plot(meses,temps, marker = :circle, legend = false, grid = false)\n",
    "# savefig(\"exemplo.pdf\")"
   ]
  },
  {
   "cell_type": "markdown",
   "metadata": {},
   "source": [
    "**Figura** Exemplo de plotar 2 vetores"
   ]
  },
  {
   "cell_type": "markdown",
   "metadata": {},
   "source": [
    "## Adição e substração de vetores"
   ]
  },
  {
   "cell_type": "code",
   "execution_count": 235,
   "metadata": {},
   "outputs": [
    {
     "data": {
      "text/plain": [
       "3-element Vector{Int64}:\n",
       " 1\n",
       " 9\n",
       " 3"
      ]
     },
     "execution_count": 235,
     "metadata": {},
     "output_type": "execute_result"
    }
   ],
   "source": [
    "[0, 7, 3] + [1, 2, 0] #Vetor soma"
   ]
  },
  {
   "cell_type": "code",
   "execution_count": 236,
   "metadata": {},
   "outputs": [
    {
     "data": {
      "text/plain": [
       "2-element Vector{Int64}:\n",
       " 0\n",
       " 8"
      ]
     },
     "execution_count": 236,
     "metadata": {},
     "output_type": "execute_result"
    }
   ],
   "source": [
    "[1,9] - [1,1] #Vetor subtração"
   ]
  },
  {
   "cell_type": "markdown",
   "metadata": {},
   "source": [
    "## Multiplicação escalar-vetor"
   ]
  },
  {
   "cell_type": "markdown",
   "metadata": {},
   "source": [
    "**Multiplicação e divisão escalar-vetor:** "
   ]
  },
  {
   "cell_type": "code",
   "execution_count": 237,
   "metadata": {},
   "outputs": [
    {
     "data": {
      "text/plain": [
       "([0.0, 4.4, -2.2], [0.0, 4.4, -2.2])"
      ]
     },
     "execution_count": 237,
     "metadata": {},
     "output_type": "execute_result"
    }
   ],
   "source": [
    "x = [0, 2, -1]\n",
    "2.2*x, x*2.2 #multiplicação escalar-vetor"
   ]
  },
  {
   "cell_type": "code",
   "execution_count": 238,
   "metadata": {},
   "outputs": [
    {
     "data": {
      "text/plain": [
       "([0.0, 0.6666666666666666, -0.3333333333333333], [0.0, 0.6666666666666666, -0.3333333333333333])"
      ]
     },
     "execution_count": 238,
     "metadata": {},
     "output_type": "execute_result"
    }
   ],
   "source": [
    "x/3, 3\\x #Divisão escalar-vetor"
   ]
  },
  {
   "cell_type": "markdown",
   "metadata": {},
   "source": [
    "**Adição escalar-vetor:**"
   ]
  },
  {
   "cell_type": "code",
   "execution_count": 239,
   "metadata": {},
   "outputs": [
    {
     "data": {
      "text/plain": [
       "3-element Vector{Float64}:\n",
       " -0.2999999999999998\n",
       " -5.1\n",
       " -1.0999999999999999"
      ]
     },
     "execution_count": 239,
     "metadata": {},
     "output_type": "execute_result"
    }
   ],
   "source": [
    "[1.1, -3.7, 0.3] .- 1.4 #Substração vetor-escalar"
   ]
  },
  {
   "cell_type": "code",
   "execution_count": 240,
   "metadata": {},
   "outputs": [
    {
     "data": {
      "text/plain": [
       "2-element Vector{Float64}:\n",
       "  1.7\n",
       " -0.30000000000000004"
      ]
     },
     "execution_count": 240,
     "metadata": {},
     "output_type": "execute_result"
    }
   ],
   "source": [
    "0.7 .+ [1, -1] # realizando escalar-adição com o escalar à esquerda"
   ]
  },
  {
   "cell_type": "markdown",
   "metadata": {},
   "source": [
    "**Operações elemento a elemento.** \n",
    "Podemos realizar uma operação em cada elemento ou coeficiente de um vetor. Para isso, adicionamos um ponto (```.```) antes do operador. Por exemplo, se x e y são vetores, então ```x.*y, x./y, x.\\y, x.^y``` são operações vetor-vetor elemento a elemento. Eles resultam em vetores do mesmo comprimento que $x$ e $y$, onde o  $i$-esimo elemento são $x_i*y_i$, $x_i/y_i$, $y_i/x_i$ e $x_i^{y_i}$, respectivamente.\n"
   ]
  },
  {
   "cell_type": "code",
   "execution_count": 241,
   "metadata": {},
   "outputs": [
    {
     "data": {
      "text/plain": [
       "3-element Vector{Float64}:\n",
       "  0.04063205417607233\n",
       " -0.02239140170174653\n",
       "  0.006165228113440097"
      ]
     },
     "execution_count": 241,
     "metadata": {},
     "output_type": "execute_result"
    }
   ],
   "source": [
    "x = [ 22.15, 89.32, 56.77 ];\n",
    "y = [ 23.05, 87.32, 57.12 ];\n",
    "z = (y - x) ./ x"
   ]
  },
  {
   "cell_type": "markdown",
   "metadata": {},
   "source": [
    "**Operações elementares com um escalar:** Se ```a``` é um escalar e ```x``` é um vetor então ```x.^a``` é um vetor com $i$-ésimo elemento ${x_i}^{a}$, e ```a .^x``` é um vetor com elementos $a^{x_i}$.\n",
    "\n",
    "Também podemos usar a notação de ponto com uma função que tenha um nome, para informar a Julia que a função deve ser aplicada elemento a elemento. Nesse caso, adicionamos o ponto *depois* do nome da função para indicar que ela deve ser aplicada elemento a elemento. \n",
    "\n",
    "**Exemplo:** Se ```x``` é um vetor, podemos formar ```sin.(x)``` para aplicar a função $seno$ a cada elemento de ```x```."
   ]
  },
  {
   "cell_type": "code",
   "execution_count": 242,
   "metadata": {},
   "outputs": [
    {
     "data": {
      "text/plain": [
       "3-element Vector{Float64}:\n",
       " -0.1581841970713881\n",
       "  0.9768929803388944\n",
       "  0.21952955414664974"
      ]
     },
     "execution_count": 242,
     "metadata": {},
     "output_type": "execute_result"
    }
   ],
   "source": [
    "x\n",
    "sin.(x)"
   ]
  },
  {
   "cell_type": "markdown",
   "metadata": {},
   "source": [
    "O operador de teste de igualdade ```==``` (e outros operadores relacionais como ```<```,```>=```) pode funcionar elemento a elemento precedendo-o com um ponto: ```x == y``` nos diz se ```x``` e ```y``` são ou não o mesmo vetor; ```x.==y``` é um vetor cujas entradas nos dizem se as entradas correspondentes em ```x``` e ```y``` são iguais."
   ]
  },
  {
   "cell_type": "code",
   "execution_count": 243,
   "metadata": {},
   "outputs": [
    {
     "data": {
      "text/plain": [
       "3-element BitVector:\n",
       " 1\n",
       " 1\n",
       " 0"
      ]
     },
     "execution_count": 243,
     "metadata": {},
     "output_type": "execute_result"
    }
   ],
   "source": [
    "w = [1,2,2]; z = [1,2,3]\n",
    "w == z\n",
    "w .== z"
   ]
  },
  {
   "cell_type": "markdown",
   "metadata": {},
   "source": [
    "Podemos combinar isso para extrair o subvetor de entradas que satisfaçam alguma condição lógica."
   ]
  },
  {
   "cell_type": "code",
   "execution_count": 244,
   "metadata": {},
   "outputs": [
    {
     "data": {
      "text/plain": [
       "4-element Vector{Float64}:\n",
       "  1.1\n",
       "  5.5\n",
       " -2.5\n",
       " -0.3"
      ]
     },
     "execution_count": 244,
     "metadata": {},
     "output_type": "execute_result"
    }
   ],
   "source": [
    "x = [1.1, 5.5, -2.5, -0.3]"
   ]
  },
  {
   "cell_type": "code",
   "execution_count": 245,
   "metadata": {},
   "outputs": [
    {
     "data": {
      "text/plain": [
       "2-element Vector{Float64}:\n",
       "  5.5\n",
       " -2.5"
      ]
     },
     "execution_count": 245,
     "metadata": {},
     "output_type": "execute_result"
    }
   ],
   "source": [
    "x[abs.(x) .> 2] # dá o subvetor de ```x``` consistindo em entradas maiores que $2$ em valor absoluto."
   ]
  },
  {
   "cell_type": "markdown",
   "metadata": {},
   "source": [
    "A notação de ponto também funciona com atribuição, permitindo atribuir várias entradas de um vetor a um valor escalar."
   ]
  },
  {
   "cell_type": "code",
   "execution_count": 246,
   "metadata": {},
   "outputs": [
    {
     "data": {
      "text/plain": [
       "4-element Vector{Float64}:\n",
       " 0.5840168285859942\n",
       " 0.9689060563937293\n",
       " 0.6422329821827639\n",
       " 0.19186809349306855"
      ]
     },
     "execution_count": 246,
     "metadata": {},
     "output_type": "execute_result"
    }
   ],
   "source": [
    "x = rand(4)"
   ]
  },
  {
   "cell_type": "code",
   "execution_count": 247,
   "metadata": {},
   "outputs": [
    {
     "data": {
      "text/plain": [
       "4-element Vector{Float64}:\n",
       "  1.0\n",
       " -1.0\n",
       "  0.6422329821827639\n",
       "  0.19186809349306855"
      ]
     },
     "execution_count": 247,
     "metadata": {},
     "output_type": "execute_result"
    }
   ],
   "source": [
    "x[1:2] = [1, -1]\n",
    "x"
   ]
  },
  {
   "cell_type": "code",
   "execution_count": 248,
   "metadata": {},
   "outputs": [
    {
     "data": {
      "text/plain": [
       "4-element Vector{Float64}:\n",
       " 1.0\n",
       " 3.141592653589793\n",
       " 3.141592653589793\n",
       " 0.19186809349306855"
      ]
     },
     "execution_count": 248,
     "metadata": {},
     "output_type": "execute_result"
    }
   ],
   "source": [
    "x[2:3] .= π\n",
    "x"
   ]
  },
  {
   "cell_type": "markdown",
   "metadata": {},
   "source": [
    "## Combinação linear:"
   ]
  },
  {
   "cell_type": "code",
   "execution_count": 334,
   "metadata": {},
   "outputs": [
    {
     "data": {
      "text/plain": [
       "2-element Vector{Float64}:\n",
       " 4.0\n",
       " 5.0"
      ]
     },
     "execution_count": 334,
     "metadata": {},
     "output_type": "execute_result"
    }
   ],
   "source": [
    "a = [1, 2]; b = [ 3, 4]\n",
    "α = -0.5; β = 1.5; \n",
    "c = α*a + β*b  # combinação linear"
   ]
  },
  {
   "cell_type": "markdown",
   "metadata": {},
   "source": [
    "A seguinte função usa uma lista de coeficientes e uma lista de vetores como seus argumentos e retorna a combinação linear. As listas podem ser representadas por tuplas ou arrays."
   ]
  },
  {
   "cell_type": "code",
   "execution_count": 250,
   "metadata": {},
   "outputs": [
    {
     "data": {
      "text/plain": [
       "comblinear (generic function with 1 method)"
      ]
     },
     "execution_count": 250,
     "metadata": {},
     "output_type": "execute_result"
    }
   ],
   "source": [
    "function comblinear(coef,vetores)\n",
    "    n = length(vetores[1]) # tamanho dos vetores\n",
    "    a = zeros(n)\n",
    "    for i = 1:length(vetores)\n",
    "        a = a + coef[i] * vetores[i];\n",
    "    end\n",
    "    return a\n",
    "end"
   ]
  },
  {
   "cell_type": "code",
   "execution_count": 251,
   "metadata": {},
   "outputs": [
    {
     "data": {
      "text/plain": [
       "2-element Vector{Float64}:\n",
       " 7.0\n",
       " 8.0"
      ]
     },
     "execution_count": 251,
     "metadata": {},
     "output_type": "execute_result"
    }
   ],
   "source": [
    "comblinear((-1.5,2.5), ([2,3], [4,5]))"
   ]
  },
  {
   "cell_type": "markdown",
   "metadata": {},
   "source": [
    "Otra forma de escrever a mesma função é:"
   ]
  },
  {
   "cell_type": "code",
   "execution_count": 252,
   "metadata": {},
   "outputs": [
    {
     "data": {
      "text/plain": [
       "2-element Vector{Float64}:\n",
       " 7.0\n",
       " 8.0"
      ]
     },
     "execution_count": 252,
     "metadata": {},
     "output_type": "execute_result"
    }
   ],
   "source": [
    "function comblinear(coef,vetores)\n",
    "    return sum(coef[i] * vetores[i] for i = 1:length(vetores))\n",
    "end\n",
    "\n",
    "comblinear((-1.5,2.5), ([2,3], [4,5]))"
   ]
  },
  {
   "cell_type": "markdown",
   "metadata": {},
   "source": [
    "## Verificando propriedades.\n",
    "\n",
    "Vamos verificar a propriedade distributiva\n",
    "\n",
    "$$\\alpha(u+v) = \\alpha u+\\alpha v, \\qquad \\forall\\alpha \\in \\mathbb{R},\\,\\forall u,v \\in \\mathbb{R}^n$$\n",
    "\n"
   ]
  },
  {
   "cell_type": "code",
   "execution_count": 253,
   "metadata": {},
   "outputs": [
    {
     "data": {
      "text/plain": [
       "([0.7360179272117433, 0.30563558936822566, 0.4462947399094813], [0.22032689516853876, 0.5926715701469955, 0.49450767167380427], 1.2924982839322676)"
      ]
     },
     "execution_count": 253,
     "metadata": {},
     "output_type": "execute_result"
    }
   ],
   "source": [
    "u = rand(3)\n",
    "v = rand(3)\n",
    "alfa = randn()\n",
    "u,v,alfa"
   ]
  },
  {
   "cell_type": "code",
   "execution_count": 254,
   "metadata": {},
   "outputs": [
    {
     "data": {
      "text/plain": [
       "3-element Vector{Float64}:\n",
       " 1.236074041774024\n",
       " 1.1610604621174931\n",
       " 1.2159855024907356"
      ]
     },
     "execution_count": 254,
     "metadata": {},
     "output_type": "execute_result"
    }
   ],
   "source": [
    "esquerda = alfa*(u+v)"
   ]
  },
  {
   "cell_type": "code",
   "execution_count": 255,
   "metadata": {},
   "outputs": [
    {
     "data": {
      "text/plain": [
       "3-element Vector{Float64}:\n",
       " 1.236074041774024\n",
       " 1.1610604621174931\n",
       " 1.2159855024907356"
      ]
     },
     "execution_count": 255,
     "metadata": {},
     "output_type": "execute_result"
    }
   ],
   "source": [
    "direita = alfa*u + alfa * v"
   ]
  },
  {
   "cell_type": "code",
   "execution_count": 256,
   "metadata": {},
   "outputs": [
    {
     "data": {
      "text/plain": [
       "true"
      ]
     },
     "execution_count": 256,
     "metadata": {},
     "output_type": "execute_result"
    }
   ],
   "source": [
    "esquerda == direita"
   ]
  },
  {
   "cell_type": "markdown",
   "metadata": {},
   "source": [
    "Embora os vetores esquerda e direita sejam exibidos como iguais, eles podem não ser exatamente iguais, devido a erros de arredondamento muito pequenos em cálculos de ponto flutuante."
   ]
  },
  {
   "cell_type": "markdown",
   "metadata": {},
   "source": [
    "# Produto Interno"
   ]
  },
  {
   "cell_type": "markdown",
   "metadata": {},
   "source": [
    "O produto interno dos vetores $x$ e $y$ é denotado como $x^Ty$. Em Julia, o produto interno de ```x``` e ```y``` é denotado como ```x'*y```."
   ]
  },
  {
   "cell_type": "code",
   "execution_count": 257,
   "metadata": {},
   "outputs": [
    {
     "data": {
      "text/plain": [
       "-7"
      ]
     },
     "execution_count": 257,
     "metadata": {},
     "output_type": "execute_result"
    }
   ],
   "source": [
    "x = [-1, 2,2];\n",
    "y = [1, 0, -3];\n",
    "x'*y"
   ]
  },
  {
   "cell_type": "markdown",
   "metadata": {},
   "source": [
    "## Exemplo: População total em idade escolar.\n",
    "\n",
    "Suponha que o vetor  $ x\\in \\mathbb{R}^{100}$ forneça a distribuição etária de alguma população, com $x_i$ sendo o número de pessoas com a idade ```i-1```, para $i = 1,\\ldots,100$. \n",
    "\n",
    "O número total de pessoas com idade entre $5$ e $18$ anos(inclusive) é dado por $x_6+x_7+...+x_{18}+x_{19}$. Podemos expressar isso como $s^T x$, onde $s$ é o vetor com entradas para ```i = 6,...,19``` e zero caso contrário. Em Julia, isso é expresso como"
   ]
  },
  {
   "cell_type": "code",
   "execution_count": 258,
   "metadata": {},
   "outputs": [
    {
     "data": {
      "text/plain": [
       "166.0"
      ]
     },
     "execution_count": 258,
     "metadata": {},
     "output_type": "execute_result"
    }
   ],
   "source": [
    "s = [zeros(5); ones(14); zeros(81)];\n",
    "x_idades = [rand(5:18) for i = 1:100];\n",
    "\n",
    "Pop_idade_escolar = s'*x_idades"
   ]
  },
  {
   "cell_type": "markdown",
   "metadata": {},
   "source": [
    "Note que, outras expressões podem ser usadas para calcular essa quantidade, por exemplo, a expressão ```sum(x[6:19])```."
   ]
  },
  {
   "cell_type": "code",
   "execution_count": 259,
   "metadata": {},
   "outputs": [
    {
     "data": {
      "text/plain": [
       "166"
      ]
     },
     "execution_count": 259,
     "metadata": {},
     "output_type": "execute_result"
    }
   ],
   "source": [
    "sum(x_idades[6:19])"
   ]
  },
  {
   "cell_type": "markdown",
   "metadata": {},
   "source": [
    "# Observação sobre os cálculos no computador\n",
    "**Operadores de ponto flutuante**. Sabemos que\n",
    "\n",
    "$$(a+b)(a-b) = a^2-b^2 \\qquad \\forall \\, a, b\\in \\mathbb{R}.$$\n",
    "\n",
    "Quando um computador calcula o lado esquerdo e o lado direito, para números específicos $a$ e $b$, estes não precisam ser exatamente iguais, devido a erros de arredondamento de ponto flutuante muito pequenos. Mas eles devem ser quase iguais."
   ]
  },
  {
   "cell_type": "code",
   "execution_count": 260,
   "metadata": {},
   "outputs": [
    {
     "data": {
      "text/plain": [
       "0.6661647491052783"
      ]
     },
     "execution_count": 260,
     "metadata": {},
     "output_type": "execute_result"
    }
   ],
   "source": [
    "a = rand();\n",
    "b = rand();\n",
    "esquerda = (a+b) * (a-b)"
   ]
  },
  {
   "cell_type": "code",
   "execution_count": 261,
   "metadata": {},
   "outputs": [
    {
     "data": {
      "text/plain": [
       "0.6661647491052783"
      ]
     },
     "execution_count": 261,
     "metadata": {},
     "output_type": "execute_result"
    }
   ],
   "source": [
    "direita = a^2 - b^2"
   ]
  },
  {
   "cell_type": "code",
   "execution_count": 262,
   "metadata": {},
   "outputs": [
    {
     "data": {
      "text/plain": [
       "0.0"
      ]
     },
     "execution_count": 262,
     "metadata": {},
     "output_type": "execute_result"
    }
   ],
   "source": [
    "esquerda - direita"
   ]
  },
  {
   "cell_type": "markdown",
   "metadata": {},
   "source": [
    "Aqui vemos que os lados esquerdo e direito não são exatamente iguais, mas muito próximos."
   ]
  },
  {
   "cell_type": "markdown",
   "metadata": {},
   "source": [
    "## Complexidade: \n",
    "Podemos cronometrar em Julia adicionando ```@time``` antes do comando. O cronômetro não é muito preciso para tempos muito pequenos, digamos, medidos em microssegundos $(10^{-6} segundos)$. Além disso, devemos executar o comando mais de uma vez; pode ser muito mais rápido nas execuções subsequentes."
   ]
  },
  {
   "cell_type": "code",
   "execution_count": 263,
   "metadata": {},
   "outputs": [
    {
     "name": "stdout",
     "output_type": "stream",
     "text": [
      "  0.006193 seconds (2 allocations: 32 bytes)\n"
     ]
    },
    {
     "data": {
      "text/plain": [
       "300.1986520820708"
      ]
     },
     "execution_count": 263,
     "metadata": {},
     "output_type": "execute_result"
    }
   ],
   "source": [
    "a = randn(10^5); b = randn(10^5)\n",
    "@time a'*b"
   ]
  },
  {
   "cell_type": "code",
   "execution_count": 264,
   "metadata": {},
   "outputs": [
    {
     "name": "stdout",
     "output_type": "stream",
     "text": [
      "  0.000414 seconds (2 allocations: 32 bytes)\n"
     ]
    },
    {
     "data": {
      "text/plain": [
       "300.1986520820708"
      ]
     },
     "execution_count": 264,
     "metadata": {},
     "output_type": "execute_result"
    }
   ],
   "source": [
    "@time a'*b"
   ]
  },
  {
   "cell_type": "code",
   "execution_count": 265,
   "metadata": {},
   "outputs": [
    {
     "name": "stdout",
     "output_type": "stream",
     "text": [
      "  0.001032 seconds (2 allocations: 32 bytes)\n"
     ]
    },
    {
     "data": {
      "text/plain": [
       "-298.0697977978739"
      ]
     },
     "execution_count": 265,
     "metadata": {},
     "output_type": "execute_result"
    }
   ],
   "source": [
    "c = randn(10^6); d = randn(10^6)\n",
    "@time c'*d"
   ]
  },
  {
   "cell_type": "code",
   "execution_count": 266,
   "metadata": {},
   "outputs": [
    {
     "name": "stdout",
     "output_type": "stream",
     "text": [
      "  0.000998 seconds (2 allocations: 32 bytes)\n"
     ]
    },
    {
     "data": {
      "text/plain": [
       "-298.0697977978739"
      ]
     },
     "execution_count": 266,
     "metadata": {},
     "output_type": "execute_result"
    }
   ],
   "source": [
    "@time c'*d"
   ]
  },
  {
   "cell_type": "markdown",
   "metadata": {},
   "source": [
    "O primeiro produto interno, de um vetor de comprimento $10^5$, leva cerca de $0,00017$ segundos; o segundo, com vetores de comprimento $10^6$ (dez vezes maior), o produto leva cerca de $0,0018$ segundos, cerca de $10$ a mais. Isso é previsto pela complexidade do produto interno, que é $2n-1$ flops. \n",
    "\n",
    "O computador no qual os cálculos foram feitos é capaz de cerca de $2\\times10^6/0.001765$ flops por segundo, ou seja, cerca de $1$ Gflop/s. Esses tempos e a estimativa da velocidade do computador são muito aproximados."
   ]
  },
  {
   "cell_type": "markdown",
   "metadata": {},
   "source": [
    "## Vetores esparsos: \n",
    "As funções para criar e manipular vetores esparsos estão contidas no pacote SparseArrays do Julia, então você precisa instalar este pacote antes de poder usá-los."
   ]
  },
  {
   "cell_type": "markdown",
   "metadata": {},
   "source": [
    "Os vetores esparsos são armazenados como arrays esparsos, ou seja, arrays nos quais apenas os elementos diferentes de zero são armazenados. Em Julia você pode criar um vetor esparso a partir de listas de índices e valores usando a função ```sparsevec```. Você também pode primeiro criar um vetor esparso de zeros (usando ```spzeros(n)```) e então atribuir valores às entradas diferentes de zero. Um vetor esparso pode ser criado a partir de um vetor não esparso usando ```sparse(x)```, que retorna uma versão esparsa de ```x```. ```nnz(x)``` dá o número de elementos diferentes de zero de um vetor esparso. Os vetores esparsos são sobrecarregados para funcionar como você imagina; por exemplo, todas as operações vetoriais usuais funcionam e são automaticamente reformuladas como vetores não esparsos quando apropriado."
   ]
  },
  {
   "cell_type": "code",
   "execution_count": 267,
   "metadata": {},
   "outputs": [],
   "source": [
    "using SparseArrays #Para manipular vetores esparsos"
   ]
  },
  {
   "cell_type": "code",
   "execution_count": 268,
   "metadata": {},
   "outputs": [
    {
     "data": {
      "text/plain": [
       "1000000-element SparseVector{Float64, Int64} with 2 stored entries:\n",
       "  [123456]  =  1.0\n",
       "  [123457]  =  -1.0"
      ]
     },
     "execution_count": 268,
     "metadata": {},
     "output_type": "execute_result"
    }
   ],
   "source": [
    "a = sparsevec([123456, 123457],[1.0,-1.0], 10^6) #  cria um vetor esparso a partir de listas de índices e valores"
   ]
  },
  {
   "cell_type": "code",
   "execution_count": 269,
   "metadata": {},
   "outputs": [
    {
     "data": {
      "text/plain": [
       "1000000"
      ]
     },
     "execution_count": 269,
     "metadata": {},
     "output_type": "execute_result"
    }
   ],
   "source": [
    "length(a)"
   ]
  },
  {
   "cell_type": "code",
   "execution_count": 270,
   "metadata": {},
   "outputs": [
    {
     "data": {
      "text/plain": [
       "2"
      ]
     },
     "execution_count": 270,
     "metadata": {},
     "output_type": "execute_result"
    }
   ],
   "source": [
    "nnz(a) # número de elementos diferentes de zero de um vetor esparso"
   ]
  },
  {
   "cell_type": "code",
   "execution_count": 271,
   "metadata": {},
   "outputs": [
    {
     "name": "stdout",
     "output_type": "stream",
     "text": [
      "  0.000021 seconds (3 allocations: 192 bytes)\n"
     ]
    },
    {
     "data": {
      "text/plain": [
       "1000000-element SparseVector{Float64, Int64} with 2 stored entries:\n",
       "  [123456]  =  2.0\n",
       "  [123457]  =  -2.0"
      ]
     },
     "execution_count": 271,
     "metadata": {},
     "output_type": "execute_result"
    }
   ],
   "source": [
    "b = randn(10^6) #Um ordinario (vetor não-esparso)\n",
    "@time 2*a #Calculado de forma eficiente!"
   ]
  },
  {
   "cell_type": "code",
   "execution_count": 272,
   "metadata": {},
   "outputs": [
    {
     "name": "stdout",
     "output_type": "stream",
     "text": [
      "  0.004571 seconds (2 allocations: 7.629 MiB)\n"
     ]
    },
    {
     "data": {
      "text/plain": [
       "1000000-element Vector{Float64}:\n",
       "  2.7352611013509107\n",
       " -0.02879177202803458\n",
       "  0.43286797970589524\n",
       " -0.5212172875462645\n",
       " -0.7557560091310106\n",
       "  1.1358473952809556\n",
       " -1.1560086356524868\n",
       " -1.4665250994607395\n",
       " -2.871394543583866\n",
       " -2.206489617520944\n",
       " -2.823371410592644\n",
       "  1.2660196448762988\n",
       "  0.10131225662038508\n",
       "  ⋮\n",
       "  3.038739843895814\n",
       " -2.5884006845324907\n",
       " -1.9159444376065642\n",
       "  1.6222399553591587\n",
       "  0.9824863765961261\n",
       "  0.8120472149803845\n",
       "  2.7777083412357833\n",
       " -1.0701386270210558\n",
       "  1.275947216574459\n",
       "  0.4055504312164751\n",
       " -1.068078354866941\n",
       "  0.5728313040915075"
      ]
     },
     "execution_count": 272,
     "metadata": {},
     "output_type": "execute_result"
    }
   ],
   "source": [
    "@time 2*b"
   ]
  },
  {
   "cell_type": "code",
   "execution_count": 273,
   "metadata": {},
   "outputs": [
    {
     "name": "stdout",
     "output_type": "stream",
     "text": [
      "  0.000012 seconds (2 allocations: 48 bytes)\n"
     ]
    },
    {
     "data": {
      "text/plain": [
       "0.8838761564726005"
      ]
     },
     "execution_count": 273,
     "metadata": {},
     "output_type": "execute_result"
    }
   ],
   "source": [
    "@time a'*b"
   ]
  },
  {
   "cell_type": "code",
   "execution_count": 274,
   "metadata": {},
   "outputs": [
    {
     "name": "stdout",
     "output_type": "stream",
     "text": [
      "  0.000498 seconds (2 allocations: 32 bytes)\n"
     ]
    },
    {
     "data": {
      "text/plain": [
       "998476.6832812866"
      ]
     },
     "execution_count": 274,
     "metadata": {},
     "output_type": "execute_result"
    }
   ],
   "source": [
    "@time b'*b"
   ]
  },
  {
   "cell_type": "code",
   "execution_count": 275,
   "metadata": {},
   "outputs": [
    {
     "name": "stdout",
     "output_type": "stream",
     "text": [
      "  0.040414 seconds (15 allocations: 30.518 MiB, 24.30% gc time)\n"
     ]
    },
    {
     "data": {
      "text/plain": [
       "1000000-element SparseVector{Float64, Int64} with 1000000 stored entries:\n",
       "  [1      ]  =  1.36763\n",
       "  [2      ]  =  -0.0143959\n",
       "  [3      ]  =  0.216434\n",
       "  [4      ]  =  -0.260609\n",
       "  [5      ]  =  -0.377878\n",
       "  [6      ]  =  0.567924\n",
       "  [7      ]  =  -0.578004\n",
       "  [8      ]  =  -0.733263\n",
       "  [9      ]  =  -1.4357\n",
       "  [10     ]  =  -1.10324\n",
       "             ⋮\n",
       "  [999990 ]  =  -1.2942\n",
       "  [999991 ]  =  -0.957972\n",
       "  [999992 ]  =  0.81112\n",
       "  [999993 ]  =  0.491243\n",
       "  [999994 ]  =  0.406024\n",
       "  [999995 ]  =  1.38885\n",
       "  [999996 ]  =  -0.535069\n",
       "  [999997 ]  =  0.637974\n",
       "  [999998 ]  =  0.202775\n",
       "  [999999 ]  =  -0.534039\n",
       "  [1000000]  =  0.286416"
      ]
     },
     "execution_count": 275,
     "metadata": {},
     "output_type": "execute_result"
    }
   ],
   "source": [
    "@time c = a + b"
   ]
  },
  {
   "cell_type": "markdown",
   "metadata": {},
   "source": [
    "Na última linha, o vetor esparso a é convertido automaticamente em um vetor comum (array) para que possa ser adicionado ao vetor aleatório; o resultado é um vetor (não esparso) de comprimento $10^6$."
   ]
  },
  {
   "cell_type": "code",
   "execution_count": 276,
   "metadata": {},
   "outputs": [],
   "source": [
    "using LinearAlgebra"
   ]
  },
  {
   "cell_type": "markdown",
   "metadata": {},
   "source": [
    "# Norma e distancia\n",
    "### Norma:\n",
    "A norma $‖x‖$ em Julia é `norm(x)`.  A função `norm`  esta definida no package `LinearAlgebra`."
   ]
  },
  {
   "cell_type": "code",
   "execution_count": 277,
   "metadata": {},
   "outputs": [
    {
     "data": {
      "text/plain": [
       "(3.0, 3.0, 3.0)"
      ]
     },
     "execution_count": 277,
     "metadata": {},
     "output_type": "execute_result"
    }
   ],
   "source": [
    "x = [ 2, -1, 2 ];\n",
    "norm(x), sqrt(x'*x), sqrt(sum(x.^2))"
   ]
  },
  {
   "cell_type": "code",
   "execution_count": 278,
   "metadata": {},
   "outputs": [
    {
     "data": {
      "text/plain": [
       "(5.0, 2.0, 3.0, 2.39678172692843)"
      ]
     },
     "execution_count": 278,
     "metadata": {},
     "output_type": "execute_result"
    }
   ],
   "source": [
    "norm(x, 1), # Norma 1\n",
    "norm(x, Inf), # Norma infinito\n",
    "norm(x, 2), #Norma Euclideana\n",
    "norm(x, 4) # Norma induzida p=4"
   ]
  },
  {
   "cell_type": "markdown",
   "metadata": {},
   "source": [
    "### Desigualdade Triangular:\n",
    "\n",
    "$$‖x+ y‖ ≤ ‖x‖+ ‖y‖\\qquad \\forall\\, x, y \\in \\mathbb{R}^n$$"
   ]
  },
  {
   "cell_type": "code",
   "execution_count": 279,
   "metadata": {},
   "outputs": [
    {
     "data": {
      "text/plain": [
       "(3.8224471160878473, 7.2395806364339)"
      ]
     },
     "execution_count": 279,
     "metadata": {},
     "output_type": "execute_result"
    }
   ],
   "source": [
    "x = randn(10); y = randn(10);\n",
    "esquerdo = norm(x+y)\n",
    "direito = norm(x) + norm(y)\n",
    "esquerdo, direito"
   ]
  },
  {
   "cell_type": "markdown",
   "metadata": {},
   "source": [
    "### Exemplo: Função media em Julia"
   ]
  },
  {
   "cell_type": "code",
   "execution_count": 280,
   "metadata": {},
   "outputs": [
    {
     "data": {
      "text/plain": [
       "-0.25"
      ]
     },
     "execution_count": 280,
     "metadata": {},
     "output_type": "execute_result"
    }
   ],
   "source": [
    "avg(x) = (ones(length(x)) / length(x))'*x;\n",
    "x = [1, -3, 2, -1];\n",
    "avg(x)"
   ]
  },
  {
   "cell_type": "markdown",
   "metadata": {},
   "source": [
    "### Distancia\n",
    "\n",
    "A distancia entre dois vetores é ${\\rm dist}(x, y) = ‖x − y‖$. Em Julia é `norm(x-y)`."
   ]
  },
  {
   "cell_type": "code",
   "execution_count": 281,
   "metadata": {},
   "outputs": [
    {
     "data": {
      "text/plain": [
       "(8.36779540858881, 0.3872983346207417, 8.532877591996735)"
      ]
     },
     "execution_count": 281,
     "metadata": {},
     "output_type": "execute_result"
    }
   ],
   "source": [
    "u = [1.8, 2.0, -3.7, 4.7];\n",
    "v = [0.6, 2.1, 1.9, -1.4];\n",
    "w = [2.0, 1.9, -4.0, 4.6];\n",
    "norm(u-v), norm(u-w), norm(v-w)"
   ]
  },
  {
   "cell_type": "markdown",
   "metadata": {},
   "source": [
    "## Vizinho mais Proximo:\n",
    "Definamos uma função que calcula o vizinho mais proximo de um vetor em uma lista de vetores."
   ]
  },
  {
   "cell_type": "code",
   "execution_count": 282,
   "metadata": {},
   "outputs": [
    {
     "data": {
      "image/png": "[encoded data removed]",
      "image/svg+xml": [
       "<?xml version=\"1.0\" encoding=\"utf-8\"?>\n",
       "<svg xmlns=\"http://www.w3.org/2000/svg\" xmlns:xlink=\"http://www.w3.org/1999/xlink\" width=\"600\" height=\"400\" viewBox=\"0 0 2400 1600\">\n",
       "<defs>\n",
       "  <clipPath id=\"clip000\">\n",
       "    <rect x=\"0\" y=\"0\" width=\"2400\" height=\"1600\"/>\n",
       "  </clipPath>\n",
       "</defs>\n",
       "<path clip-path=\"url(#clip000)\" d=\"M0 1600 L2400 1600 L2400 0 L0 0  Z\" fill=\"#ffffff\" fill-rule=\"evenodd\" fill-opacity=\"1\"/>\n",
       "<defs>\n",
       "  <clipPath id=\"clip001\">\n",
       "    <rect x=\"480\" y=\"0\" width=\"1681\" height=\"1600\"/>\n",
       "  </clipPath>\n",
       "</defs>\n",
       "<path clip-path=\"url(#clip000)\" d=\"M112.177 1486.45 L2352.76 1486.45 L2352.76 47.2441 L112.177 47.2441  Z\" fill=\"#ffffff\" fill-rule=\"evenodd\" fill-opacity=\"1\"/>\n",
       "<defs>\n",
       "  <clipPath id=\"clip002\">\n",
       "    <rect x=\"112\" y=\"47\" width=\"2242\" height=\"1440\"/>\n",
       "  </clipPath>\n",
       "</defs>\n",
       "<polyline clip-path=\"url(#clip002)\" style=\"stroke:#000000; stroke-linecap:round; stroke-linejoin:round; stroke-width:2; stroke-opacity:0.1; fill:none\" points=\"439.809,1486.45 439.809,47.2441 \"/>\n",
       "<polyline clip-path=\"url(#clip002)\" style=\"stroke:#000000; stroke-linecap:round; stroke-linejoin:round; stroke-width:2; stroke-opacity:0.1; fill:none\" points=\"968.247,1486.45 968.247,47.2441 \"/>\n",
       "<polyline clip-path=\"url(#clip002)\" style=\"stroke:#000000; stroke-linecap:round; stroke-linejoin:round; stroke-width:2; stroke-opacity:0.1; fill:none\" points=\"1496.69,1486.45 1496.69,47.2441 \"/>\n",
       "<polyline clip-path=\"url(#clip002)\" style=\"stroke:#000000; stroke-linecap:round; stroke-linejoin:round; stroke-width:2; stroke-opacity:0.1; fill:none\" points=\"2025.12,1486.45 2025.12,47.2441 \"/>\n",
       "<polyline clip-path=\"url(#clip000)\" style=\"stroke:#000000; stroke-linecap:round; stroke-linejoin:round; stroke-width:4; stroke-opacity:1; fill:none\" points=\"112.177,1486.45 2352.76,1486.45 \"/>\n",
       "<polyline clip-path=\"url(#clip000)\" style=\"stroke:#000000; stroke-linecap:round; stroke-linejoin:round; stroke-width:4; stroke-opacity:1; fill:none\" points=\"439.809,1486.45 439.809,1467.55 \"/>\n",
       "<polyline clip-path=\"url(#clip000)\" style=\"stroke:#000000; stroke-linecap:round; stroke-linejoin:round; stroke-width:4; stroke-opacity:1; fill:none\" points=\"968.247,1486.45 968.247,1467.55 \"/>\n",
       "<polyline clip-path=\"url(#clip000)\" style=\"stroke:#000000; stroke-linecap:round; stroke-linejoin:round; stroke-width:4; stroke-opacity:1; fill:none\" points=\"1496.69,1486.45 1496.69,1467.55 \"/>\n",
       "<polyline clip-path=\"url(#clip000)\" style=\"stroke:#000000; stroke-linecap:round; stroke-linejoin:round; stroke-width:4; stroke-opacity:1; fill:none\" points=\"2025.12,1486.45 2025.12,1467.55 \"/>\n",
       "<path clip-path=\"url(#clip000)\" d=\"M434.462 1544.91 L450.781 1544.91 L450.781 1548.85 L428.837 1548.85 L428.837 1544.91 Q431.499 1542.16 436.082 1537.53 Q440.689 1532.88 441.869 1531.53 Q444.115 1529.01 444.994 1527.27 Q445.897 1525.51 445.897 1523.82 Q445.897 1521.07 443.952 1519.33 Q442.031 1517.6 438.929 1517.6 Q436.73 1517.6 434.277 1518.36 Q431.846 1519.13 429.068 1520.68 L429.068 1515.95 Q431.892 1514.82 434.346 1514.24 Q436.8 1513.66 438.837 1513.66 Q444.207 1513.66 447.402 1516.35 Q450.596 1519.03 450.596 1523.52 Q450.596 1525.65 449.786 1527.57 Q448.999 1529.47 446.892 1532.07 Q446.314 1532.74 443.212 1535.95 Q440.11 1539.15 434.462 1544.91 Z\" fill=\"#000000\" fill-rule=\"nonzero\" fill-opacity=\"1\" /><path clip-path=\"url(#clip000)\" d=\"M971.257 1518.36 L959.451 1536.81 L971.257 1536.81 L971.257 1518.36 M970.03 1514.29 L975.909 1514.29 L975.909 1536.81 L980.84 1536.81 L980.84 1540.7 L975.909 1540.7 L975.909 1548.85 L971.257 1548.85 L971.257 1540.7 L955.655 1540.7 L955.655 1536.19 L970.03 1514.29 Z\" fill=\"#000000\" fill-rule=\"nonzero\" fill-opacity=\"1\" /><path clip-path=\"url(#clip000)\" d=\"M1497.09 1529.7 Q1493.94 1529.7 1492.09 1531.86 Q1490.26 1534.01 1490.26 1537.76 Q1490.26 1541.49 1492.09 1543.66 Q1493.94 1545.82 1497.09 1545.82 Q1500.24 1545.82 1502.07 1543.66 Q1503.92 1541.49 1503.92 1537.76 Q1503.92 1534.01 1502.07 1531.86 Q1500.24 1529.7 1497.09 1529.7 M1506.37 1515.05 L1506.37 1519.31 Q1504.61 1518.48 1502.81 1518.04 Q1501.03 1517.6 1499.27 1517.6 Q1494.64 1517.6 1492.18 1520.72 Q1489.75 1523.85 1489.41 1530.17 Q1490.77 1528.15 1492.83 1527.09 Q1494.89 1526 1497.37 1526 Q1502.58 1526 1505.59 1529.17 Q1508.62 1532.32 1508.62 1537.76 Q1508.62 1543.08 1505.47 1546.3 Q1502.32 1549.52 1497.09 1549.52 Q1491.1 1549.52 1487.92 1544.94 Q1484.75 1540.33 1484.75 1531.6 Q1484.75 1523.41 1488.64 1518.55 Q1492.53 1513.66 1499.08 1513.66 Q1500.84 1513.66 1502.62 1514.01 Q1504.43 1514.36 1506.37 1515.05 Z\" fill=\"#000000\" fill-rule=\"nonzero\" fill-opacity=\"1\" /><path clip-path=\"url(#clip000)\" d=\"M2025.12 1532.44 Q2021.79 1532.44 2019.87 1534.22 Q2017.97 1536 2017.97 1539.13 Q2017.97 1542.25 2019.87 1544.03 Q2021.79 1545.82 2025.12 1545.82 Q2028.46 1545.82 2030.38 1544.03 Q2032.3 1542.23 2032.3 1539.13 Q2032.3 1536 2030.38 1534.22 Q2028.48 1532.44 2025.12 1532.44 M2020.45 1530.45 Q2017.44 1529.7 2015.75 1527.64 Q2014.08 1525.58 2014.08 1522.62 Q2014.08 1518.48 2017.02 1516.07 Q2019.99 1513.66 2025.12 1513.66 Q2030.29 1513.66 2033.23 1516.07 Q2036.17 1518.48 2036.17 1522.62 Q2036.17 1525.58 2034.48 1527.64 Q2032.81 1529.7 2029.82 1530.45 Q2033.2 1531.23 2035.08 1533.52 Q2036.98 1535.82 2036.98 1539.13 Q2036.98 1544.15 2033.9 1546.83 Q2030.84 1549.52 2025.12 1549.52 Q2019.41 1549.52 2016.33 1546.83 Q2013.27 1544.15 2013.27 1539.13 Q2013.27 1535.82 2015.17 1533.52 Q2017.07 1531.23 2020.45 1530.45 M2018.74 1523.06 Q2018.74 1525.75 2020.4 1527.25 Q2022.09 1528.76 2025.12 1528.76 Q2028.13 1528.76 2029.82 1527.25 Q2031.54 1525.75 2031.54 1523.06 Q2031.54 1520.38 2029.82 1518.87 Q2028.13 1517.37 2025.12 1517.37 Q2022.09 1517.37 2020.4 1518.87 Q2018.74 1520.38 2018.74 1523.06 Z\" fill=\"#000000\" fill-rule=\"nonzero\" fill-opacity=\"1\" /><polyline clip-path=\"url(#clip002)\" style=\"stroke:#000000; stroke-linecap:round; stroke-linejoin:round; stroke-width:2; stroke-opacity:0.1; fill:none\" points=\"112.177,1251.75 2352.76,1251.75 \"/>\n",
       "<polyline clip-path=\"url(#clip002)\" style=\"stroke:#000000; stroke-linecap:round; stroke-linejoin:round; stroke-width:2; stroke-opacity:0.1; fill:none\" points=\"112.177,863.827 2352.76,863.827 \"/>\n",
       "<polyline clip-path=\"url(#clip002)\" style=\"stroke:#000000; stroke-linecap:round; stroke-linejoin:round; stroke-width:2; stroke-opacity:0.1; fill:none\" points=\"112.177,475.902 2352.76,475.902 \"/>\n",
       "<polyline clip-path=\"url(#clip002)\" style=\"stroke:#000000; stroke-linecap:round; stroke-linejoin:round; stroke-width:2; stroke-opacity:0.1; fill:none\" points=\"112.177,87.9763 2352.76,87.9763 \"/>\n",
       "<polyline clip-path=\"url(#clip000)\" style=\"stroke:#000000; stroke-linecap:round; stroke-linejoin:round; stroke-width:4; stroke-opacity:1; fill:none\" points=\"112.177,1486.45 112.177,47.2441 \"/>\n",
       "<polyline clip-path=\"url(#clip000)\" style=\"stroke:#000000; stroke-linecap:round; stroke-linejoin:round; stroke-width:4; stroke-opacity:1; fill:none\" points=\"112.177,1251.75 131.075,1251.75 \"/>\n",
       "<polyline clip-path=\"url(#clip000)\" style=\"stroke:#000000; stroke-linecap:round; stroke-linejoin:round; stroke-width:4; stroke-opacity:1; fill:none\" points=\"112.177,863.827 131.075,863.827 \"/>\n",
       "<polyline clip-path=\"url(#clip000)\" style=\"stroke:#000000; stroke-linecap:round; stroke-linejoin:round; stroke-width:4; stroke-opacity:1; fill:none\" points=\"112.177,475.902 131.075,475.902 \"/>\n",
       "<polyline clip-path=\"url(#clip000)\" style=\"stroke:#000000; stroke-linecap:round; stroke-linejoin:round; stroke-width:4; stroke-opacity:1; fill:none\" points=\"112.177,87.9763 131.075,87.9763 \"/>\n",
       "<path clip-path=\"url(#clip000)\" d=\"M59.8578 1265.1 L76.1772 1265.1 L76.1772 1269.03 L54.2328 1269.03 L54.2328 1265.1 Q56.8949 1262.34 61.4782 1257.71 Q66.0846 1253.06 67.2652 1251.72 Q69.5105 1249.2 70.3902 1247.46 Q71.2929 1245.7 71.2929 1244.01 Q71.2929 1241.26 69.3485 1239.52 Q67.4272 1237.78 64.3254 1237.78 Q62.1263 1237.78 59.6726 1238.55 Q57.2421 1239.31 54.4643 1240.86 L54.4643 1236.14 Q57.2884 1235.01 59.7421 1234.43 Q62.1958 1233.85 64.2328 1233.85 Q69.6031 1233.85 72.7976 1236.53 Q75.992 1239.22 75.992 1243.71 Q75.992 1245.84 75.1818 1247.76 Q74.3948 1249.66 72.2883 1252.25 Q71.7096 1252.92 68.6078 1256.14 Q65.5059 1259.33 59.8578 1265.1 Z\" fill=\"#000000\" fill-rule=\"nonzero\" fill-opacity=\"1\" /><path clip-path=\"url(#clip000)\" d=\"M66.5939 850.621 L54.7884 869.07 L66.5939 869.07 L66.5939 850.621 M65.367 846.547 L71.2466 846.547 L71.2466 869.07 L76.1772 869.07 L76.1772 872.959 L71.2466 872.959 L71.2466 881.107 L66.5939 881.107 L66.5939 872.959 L50.9921 872.959 L50.9921 868.445 L65.367 846.547 Z\" fill=\"#000000\" fill-rule=\"nonzero\" fill-opacity=\"1\" /><path clip-path=\"url(#clip000)\" d=\"M64.6495 474.038 Q61.5013 474.038 59.6495 476.191 Q57.8208 478.344 57.8208 482.094 Q57.8208 485.821 59.6495 487.997 Q61.5013 490.149 64.6495 490.149 Q67.7976 490.149 69.6263 487.997 Q71.4781 485.821 71.4781 482.094 Q71.4781 478.344 69.6263 476.191 Q67.7976 474.038 64.6495 474.038 M73.9318 459.386 L73.9318 463.645 Q72.1726 462.812 70.367 462.372 Q68.5846 461.932 66.8254 461.932 Q62.1958 461.932 59.7421 465.057 Q57.3115 468.182 56.9643 474.501 Q58.33 472.487 60.3902 471.423 Q62.4504 470.335 64.9272 470.335 Q70.1355 470.335 73.1448 473.506 Q76.1772 476.654 76.1772 482.094 Q76.1772 487.418 73.029 490.636 Q69.8809 493.853 64.6495 493.853 Q58.6541 493.853 55.4828 489.27 Q52.3116 484.663 52.3116 475.937 Q52.3116 467.742 56.2004 462.881 Q60.0893 457.997 66.6402 457.997 Q68.3994 457.997 70.1818 458.344 Q71.9874 458.691 73.9318 459.386 Z\" fill=\"#000000\" fill-rule=\"nonzero\" fill-opacity=\"1\" /><path clip-path=\"url(#clip000)\" d=\"M64.3254 88.8443 Q60.9921 88.8443 59.0708 90.6267 Q57.1726 92.4091 57.1726 95.5341 Q57.1726 98.6591 59.0708 100.441 Q60.9921 102.224 64.3254 102.224 Q67.6587 102.224 69.58 100.441 Q71.5013 98.6359 71.5013 95.5341 Q71.5013 92.4091 69.58 90.6267 Q67.6819 88.8443 64.3254 88.8443 M59.6495 86.8536 Q56.6402 86.1129 54.9504 84.0527 Q53.2838 81.9925 53.2838 79.0296 Q53.2838 74.8861 56.2236 72.4787 Q59.1865 70.0713 64.3254 70.0713 Q69.4874 70.0713 72.4272 72.4787 Q75.367 74.8861 75.367 79.0296 Q75.367 81.9925 73.6772 84.0527 Q72.0105 86.1129 69.0244 86.8536 Q72.404 87.6406 74.279 89.9323 Q76.1772 92.2239 76.1772 95.5341 Q76.1772 100.557 73.0985 103.242 Q70.0429 105.928 64.3254 105.928 Q58.6078 105.928 55.5291 103.242 Q52.4736 100.557 52.4736 95.5341 Q52.4736 92.2239 54.3717 89.9323 Q56.2699 87.6406 59.6495 86.8536 M57.9365 79.4694 Q57.9365 82.1545 59.6032 83.6592 Q61.293 85.1638 64.3254 85.1638 Q67.3346 85.1638 69.0244 83.6592 Q70.7374 82.1545 70.7374 79.4694 Q70.7374 76.7842 69.0244 75.2796 Q67.3346 73.775 64.3254 73.775 Q61.293 73.775 59.6032 75.2796 Q57.9365 76.7842 57.9365 79.4694 Z\" fill=\"#000000\" fill-rule=\"nonzero\" fill-opacity=\"1\" /><circle clip-path=\"url(#clip002)\" cx=\"439.809\" cy=\"1445.72\" r=\"14.4\" fill=\"#009af9\" fill-rule=\"evenodd\" fill-opacity=\"1\" stroke=\"#000000\" stroke-opacity=\"1\" stroke-width=\"3.2\"/>\n",
       "<circle clip-path=\"url(#clip002)\" cx=\"1760.9\" cy=\"1251.75\" r=\"14.4\" fill=\"#009af9\" fill-rule=\"evenodd\" fill-opacity=\"1\" stroke=\"#000000\" stroke-opacity=\"1\" stroke-width=\"3.2\"/>\n",
       "<circle clip-path=\"url(#clip002)\" cx=\"1364.58\" cy=\"863.827\" r=\"14.4\" fill=\"#009af9\" fill-rule=\"evenodd\" fill-opacity=\"1\" stroke=\"#000000\" stroke-opacity=\"1\" stroke-width=\"3.2\"/>\n",
       "<circle clip-path=\"url(#clip002)\" cx=\"968.247\" cy=\"87.9763\" r=\"14.4\" fill=\"#009af9\" fill-rule=\"evenodd\" fill-opacity=\"1\" stroke=\"#000000\" stroke-opacity=\"1\" stroke-width=\"3.2\"/>\n",
       "<circle clip-path=\"url(#clip002)\" cx=\"175.59\" cy=\"669.865\" r=\"14.4\" fill=\"#009af9\" fill-rule=\"evenodd\" fill-opacity=\"1\" stroke=\"#000000\" stroke-opacity=\"1\" stroke-width=\"3.2\"/>\n",
       "<circle clip-path=\"url(#clip002)\" cx=\"2289.34\" cy=\"475.902\" r=\"14.4\" fill=\"#009af9\" fill-rule=\"evenodd\" fill-opacity=\"1\" stroke=\"#000000\" stroke-opacity=\"1\" stroke-width=\"3.2\"/>\n",
       "<circle clip-path=\"url(#clip002)\" cx=\"704.028\" cy=\"1057.79\" r=\"14.4\" fill=\"#009af9\" fill-rule=\"evenodd\" fill-opacity=\"1\" stroke=\"#000000\" stroke-opacity=\"1\" stroke-width=\"3.2\"/>\n",
       "<polyline clip-path=\"url(#clip002)\" style=\"stroke:#008000; stroke-linecap:round; stroke-linejoin:round; stroke-width:4; stroke-opacity:1; fill:none\" points=\"439.809,1445.72 704.028,1057.79 \"/>\n",
       "<circle clip-path=\"url(#clip002)\" cx=\"439.809\" cy=\"1445.72\" r=\"18\" fill=\"#008000\" fill-rule=\"evenodd\" fill-opacity=\"1\" stroke=\"#000000\" stroke-opacity=\"1\" stroke-width=\"3.2\"/>\n",
       "<circle clip-path=\"url(#clip002)\" cx=\"704.028\" cy=\"1057.79\" r=\"18\" fill=\"#008000\" fill-rule=\"evenodd\" fill-opacity=\"1\" stroke=\"#000000\" stroke-opacity=\"1\" stroke-width=\"3.2\"/>\n",
       "<circle clip-path=\"url(#clip002)\" cx=\"704.028\" cy=\"1057.79\" r=\"18\" fill=\"#00ffff\" fill-rule=\"evenodd\" fill-opacity=\"1\" stroke=\"#000000\" stroke-opacity=\"1\" stroke-width=\"3.2\"/>\n",
       "</svg>\n"
      ],
      "text/html": [
       "<?xml version=\"1.0\" encoding=\"utf-8\"?>\n",
       "<svg xmlns=\"http://www.w3.org/2000/svg\" xmlns:xlink=\"http://www.w3.org/1999/xlink\" width=\"600\" height=\"400\" viewBox=\"0 0 2400 1600\">\n",
       "<defs>\n",
       "  <clipPath id=\"clip050\">\n",
       "    <rect x=\"0\" y=\"0\" width=\"2400\" height=\"1600\"/>\n",
       "  </clipPath>\n",
       "</defs>\n",
       "<path clip-path=\"url(#clip050)\" d=\"M0 1600 L2400 1600 L2400 0 L0 0  Z\" fill=\"#ffffff\" fill-rule=\"evenodd\" fill-opacity=\"1\"/>\n",
       "<defs>\n",
       "  <clipPath id=\"clip051\">\n",
       "    <rect x=\"480\" y=\"0\" width=\"1681\" height=\"1600\"/>\n",
       "  </clipPath>\n",
       "</defs>\n",
       "<path clip-path=\"url(#clip050)\" d=\"M112.177 1486.45 L2352.76 1486.45 L2352.76 47.2441 L112.177 47.2441  Z\" fill=\"#ffffff\" fill-rule=\"evenodd\" fill-opacity=\"1\"/>\n",
       "<defs>\n",
       "  <clipPath id=\"clip052\">\n",
       "    <rect x=\"112\" y=\"47\" width=\"2242\" height=\"1440\"/>\n",
       "  </clipPath>\n",
       "</defs>\n",
       "<polyline clip-path=\"url(#clip052)\" style=\"stroke:#000000; stroke-linecap:round; stroke-linejoin:round; stroke-width:2; stroke-opacity:0.1; fill:none\" points=\"439.809,1486.45 439.809,47.2441 \"/>\n",
       "<polyline clip-path=\"url(#clip052)\" style=\"stroke:#000000; stroke-linecap:round; stroke-linejoin:round; stroke-width:2; stroke-opacity:0.1; fill:none\" points=\"968.247,1486.45 968.247,47.2441 \"/>\n",
       "<polyline clip-path=\"url(#clip052)\" style=\"stroke:#000000; stroke-linecap:round; stroke-linejoin:round; stroke-width:2; stroke-opacity:0.1; fill:none\" points=\"1496.69,1486.45 1496.69,47.2441 \"/>\n",
       "<polyline clip-path=\"url(#clip052)\" style=\"stroke:#000000; stroke-linecap:round; stroke-linejoin:round; stroke-width:2; stroke-opacity:0.1; fill:none\" points=\"2025.12,1486.45 2025.12,47.2441 \"/>\n",
       "<polyline clip-path=\"url(#clip050)\" style=\"stroke:#000000; stroke-linecap:round; stroke-linejoin:round; stroke-width:4; stroke-opacity:1; fill:none\" points=\"112.177,1486.45 2352.76,1486.45 \"/>\n",
       "<polyline clip-path=\"url(#clip050)\" style=\"stroke:#000000; stroke-linecap:round; stroke-linejoin:round; stroke-width:4; stroke-opacity:1; fill:none\" points=\"439.809,1486.45 439.809,1467.55 \"/>\n",
       "<polyline clip-path=\"url(#clip050)\" style=\"stroke:#000000; stroke-linecap:round; stroke-linejoin:round; stroke-width:4; stroke-opacity:1; fill:none\" points=\"968.247,1486.45 968.247,1467.55 \"/>\n",
       "<polyline clip-path=\"url(#clip050)\" style=\"stroke:#000000; stroke-linecap:round; stroke-linejoin:round; stroke-width:4; stroke-opacity:1; fill:none\" points=\"1496.69,1486.45 1496.69,1467.55 \"/>\n",
       "<polyline clip-path=\"url(#clip050)\" style=\"stroke:#000000; stroke-linecap:round; stroke-linejoin:round; stroke-width:4; stroke-opacity:1; fill:none\" points=\"2025.12,1486.45 2025.12,1467.55 \"/>\n",
       "<path clip-path=\"url(#clip050)\" d=\"M434.462 1544.91 L450.781 1544.91 L450.781 1548.85 L428.837 1548.85 L428.837 1544.91 Q431.499 1542.16 436.082 1537.53 Q440.689 1532.88 441.869 1531.53 Q444.115 1529.01 444.994 1527.27 Q445.897 1525.51 445.897 1523.82 Q445.897 1521.07 443.952 1519.33 Q442.031 1517.6 438.929 1517.6 Q436.73 1517.6 434.277 1518.36 Q431.846 1519.13 429.068 1520.68 L429.068 1515.95 Q431.892 1514.82 434.346 1514.24 Q436.8 1513.66 438.837 1513.66 Q444.207 1513.66 447.402 1516.35 Q450.596 1519.03 450.596 1523.52 Q450.596 1525.65 449.786 1527.57 Q448.999 1529.47 446.892 1532.07 Q446.314 1532.74 443.212 1535.95 Q440.11 1539.15 434.462 1544.91 Z\" fill=\"#000000\" fill-rule=\"nonzero\" fill-opacity=\"1\" /><path clip-path=\"url(#clip050)\" d=\"M971.257 1518.36 L959.451 1536.81 L971.257 1536.81 L971.257 1518.36 M970.03 1514.29 L975.909 1514.29 L975.909 1536.81 L980.84 1536.81 L980.84 1540.7 L975.909 1540.7 L975.909 1548.85 L971.257 1548.85 L971.257 1540.7 L955.655 1540.7 L955.655 1536.19 L970.03 1514.29 Z\" fill=\"#000000\" fill-rule=\"nonzero\" fill-opacity=\"1\" /><path clip-path=\"url(#clip050)\" d=\"M1497.09 1529.7 Q1493.94 1529.7 1492.09 1531.86 Q1490.26 1534.01 1490.26 1537.76 Q1490.26 1541.49 1492.09 1543.66 Q1493.94 1545.82 1497.09 1545.82 Q1500.24 1545.82 1502.07 1543.66 Q1503.92 1541.49 1503.92 1537.76 Q1503.92 1534.01 1502.07 1531.86 Q1500.24 1529.7 1497.09 1529.7 M1506.37 1515.05 L1506.37 1519.31 Q1504.61 1518.48 1502.81 1518.04 Q1501.03 1517.6 1499.27 1517.6 Q1494.64 1517.6 1492.18 1520.72 Q1489.75 1523.85 1489.41 1530.17 Q1490.77 1528.15 1492.83 1527.09 Q1494.89 1526 1497.37 1526 Q1502.58 1526 1505.59 1529.17 Q1508.62 1532.32 1508.62 1537.76 Q1508.62 1543.08 1505.47 1546.3 Q1502.32 1549.52 1497.09 1549.52 Q1491.1 1549.52 1487.92 1544.94 Q1484.75 1540.33 1484.75 1531.6 Q1484.75 1523.41 1488.64 1518.55 Q1492.53 1513.66 1499.08 1513.66 Q1500.84 1513.66 1502.62 1514.01 Q1504.43 1514.36 1506.37 1515.05 Z\" fill=\"#000000\" fill-rule=\"nonzero\" fill-opacity=\"1\" /><path clip-path=\"url(#clip050)\" d=\"M2025.12 1532.44 Q2021.79 1532.44 2019.87 1534.22 Q2017.97 1536 2017.97 1539.13 Q2017.97 1542.25 2019.87 1544.03 Q2021.79 1545.82 2025.12 1545.82 Q2028.46 1545.82 2030.38 1544.03 Q2032.3 1542.23 2032.3 1539.13 Q2032.3 1536 2030.38 1534.22 Q2028.48 1532.44 2025.12 1532.44 M2020.45 1530.45 Q2017.44 1529.7 2015.75 1527.64 Q2014.08 1525.58 2014.08 1522.62 Q2014.08 1518.48 2017.02 1516.07 Q2019.99 1513.66 2025.12 1513.66 Q2030.29 1513.66 2033.23 1516.07 Q2036.17 1518.48 2036.17 1522.62 Q2036.17 1525.58 2034.48 1527.64 Q2032.81 1529.7 2029.82 1530.45 Q2033.2 1531.23 2035.08 1533.52 Q2036.98 1535.82 2036.98 1539.13 Q2036.98 1544.15 2033.9 1546.83 Q2030.84 1549.52 2025.12 1549.52 Q2019.41 1549.52 2016.33 1546.83 Q2013.27 1544.15 2013.27 1539.13 Q2013.27 1535.82 2015.17 1533.52 Q2017.07 1531.23 2020.45 1530.45 M2018.74 1523.06 Q2018.74 1525.75 2020.4 1527.25 Q2022.09 1528.76 2025.12 1528.76 Q2028.13 1528.76 2029.82 1527.25 Q2031.54 1525.75 2031.54 1523.06 Q2031.54 1520.38 2029.82 1518.87 Q2028.13 1517.37 2025.12 1517.37 Q2022.09 1517.37 2020.4 1518.87 Q2018.74 1520.38 2018.74 1523.06 Z\" fill=\"#000000\" fill-rule=\"nonzero\" fill-opacity=\"1\" /><polyline clip-path=\"url(#clip052)\" style=\"stroke:#000000; stroke-linecap:round; stroke-linejoin:round; stroke-width:2; stroke-opacity:0.1; fill:none\" points=\"112.177,1251.75 2352.76,1251.75 \"/>\n",
       "<polyline clip-path=\"url(#clip052)\" style=\"stroke:#000000; stroke-linecap:round; stroke-linejoin:round; stroke-width:2; stroke-opacity:0.1; fill:none\" points=\"112.177,863.827 2352.76,863.827 \"/>\n",
       "<polyline clip-path=\"url(#clip052)\" style=\"stroke:#000000; stroke-linecap:round; stroke-linejoin:round; stroke-width:2; stroke-opacity:0.1; fill:none\" points=\"112.177,475.902 2352.76,475.902 \"/>\n",
       "<polyline clip-path=\"url(#clip052)\" style=\"stroke:#000000; stroke-linecap:round; stroke-linejoin:round; stroke-width:2; stroke-opacity:0.1; fill:none\" points=\"112.177,87.9763 2352.76,87.9763 \"/>\n",
       "<polyline clip-path=\"url(#clip050)\" style=\"stroke:#000000; stroke-linecap:round; stroke-linejoin:round; stroke-width:4; stroke-opacity:1; fill:none\" points=\"112.177,1486.45 112.177,47.2441 \"/>\n",
       "<polyline clip-path=\"url(#clip050)\" style=\"stroke:#000000; stroke-linecap:round; stroke-linejoin:round; stroke-width:4; stroke-opacity:1; fill:none\" points=\"112.177,1251.75 131.075,1251.75 \"/>\n",
       "<polyline clip-path=\"url(#clip050)\" style=\"stroke:#000000; stroke-linecap:round; stroke-linejoin:round; stroke-width:4; stroke-opacity:1; fill:none\" points=\"112.177,863.827 131.075,863.827 \"/>\n",
       "<polyline clip-path=\"url(#clip050)\" style=\"stroke:#000000; stroke-linecap:round; stroke-linejoin:round; stroke-width:4; stroke-opacity:1; fill:none\" points=\"112.177,475.902 131.075,475.902 \"/>\n",
       "<polyline clip-path=\"url(#clip050)\" style=\"stroke:#000000; stroke-linecap:round; stroke-linejoin:round; stroke-width:4; stroke-opacity:1; fill:none\" points=\"112.177,87.9763 131.075,87.9763 \"/>\n",
       "<path clip-path=\"url(#clip050)\" d=\"M59.8578 1265.1 L76.1772 1265.1 L76.1772 1269.03 L54.2328 1269.03 L54.2328 1265.1 Q56.8949 1262.34 61.4782 1257.71 Q66.0846 1253.06 67.2652 1251.72 Q69.5105 1249.2 70.3902 1247.46 Q71.2929 1245.7 71.2929 1244.01 Q71.2929 1241.26 69.3485 1239.52 Q67.4272 1237.78 64.3254 1237.78 Q62.1263 1237.78 59.6726 1238.55 Q57.2421 1239.31 54.4643 1240.86 L54.4643 1236.14 Q57.2884 1235.01 59.7421 1234.43 Q62.1958 1233.85 64.2328 1233.85 Q69.6031 1233.85 72.7976 1236.53 Q75.992 1239.22 75.992 1243.71 Q75.992 1245.84 75.1818 1247.76 Q74.3948 1249.66 72.2883 1252.25 Q71.7096 1252.92 68.6078 1256.14 Q65.5059 1259.33 59.8578 1265.1 Z\" fill=\"#000000\" fill-rule=\"nonzero\" fill-opacity=\"1\" /><path clip-path=\"url(#clip050)\" d=\"M66.5939 850.621 L54.7884 869.07 L66.5939 869.07 L66.5939 850.621 M65.367 846.547 L71.2466 846.547 L71.2466 869.07 L76.1772 869.07 L76.1772 872.959 L71.2466 872.959 L71.2466 881.107 L66.5939 881.107 L66.5939 872.959 L50.9921 872.959 L50.9921 868.445 L65.367 846.547 Z\" fill=\"#000000\" fill-rule=\"nonzero\" fill-opacity=\"1\" /><path clip-path=\"url(#clip050)\" d=\"M64.6495 474.038 Q61.5013 474.038 59.6495 476.191 Q57.8208 478.344 57.8208 482.094 Q57.8208 485.821 59.6495 487.997 Q61.5013 490.149 64.6495 490.149 Q67.7976 490.149 69.6263 487.997 Q71.4781 485.821 71.4781 482.094 Q71.4781 478.344 69.6263 476.191 Q67.7976 474.038 64.6495 474.038 M73.9318 459.386 L73.9318 463.645 Q72.1726 462.812 70.367 462.372 Q68.5846 461.932 66.8254 461.932 Q62.1958 461.932 59.7421 465.057 Q57.3115 468.182 56.9643 474.501 Q58.33 472.487 60.3902 471.423 Q62.4504 470.335 64.9272 470.335 Q70.1355 470.335 73.1448 473.506 Q76.1772 476.654 76.1772 482.094 Q76.1772 487.418 73.029 490.636 Q69.8809 493.853 64.6495 493.853 Q58.6541 493.853 55.4828 489.27 Q52.3116 484.663 52.3116 475.937 Q52.3116 467.742 56.2004 462.881 Q60.0893 457.997 66.6402 457.997 Q68.3994 457.997 70.1818 458.344 Q71.9874 458.691 73.9318 459.386 Z\" fill=\"#000000\" fill-rule=\"nonzero\" fill-opacity=\"1\" /><path clip-path=\"url(#clip050)\" d=\"M64.3254 88.8443 Q60.9921 88.8443 59.0708 90.6267 Q57.1726 92.4091 57.1726 95.5341 Q57.1726 98.6591 59.0708 100.441 Q60.9921 102.224 64.3254 102.224 Q67.6587 102.224 69.58 100.441 Q71.5013 98.6359 71.5013 95.5341 Q71.5013 92.4091 69.58 90.6267 Q67.6819 88.8443 64.3254 88.8443 M59.6495 86.8536 Q56.6402 86.1129 54.9504 84.0527 Q53.2838 81.9925 53.2838 79.0296 Q53.2838 74.8861 56.2236 72.4787 Q59.1865 70.0713 64.3254 70.0713 Q69.4874 70.0713 72.4272 72.4787 Q75.367 74.8861 75.367 79.0296 Q75.367 81.9925 73.6772 84.0527 Q72.0105 86.1129 69.0244 86.8536 Q72.404 87.6406 74.279 89.9323 Q76.1772 92.2239 76.1772 95.5341 Q76.1772 100.557 73.0985 103.242 Q70.0429 105.928 64.3254 105.928 Q58.6078 105.928 55.5291 103.242 Q52.4736 100.557 52.4736 95.5341 Q52.4736 92.2239 54.3717 89.9323 Q56.2699 87.6406 59.6495 86.8536 M57.9365 79.4694 Q57.9365 82.1545 59.6032 83.6592 Q61.293 85.1638 64.3254 85.1638 Q67.3346 85.1638 69.0244 83.6592 Q70.7374 82.1545 70.7374 79.4694 Q70.7374 76.7842 69.0244 75.2796 Q67.3346 73.775 64.3254 73.775 Q61.293 73.775 59.6032 75.2796 Q57.9365 76.7842 57.9365 79.4694 Z\" fill=\"#000000\" fill-rule=\"nonzero\" fill-opacity=\"1\" /><circle clip-path=\"url(#clip052)\" cx=\"439.809\" cy=\"1445.72\" r=\"14.4\" fill=\"#009af9\" fill-rule=\"evenodd\" fill-opacity=\"1\" stroke=\"#000000\" stroke-opacity=\"1\" stroke-width=\"3.2\"/>\n",
       "<circle clip-path=\"url(#clip052)\" cx=\"1760.9\" cy=\"1251.75\" r=\"14.4\" fill=\"#009af9\" fill-rule=\"evenodd\" fill-opacity=\"1\" stroke=\"#000000\" stroke-opacity=\"1\" stroke-width=\"3.2\"/>\n",
       "<circle clip-path=\"url(#clip052)\" cx=\"1364.58\" cy=\"863.827\" r=\"14.4\" fill=\"#009af9\" fill-rule=\"evenodd\" fill-opacity=\"1\" stroke=\"#000000\" stroke-opacity=\"1\" stroke-width=\"3.2\"/>\n",
       "<circle clip-path=\"url(#clip052)\" cx=\"968.247\" cy=\"87.9763\" r=\"14.4\" fill=\"#009af9\" fill-rule=\"evenodd\" fill-opacity=\"1\" stroke=\"#000000\" stroke-opacity=\"1\" stroke-width=\"3.2\"/>\n",
       "<circle clip-path=\"url(#clip052)\" cx=\"175.59\" cy=\"669.865\" r=\"14.4\" fill=\"#009af9\" fill-rule=\"evenodd\" fill-opacity=\"1\" stroke=\"#000000\" stroke-opacity=\"1\" stroke-width=\"3.2\"/>\n",
       "<circle clip-path=\"url(#clip052)\" cx=\"2289.34\" cy=\"475.902\" r=\"14.4\" fill=\"#009af9\" fill-rule=\"evenodd\" fill-opacity=\"1\" stroke=\"#000000\" stroke-opacity=\"1\" stroke-width=\"3.2\"/>\n",
       "<circle clip-path=\"url(#clip052)\" cx=\"704.028\" cy=\"1057.79\" r=\"14.4\" fill=\"#009af9\" fill-rule=\"evenodd\" fill-opacity=\"1\" stroke=\"#000000\" stroke-opacity=\"1\" stroke-width=\"3.2\"/>\n",
       "<polyline clip-path=\"url(#clip052)\" style=\"stroke:#008000; stroke-linecap:round; stroke-linejoin:round; stroke-width:4; stroke-opacity:1; fill:none\" points=\"439.809,1445.72 704.028,1057.79 \"/>\n",
       "<circle clip-path=\"url(#clip052)\" cx=\"439.809\" cy=\"1445.72\" r=\"18\" fill=\"#008000\" fill-rule=\"evenodd\" fill-opacity=\"1\" stroke=\"#000000\" stroke-opacity=\"1\" stroke-width=\"3.2\"/>\n",
       "<circle clip-path=\"url(#clip052)\" cx=\"704.028\" cy=\"1057.79\" r=\"18\" fill=\"#008000\" fill-rule=\"evenodd\" fill-opacity=\"1\" stroke=\"#000000\" stroke-opacity=\"1\" stroke-width=\"3.2\"/>\n",
       "<circle clip-path=\"url(#clip052)\" cx=\"704.028\" cy=\"1057.79\" r=\"18\" fill=\"#00ffff\" fill-rule=\"evenodd\" fill-opacity=\"1\" stroke=\"#000000\" stroke-opacity=\"1\" stroke-width=\"3.2\"/>\n",
       "</svg>\n"
      ]
     },
     "execution_count": 282,
     "metadata": {},
     "output_type": "execute_result"
    }
   ],
   "source": [
    "using Plots\n",
    "\n",
    "z = [[2,1], [7,2], [5.5,4], [4,8], [1,5], [9,6] ] ;\n",
    "scatter(Tuple.(z), marker = :circle, legend = false, grid = true, ms=4)\n",
    "p = [3,3]\n",
    "w = vizinho_proximo(p, z);\n",
    "z1 = push!(z, p); # Inserir um ou mais itens no final da coleção.\n",
    "scatter(Tuple.(z1), marker = :circle, legend = false, grid = true, ms=4)\n",
    "plot!([w[1], p[1]],[w[2], p[2]], marker = :circle, legend = false, grid = true, ms=5, color=:green)\n",
    "scatter!([p[1]],[p[2]], marker = :circle, legend = false, grid = true, ms=5, color=:cyan)\n"
   ]
  },
  {
   "cell_type": "code",
   "execution_count": 283,
   "metadata": {},
   "outputs": [
    {
     "data": {
      "text/plain": [
       "2-element Vector{Float64}:\n",
       " 5.5\n",
       " 4.0"
      ]
     },
     "execution_count": 283,
     "metadata": {},
     "output_type": "execute_result"
    }
   ],
   "source": [
    "vizinho_proximo(x,z) = z[ argmin([norm(x-y) for y in z]) ];\n",
    "z = ( [2,1], [7,2], [5.5,4], [4,8], [1,5], [9,6] );\n",
    "vizinho_proximo([5,6], z)\n"
   ]
  },
  {
   "cell_type": "code",
   "execution_count": 284,
   "metadata": {},
   "outputs": [
    {
     "data": {
      "text/plain": [
       "2-element Vector{Int64}:\n",
       " 2\n",
       " 1"
      ]
     },
     "execution_count": 284,
     "metadata": {},
     "output_type": "execute_result"
    }
   ],
   "source": [
    "vizinho_proximo([3,3], z)"
   ]
  },
  {
   "cell_type": "markdown",
   "metadata": {},
   "source": [
    "Na primeira linha, a expressão `[norm(x-y) for y in z]` usa uma construção conveniente em Julia. Aqui `z` é uma lista de vetores, e a expressão expande para um array com elementos `norm(x-z[1])`, `norm(x-z[2]), . . . .` A função `argmin` aplicada a este array retorna o indice do menor elemento. "
   ]
  },
  {
   "cell_type": "markdown",
   "metadata": {},
   "source": [
    "### Angulo entre vetores"
   ]
  },
  {
   "cell_type": "code",
   "execution_count": 285,
   "metadata": {},
   "outputs": [
    {
     "data": {
      "text/plain": [
       "2-element Vector{Tuple{Float64, String}}:\n",
       " (0.9689825515916383, \":angulo em radianos\")\n",
       " (55.51861062801842, \":angulo in graus\")"
      ]
     },
     "execution_count": 285,
     "metadata": {},
     "output_type": "execute_result"
    }
   ],
   "source": [
    "# Defimos a função angulo, a qual retorna radianos\n",
    "ang(x,y) = acos(x'*y/(norm(x)*norm(y)));\n",
    "a = [1,2,-1]; b=[2,0,-3];\n",
    "\n",
    "[(ang(a,b),\":angulo em radianos\"), \n",
    "(ang(a,b)*(360/(2*pi)), \":angulo in graus\")]"
   ]
  },
  {
   "cell_type": "markdown",
   "metadata": {},
   "source": [
    "### Vetores Ortonormais\n",
    "**Expansão em uma base ortonormal:** Verifiquemos que os vetores\n",
    "$$\n",
    "a_1 = \\begin{bmatrix} 0\\\\ 0\\\\ -1\\end{bmatrix}, \n",
    "a_2 = \\frac{1}{\\sqrt{2}}\\begin{bmatrix} 1\\\\ 1\\\\ 0 \\end{bmatrix},\n",
    "a_3 = \\frac{1}{\\sqrt{2}}\\begin{bmatrix} 1\\\\ -1\\\\ 0\\end{bmatrix}\n",
    "$$\n",
    "\n",
    "formam uma base ortonormal, e verifiquemos a expansão de $x = \\begin{bmatrix}1\\\\ 2\\\\ 3\\end{bmatrix}$ em esta base,\n",
    "\n",
    "$$x = (a^{T}_{1} x)a_1 + · · ·+ (a^{T}_{n}x)a_n.$$"
   ]
  },
  {
   "cell_type": "code",
   "execution_count": 286,
   "metadata": {},
   "outputs": [
    {
     "data": {
      "text/plain": [
       "(1.0, 0.9999999999999999, 0.9999999999999999)"
      ]
     },
     "execution_count": 286,
     "metadata": {},
     "output_type": "execute_result"
    }
   ],
   "source": [
    "a1 = [0,0,-1]; a2 = [1,1,0]/sqrt(2); a3 = [1,-1,0]/sqrt(2);\n",
    "norm(a1), norm(a2), norm(a3)"
   ]
  },
  {
   "cell_type": "code",
   "execution_count": 287,
   "metadata": {},
   "outputs": [
    {
     "data": {
      "text/plain": [
       "(0.0, 0.0, -2.2371143170757382e-17)"
      ]
     },
     "execution_count": 287,
     "metadata": {},
     "output_type": "execute_result"
    }
   ],
   "source": [
    "a1'*a2, a1'*a3, a2'*a3"
   ]
  },
  {
   "cell_type": "code",
   "execution_count": 288,
   "metadata": {},
   "outputs": [
    {
     "data": {
      "text/plain": [
       "3-element Vector{Int64}:\n",
       " 1\n",
       " 2\n",
       " 3"
      ]
     },
     "execution_count": 288,
     "metadata": {},
     "output_type": "execute_result"
    }
   ],
   "source": [
    "x = [1,2,3]"
   ]
  },
  {
   "cell_type": "code",
   "execution_count": 289,
   "metadata": {},
   "outputs": [
    {
     "data": {
      "text/plain": [
       "3-element Vector{Float64}:\n",
       " 0.9999999999999999\n",
       " 1.9999999999999996\n",
       " 3.0"
      ]
     },
     "execution_count": 289,
     "metadata": {},
     "output_type": "execute_result"
    }
   ],
   "source": [
    "# obtendo os coeficientes de x na base ortonormal\n",
    "beta1 = a1'*x; beta2 = a2'*x; beta3 = a3'*x\n",
    "# Expansão de x na base\n",
    "xexp = beta1*a1 + beta2*a2 + beta3*a3"
   ]
  },
  {
   "cell_type": "markdown",
   "metadata": {},
   "source": [
    "### O  Algoritmo de Gram–Schmidt"
   ]
  },
  {
   "cell_type": "markdown",
   "metadata": {},
   "source": [
    "Consideremos como entrada um array `[ a[1], a[2], ..., a[k] ]`, contendo os $k$ vetores $a_1, . . . , a_k$. Se os vetores são  L.I., retorna um array `[ q[1], ..., q[k] ]` com o conjunto ortonormal of vetores calculado pelo algoritmo de Gram – Schmidt. Se os vetores são L.D e o algoritmo de Gram–Schmidt termina antes na iteração `i`, este retorna um array `[ q[1], ..., q[i] ]` de comprimento `i`."
   ]
  },
  {
   "cell_type": "code",
   "execution_count": 290,
   "metadata": {},
   "outputs": [
    {
     "data": {
      "text/plain": [
       "gram_schmidt (generic function with 1 method)"
      ]
     },
     "execution_count": 290,
     "metadata": {},
     "output_type": "execute_result"
    }
   ],
   "source": [
    "function gram_schmidt(a; tol = 1e-10)\n",
    "    \n",
    "    q = []\n",
    "    for i = 1:length(a)\n",
    "        qtilde = a[i]\n",
    "        for j = 1:i-1\n",
    "            qtilde -= (q[j]'*a[i]) * q[j]\n",
    "        end\n",
    "        if norm(qtilde) < tol\n",
    "            println(\"Os vetores são Linearmente Dependentes.\")\n",
    "            return q\n",
    "        end\n",
    "        push!(q, qtilde/norm(qtilde))\n",
    "        end;\n",
    "    return q\n",
    "end"
   ]
  },
  {
   "cell_type": "markdown",
   "metadata": {},
   "source": [
    "Na `linha 3`, initializamos o array de saida como um array vazio. Em cada iteração, adicionamos o proximo vetor ao array usando a função push! (`linha 13`)."
   ]
  },
  {
   "cell_type": "markdown",
   "metadata": {},
   "source": [
    "### Exemplo:"
   ]
  },
  {
   "cell_type": "code",
   "execution_count": 291,
   "metadata": {},
   "outputs": [
    {
     "data": {
      "text/plain": [
       "3-element Vector{Vector{Int64}}:\n",
       " [1, 0, 1]\n",
       " [1, 0, 0]\n",
       " [2, 1, 0]"
      ]
     },
     "execution_count": 291,
     "metadata": {},
     "output_type": "execute_result"
    }
   ],
   "source": [
    "a = [ [1, 0, 1], [1, 0, 0], [2, 1, 0] ]"
   ]
  },
  {
   "cell_type": "code",
   "execution_count": 292,
   "metadata": {},
   "outputs": [
    {
     "data": {
      "text/plain": [
       "3-element Vector{Any}:\n",
       " [0.7071067811865475, 0.0, 0.7071067811865475]\n",
       " [0.7071067811865477, 0.0, -0.7071067811865474]\n",
       " [-2.220446049250313e-16, 1.0, 2.220446049250313e-16]"
      ]
     },
     "execution_count": 292,
     "metadata": {},
     "output_type": "execute_result"
    }
   ],
   "source": [
    "q = gram_schmidt(a)"
   ]
  },
  {
   "cell_type": "code",
   "execution_count": 293,
   "metadata": {},
   "outputs": [
    {
     "data": {
      "text/plain": [
       "3-element Vector{Vector{Int64}}:\n",
       " [-1, 1, -1, 1]\n",
       " [-1, 3, -1, 3]\n",
       " [1, 3, 5, 7]"
      ]
     },
     "execution_count": 293,
     "metadata": {},
     "output_type": "execute_result"
    }
   ],
   "source": [
    "a = [ [-1, 1, -1, 1], [-1, 3, -1, 3], [1, 3, 5, 7] ]"
   ]
  },
  {
   "cell_type": "code",
   "execution_count": 294,
   "metadata": {},
   "outputs": [
    {
     "data": {
      "text/plain": [
       "3-element Vector{Any}:\n",
       " [-0.5, 0.5, -0.5, 0.5]\n",
       " [0.5, 0.5, 0.5, 0.5]\n",
       " [-0.5, -0.5, 0.5, 0.5]"
      ]
     },
     "execution_count": 294,
     "metadata": {},
     "output_type": "execute_result"
    }
   ],
   "source": [
    "q = gram_schmidt(a)"
   ]
  },
  {
   "cell_type": "code",
   "execution_count": 295,
   "metadata": {},
   "outputs": [
    {
     "data": {
      "text/plain": [
       "6-element Vector{Tuple{String, Float64}}:\n",
       " (\"norm(q[1]:)\", 1.0)\n",
       " (\"q[1]'*q[2]:\", 0.0)\n",
       " (\"q[1]'*q[3]:\", 0.0)\n",
       " (\"norm(q[2]):\", 1.0)\n",
       " (\"q[2]'*q[3]:\", 0.0)\n",
       " (\"norm(q[3]):\", 1.0)"
      ]
     },
     "execution_count": 295,
     "metadata": {},
     "output_type": "execute_result"
    }
   ],
   "source": [
    "# teste de ortnormalidade\n",
    "[(\"norm(q[1]:)\",norm(q[1])),\n",
    "(\"q[1]'*q[2]:\",q[1]'*q[2]),\n",
    "(\"q[1]'*q[3]:\",q[1]'*q[3]),\n",
    "(\"norm(q[2]):\",norm(q[2])),\n",
    "(\"q[2]'*q[3]:\",q[2]'*q[3]),\n",
    "(\"norm(q[3]):\",norm(q[3]))]"
   ]
  },
  {
   "cell_type": "markdown",
   "metadata": {},
   "source": [
    "### Exemplo de terminação antecipada:\n",
    "Se subtituimos $a_3$ com a combinação linear de $a_1$, e $a_2$ o conjunto será L.D."
   ]
  },
  {
   "cell_type": "code",
   "execution_count": 296,
   "metadata": {},
   "outputs": [
    {
     "data": {
      "text/plain": [
       "3-element Vector{Vector{Float64}}:\n",
       " [-1.0, 1.0, -1.0, 1.0]\n",
       " [-1.0, 3.0, -1.0, 3.0]\n",
       " [-1.8, 2.8, -1.8, 2.8]"
      ]
     },
     "execution_count": 296,
     "metadata": {},
     "output_type": "execute_result"
    }
   ],
   "source": [
    "b = [ a[1], a[2], 1.3*a[1] + 0.5*a[2] ]"
   ]
  },
  {
   "cell_type": "code",
   "execution_count": 297,
   "metadata": {},
   "outputs": [
    {
     "name": "stdout",
     "output_type": "stream",
     "text": [
      "Os vetores são Linearmente Dependentes.\n"
     ]
    },
    {
     "data": {
      "text/plain": [
       "2-element Vector{Any}:\n",
       " [-0.5, 0.5, -0.5, 0.5]\n",
       " [0.5, 0.5, 0.5, 0.5]"
      ]
     },
     "execution_count": 297,
     "metadata": {},
     "output_type": "execute_result"
    }
   ],
   "source": [
    "q = gram_schmidt(b)"
   ]
  },
  {
   "cell_type": "markdown",
   "metadata": {},
   "source": [
    "### Exemplo da desigualdade de independencia-dimensão:\n",
    "Sabemos que quaisquer $03$ vetores em $\\mathbb{R}^2$ debem ser ${\\rm L.D.}$ Usemos o algoritmo de Gram-Schmidt para verificar este fato."
   ]
  },
  {
   "cell_type": "code",
   "execution_count": 298,
   "metadata": {},
   "outputs": [
    {
     "name": "stdout",
     "output_type": "stream",
     "text": [
      "Os vetores são Linearmente Dependentes.\n"
     ]
    },
    {
     "data": {
      "text/plain": [
       "2-element Vector{Any}:\n",
       " [0.7071067811865475, 0.7071067811865475]\n",
       " [-0.7071067811865471, 0.7071067811865478]"
      ]
     },
     "execution_count": 298,
     "metadata": {},
     "output_type": "execute_result"
    }
   ],
   "source": [
    "vetores = [ [1,1], [1,2], [-1,1] ];\n",
    "q = gram_schmidt(vetores)"
   ]
  },
  {
   "cell_type": "code",
   "execution_count": null,
   "metadata": {},
   "outputs": [],
   "source": []
  },
  {
   "cell_type": "code",
   "execution_count": null,
   "metadata": {},
   "outputs": [],
   "source": []
  }
 ],
 "metadata": {
  "@webio": {
   "lastCommId": null,
   "lastKernelId": null
  },
  "kernelspec": {
   "display_name": "Julia 1.10.2",
   "language": "julia",
   "name": "julia-1.10"
  },
  "language_info": {
   "file_extension": ".jl",
   "mimetype": "application/julia",
   "name": "julia",
   "version": "1.10.2"
  }
 },
 "nbformat": 4,
 "nbformat_minor": 4
}
