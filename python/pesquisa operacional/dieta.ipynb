{
 "cells": [
  {
   "cell_type": "markdown",
   "metadata": {},
   "source": [
    "# Modelo de exercicio da dieta\n"
   ]
  },
  {
   "cell_type": "code",
   "execution_count": 35,
   "metadata": {},
   "outputs": [
    {
     "name": "stdout",
     "output_type": "stream",
     "text": [
      "Requirement already satisfied: mip in c:\\users\\lenovo\\appdata\\local\\packages\\pythonsoftwarefoundation.python.3.11_qbz5n2kfra8p0\\localcache\\local-packages\\python311\\site-packages (1.15.0)Note: you may need to restart the kernel to use updated packages.\n",
      "\n",
      "Requirement already satisfied: cffi==1.15.* in c:\\users\\lenovo\\appdata\\local\\packages\\pythonsoftwarefoundation.python.3.11_qbz5n2kfra8p0\\localcache\\local-packages\\python311\\site-packages (from mip) (1.15.1)\n",
      "Requirement already satisfied: pycparser in c:\\users\\lenovo\\appdata\\local\\packages\\pythonsoftwarefoundation.python.3.11_qbz5n2kfra8p0\\localcache\\local-packages\\python311\\site-packages (from cffi==1.15.*->mip) (2.22)\n"
     ]
    },
    {
     "name": "stderr",
     "output_type": "stream",
     "text": [
      "\n",
      "[notice] A new release of pip is available: 24.0 -> 24.3.1\n",
      "[notice] To update, run: C:\\Users\\Lenovo\\AppData\\Local\\Microsoft\\WindowsApps\\PythonSoftwareFoundation.Python.3.11_qbz5n2kfra8p0\\python.exe -m pip install --upgrade pip\n"
     ]
    }
   ],
   "source": [
    "%pip install mip\n",
    "\n",
    "import mip"
   ]
  },
  {
   "cell_type": "markdown",
   "metadata": {},
   "source": [
    "# Criação do modelo"
   ]
  },
  {
   "cell_type": "markdown",
   "metadata": {},
   "source": [
    "$$\\min 1.5 x_0 + 2 x_1 + 3 x_2 + 0.8 x_3$$\n",
    "S.a.\n",
    "$$7 x_0 + 8 x_1 + 30 x_2 + 6 x_3 \\geq 3$$\n",
    "$$550 x_0 + 300 x_1 + 400 x_2 + 250 x_3 \\geq 50$$\n",
    "$$x_0, x_1, x_2, x_3 \\geq 0$$\n"
   ]
  },
  {
   "cell_type": "code",
   "execution_count": 36,
   "metadata": {},
   "outputs": [
    {
     "name": "stderr",
     "output_type": "stream",
     "text": [
      "An error occurred while loading the CBC library:\t cannot load library 'C:\\Users\\Lenovo\\AppData\\Local\\Packages\\PythonSoftwareFoundation.Python.3.11_qbz5n2kfra8p0\\LocalCache\\local-packages\\Python311\\site-packages\\mip\\libraries\\win64\\cbc-c-windows-x86-64.dll': error 0x7e\n",
      "\n"
     ]
    },
    {
     "ename": "NameError",
     "evalue": "name 'cbclib' is not defined",
     "output_type": "error",
     "traceback": [
      "\u001b[1;31m---------------------------------------------------------------------------\u001b[0m",
      "\u001b[1;31mNameError\u001b[0m                                 Traceback (most recent call last)",
      "Cell \u001b[1;32mIn[36], line 1\u001b[0m\n\u001b[1;32m----> 1\u001b[0m modelo \u001b[38;5;241m=\u001b[39m \u001b[43mModel\u001b[49m\u001b[43m(\u001b[49m\u001b[43msense\u001b[49m\u001b[38;5;241;43m=\u001b[39;49m\u001b[43mMINIMIZE\u001b[49m\u001b[43m,\u001b[49m\u001b[43m \u001b[49m\u001b[43msolver_name\u001b[49m\u001b[38;5;241;43m=\u001b[39;49m\u001b[43mCBC\u001b[49m\u001b[43m)\u001b[49m\n\u001b[0;32m      3\u001b[0m \u001b[38;5;66;03m# Criação da variável\u001b[39;00m\n\u001b[0;32m      4\u001b[0m x \u001b[38;5;241m=\u001b[39m [modelo\u001b[38;5;241m.\u001b[39madd_var(var_type\u001b[38;5;241m=\u001b[39mCONTINUOUS, name\u001b[38;5;241m=\u001b[39m\u001b[38;5;124mf\u001b[39m\u001b[38;5;124m\"\u001b[39m\u001b[38;5;124mx_\u001b[39m\u001b[38;5;132;01m{\u001b[39;00mi\u001b[38;5;132;01m}\u001b[39;00m\u001b[38;5;124m\"\u001b[39m, lb\u001b[38;5;241m=\u001b[39m\u001b[38;5;241m0.0\u001b[39m) \u001b[38;5;28;01mfor\u001b[39;00m i \u001b[38;5;129;01min\u001b[39;00m \u001b[38;5;28mrange\u001b[39m(\u001b[38;5;241m4\u001b[39m)]\n",
      "File \u001b[1;32m~\\AppData\\Local\\Packages\\PythonSoftwareFoundation.Python.3.11_qbz5n2kfra8p0\\LocalCache\\local-packages\\Python311\\site-packages\\mip\\model.py:87\u001b[0m, in \u001b[0;36mModel.__init__\u001b[1;34m(self, name, sense, solver_name, solver)\u001b[0m\n\u001b[0;32m     85\u001b[0m     \u001b[38;5;28mself\u001b[39m\u001b[38;5;241m.\u001b[39msolver \u001b[38;5;241m=\u001b[39m mip\u001b[38;5;241m.\u001b[39mgurobi\u001b[38;5;241m.\u001b[39mSolverGurobi(\u001b[38;5;28mself\u001b[39m, name, sense)\n\u001b[0;32m     86\u001b[0m \u001b[38;5;28;01melif\u001b[39;00m \u001b[38;5;28mself\u001b[39m\u001b[38;5;241m.\u001b[39msolver_name\u001b[38;5;241m.\u001b[39mupper() \u001b[38;5;241m==\u001b[39m \u001b[38;5;124m\"\u001b[39m\u001b[38;5;124mCBC\u001b[39m\u001b[38;5;124m\"\u001b[39m:\n\u001b[1;32m---> 87\u001b[0m     \u001b[38;5;28;01mimport\u001b[39;00m \u001b[38;5;21;01mmip\u001b[39;00m\u001b[38;5;21;01m.\u001b[39;00m\u001b[38;5;21;01mcbc\u001b[39;00m\n\u001b[0;32m     89\u001b[0m     \u001b[38;5;28mself\u001b[39m\u001b[38;5;241m.\u001b[39msolver \u001b[38;5;241m=\u001b[39m mip\u001b[38;5;241m.\u001b[39mcbc\u001b[38;5;241m.\u001b[39mSolverCbc(\u001b[38;5;28mself\u001b[39m, name, sense)\n\u001b[0;32m     90\u001b[0m \u001b[38;5;28;01melse\u001b[39;00m:\n",
      "File \u001b[1;32m~\\AppData\\Local\\Packages\\PythonSoftwareFoundation.Python.3.11_qbz5n2kfra8p0\\LocalCache\\local-packages\\Python311\\site-packages\\mip\\cbc.py:603\u001b[0m\n\u001b[0;32m    599\u001b[0m INT_PARAM_CLIQUE_MERGING \u001b[38;5;241m=\u001b[39m \u001b[38;5;241m18\u001b[39m\n\u001b[0;32m    600\u001b[0m INT_PARAM_MAX_NODES_NOT_IMPROV_FS \u001b[38;5;241m=\u001b[39m \u001b[38;5;241m19\u001b[39m\n\u001b[1;32m--> 603\u001b[0m Osi_getNumCols \u001b[38;5;241m=\u001b[39m \u001b[43mcbclib\u001b[49m\u001b[38;5;241m.\u001b[39mOsi_getNumCols\n\u001b[0;32m    604\u001b[0m Osi_getColSolution \u001b[38;5;241m=\u001b[39m cbclib\u001b[38;5;241m.\u001b[39mOsi_getColSolution\n\u001b[0;32m    605\u001b[0m Osi_getIntegerTolerance \u001b[38;5;241m=\u001b[39m cbclib\u001b[38;5;241m.\u001b[39mOsi_getIntegerTolerance\n",
      "\u001b[1;31mNameError\u001b[0m: name 'cbclib' is not defined"
     ]
    }
   ],
   "source": [
    "modelo = Model(sense=MINIMIZE, solver_name=CBC)\n",
    "\n",
    "# Criação da variável\n",
    "x = [modelo.add_var(var_type=CONTINUOUS, name=f\"x_{i}\", lb=0.0) for i in range(4)]\n",
    "\n",
    "# Função objetivo = minimizar custo total\n",
    "modelo.objective = 1.5*x[0] + 2*x[1] + 3*x[2] + 0.8*x[3]\n",
    "\n",
    "# Restrição: quantidade minína de vitamina A\n",
    "modelo += 7*x[0] + 8*x[1] + 30*x[2] + 6*x[3] >= 3\n",
    "\n",
    "# Restrição: quantidade miníma de vitamina C\n",
    "modelo += 550*x[0] + 300*x[1] + 400*x[2] + 250*x[3] >= 50\n",
    "\n",
    "modelo.write(\"modelo.lp\") # salva modelo em arquivo\n",
    "with open(\"modelo.lp\") as f: # Lê e exibe conteúdo do arquivo\n",
    "  print(f.read())"
   ]
  },
  {
   "cell_type": "code",
   "execution_count": 26,
   "metadata": {},
   "outputs": [
    {
     "ename": "NameError",
     "evalue": "name 'modelo' is not defined",
     "output_type": "error",
     "traceback": [
      "\u001b[1;31m---------------------------------------------------------------------------\u001b[0m",
      "\u001b[1;31mNameError\u001b[0m                                 Traceback (most recent call last)",
      "Cell \u001b[1;32mIn[26], line 1\u001b[0m\n\u001b[1;32m----> 1\u001b[0m status \u001b[38;5;241m=\u001b[39m \u001b[43mmodelo\u001b[49m\u001b[38;5;241m.\u001b[39moptimize()\n\u001b[0;32m      3\u001b[0m \u001b[38;5;28mprint\u001b[39m(\u001b[38;5;124m\"\u001b[39m\u001b[38;5;124mStatus = \u001b[39m\u001b[38;5;124m\"\u001b[39m, status)\n\u001b[0;32m      4\u001b[0m \u001b[38;5;28mprint\u001b[39m(\u001b[38;5;124mf\u001b[39m\u001b[38;5;124m\"\u001b[39m\u001b[38;5;124mSolution value  = \u001b[39m\u001b[38;5;132;01m{\u001b[39;00mmodelo\u001b[38;5;241m.\u001b[39mobjective_value\u001b[38;5;132;01m:\u001b[39;00m\u001b[38;5;124m.4f\u001b[39m\u001b[38;5;132;01m}\u001b[39;00m\u001b[38;5;130;01m\\n\u001b[39;00m\u001b[38;5;124m\"\u001b[39m)\n",
      "\u001b[1;31mNameError\u001b[0m: name 'modelo' is not defined"
     ]
    }
   ],
   "source": [
    "status = modelo.optimize()\n",
    "\n",
    "print(\"Status = \", status)\n",
    "print(f\"Solution value  = {modelo.objective_value:.4f}\\n\")\n",
    "\n",
    "print(\"Solution:\")\n",
    "for v in modelo.vars:\n",
    "  print(f\"{v.name} = {v.x:.4f}\")"
   ]
  }
 ],
 "metadata": {
  "kernelspec": {
   "display_name": "Python 3",
   "language": "python",
   "name": "python3"
  },
  "language_info": {
   "codemirror_mode": {
    "name": "ipython",
    "version": 3
   },
   "file_extension": ".py",
   "mimetype": "text/x-python",
   "name": "python",
   "nbconvert_exporter": "python",
   "pygments_lexer": "ipython3",
   "version": "3.11.9"
  }
 },
 "nbformat": 4,
 "nbformat_minor": 2
}
