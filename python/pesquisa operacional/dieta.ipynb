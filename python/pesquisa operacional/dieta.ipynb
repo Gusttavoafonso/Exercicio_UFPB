{
 "cells": [
  {
   "cell_type": "markdown",
   "metadata": {},
   "source": [
    "# Modelo de exercicio da dieta\n"
   ]
  },
  {
   "cell_type": "code",
   "execution_count": 4,
   "metadata": {},
   "outputs": [
    {
     "name": "stdout",
     "output_type": "stream",
     "text": [
      "Requirement already satisfied: mip in c:\\users\\lenovo\\appdata\\local\\packages\\pythonsoftwarefoundation.python.3.11_qbz5n2kfra8p0\\localcache\\local-packages\\python311\\site-packages (1.15.0)\n",
      "Requirement already satisfied: cffi==1.15.* in c:\\users\\lenovo\\appdata\\local\\packages\\pythonsoftwarefoundation.python.3.11_qbz5n2kfra8p0\\localcache\\local-packages\\python311\\site-packages (from mip) (1.15.1)\n",
      "Requirement already satisfied: pycparser in c:\\users\\lenovo\\appdata\\local\\packages\\pythonsoftwarefoundation.python.3.11_qbz5n2kfra8p0\\localcache\\local-packages\\python311\\site-packages (from cffi==1.15.*->mip) (2.22)\n",
      "Note: you may need to restart the kernel to use updated packages.\n"
     ]
    },
    {
     "name": "stderr",
     "output_type": "stream",
     "text": [
      "\n",
      "[notice] A new release of pip is available: 24.0 -> 24.3.1\n",
      "[notice] To update, run: C:\\Users\\Lenovo\\AppData\\Local\\Microsoft\\WindowsApps\\PythonSoftwareFoundation.Python.3.11_qbz5n2kfra8p0\\python.exe -m pip install --upgrade pip\n"
     ]
    }
   ],
   "source": [
    "%pip install mip\n",
    "\n",
    "from mip import *"
   ]
  },
  {
   "cell_type": "markdown",
   "metadata": {},
   "source": [
    "# Criação do modelo"
   ]
  },
  {
   "cell_type": "markdown",
   "metadata": {},
   "source": [
    "$$\\min 1.5 x_0 + 2 x_1 + 3 x_2 + 0.8 x_3$$\n",
    "S.a.\n",
    "$$7 x_0 + 8 x_1 + 30 x_2 + 6 x_3 \\geq 3$$\n",
    "$$550 x_0 + 300 x_1 + 400 x_2 + 250 x_3 \\geq 50$$\n",
    "$$x_0, x_1, x_2, x_3 \\geq 0$$\n"
   ]
  },
  {
   "cell_type": "code",
   "execution_count": null,
   "metadata": {},
   "outputs": [],
   "source": [
    "modelo = Model(sense=MINIMIZE, solver_name=CBC)\n",
    "\n",
    "# Criação da variável\n",
    "x = [modelo.add_var(var_type=CONTINUOUS, name=f\"x_{i}\", lb=0.0) for i in range(4)]\n",
    "\n",
    "# Função objetivo = minimizar custo total\n",
    "modelo.objective = 1.5*x[0] + 2*x[1] + 3*x[2] + 0.8*x[3]\n",
    "\n",
    "# Restrição: quantidade minína de vitamina A\n",
    "modelo += 7*x[0] + 8*x[1] + 30*x[2] + 6*x[3] >= 3\n",
    "\n",
    "# Restrição: quantidade miníma de vitamina C\n",
    "modelo += 550*x[0] + 300*x[1] + 400*x[2] + 250*x[3] >= 50\n",
    "\n",
    "modelo.write(\"modelo.lp\") # salva modelo em arquivo\n",
    "with open(\"modelo.lp\") as f: # Lê e exibe conteúdo do arquivo\n",
    "  print(f.read())"
   ]
  },
  {
   "cell_type": "code",
   "execution_count": null,
   "metadata": {},
   "outputs": [],
   "source": [
    "status = modelo.optimize()\n",
    "\n",
    "print(\"Status = \", status)\n",
    "print(f\"Solution value  = {modelo.objective_value:.4f}\\n\")\n",
    "\n",
    "print(\"Solution:\")\n",
    "for v in modelo.vars:\n",
    "  print(f\"{v.name} = {v.x:.4f}\")"
   ]
  }
 ],
 "metadata": {
  "kernelspec": {
   "display_name": "Python 3",
   "language": "python",
   "name": "python3"
  },
  "language_info": {
   "codemirror_mode": {
    "name": "ipython",
    "version": 3
   },
   "file_extension": ".py",
   "mimetype": "text/x-python",
   "name": "python",
   "nbconvert_exporter": "python",
   "pygments_lexer": "ipython3",
   "version": "3.11.9"
  }
 },
 "nbformat": 4,
 "nbformat_minor": 2
}
